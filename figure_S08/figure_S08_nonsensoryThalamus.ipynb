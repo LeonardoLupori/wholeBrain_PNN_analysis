{
 "cells": [
  {
   "cell_type": "code",
   "execution_count": null,
   "metadata": {},
   "outputs": [],
   "source": [
    "import pandas as pd\n",
    "import numpy as np\n",
    "import seaborn as sns\n",
    "import matplotlib.pyplot as plt\n",
    "from matplotlib import cm\n",
    "\n",
    "from scipy.stats import zscore, ttest_ind\n",
    "\n",
    "import sys, os\n",
    "sys.path.append(r'{}'.format(os.path.abspath(os.pardir)))\n",
    "\n",
    "# Custom packages\n",
    "from wholebrain_tools import aba, dataIO\n",
    "import wholebrain_tools.graphics as gt\n",
    "\n",
    "# You can provide a \"structures.json\" file. If you dont, it will download one\n",
    "paths = dataIO.pathParser()\n",
    "structuresFile = paths.structures\n",
    "A = aba.Atlas(nodes=structuresFile)\n",
    "DFM = aba.AnatomyDataFrameManager(A)"
   ]
  },
  {
   "cell_type": "markdown",
   "metadata": {},
   "source": [
    "# Load connectome data\n",
    "\n",
    "In this cell we load an XLSX file containing the mouse connectome from Oh et al., 2014\n",
    "(A mesoscale connectome of the mouse brain).  \n",
    "\n",
    "The data used here is in **Supplementary Table 3**\n",
    "> Quantitative projection strength values underlying the linear model based \n",
    "> Connectivity Matrix in figure 4a.  \n",
    "> The 213 anatomical regions as both source regions (in rows) and target regions on \n",
    "> both ipsilateral and contralateral hemispheres (in columns) are shown here.\n",
    "\n",
    "Connection strength between each area pair is given separately for the ipsilateral\n",
    "and contralateral connections.  \n",
    "\n",
    "We preprocess the data and **sum** the connection strength to both emispheres."
   ]
  },
  {
   "cell_type": "code",
   "execution_count": null,
   "metadata": {},
   "outputs": [],
   "source": [
    "connectomeFileName = paths.connectome\n",
    "connectome = dataIO.loadConnectomeFromFile(connectomeFileName, A)\n",
    "\n",
    "# Select only connections with the cortex (areaID: 315) as a target\n",
    "connectome = connectome[315].sort_index(level=[0,1])\n",
    "\n",
    "# connectome.head()"
   ]
  },
  {
   "cell_type": "markdown",
   "metadata": {},
   "source": [
    "# Load and prepare data"
   ]
  },
  {
   "cell_type": "code",
   "execution_count": null,
   "metadata": {},
   "outputs": [],
   "source": [
    "# --------------------------------------------------------------------\n",
    "searchPath = paths.alldata\n",
    "channelName = 'wfa'     # 'wfa' or 'pv'\n",
    "# --------------------------------------------------------------------\n",
    "\n",
    "df = dataIO.allMiceRegions(searchPath=searchPath, channelName=channelName, normCellIntens=True)\n",
    "df = DFM.multiIndexDf_from_fineDf(df, verbose=True)\n",
    "\n",
    "# Rename 2 secondary visual areas as the old nomenclature.\n",
    "# This is necessary since the ABA mouse connectome refers to an older version of \n",
    "# the Allen Atlas where some cortical areas (previously with ID:22) were not yet \n",
    "# divided in distinct subregions.\n",
    "df.rename(index={417:22, 312782546:22}, inplace=True)\n",
    "\n",
    "# Dataframe of cortical layers\n",
    "cortex_df = DFM.regionsDf_to_corticalLayers(df, normalize=True, verbose=True)\n",
    "\n",
    "# Average values across mice\n",
    "layers_df = cortex_df.groupby(level='params',axis=1).mean()\n",
    "\n",
    "layers_df"
   ]
  },
  {
   "cell_type": "markdown",
   "metadata": {},
   "source": [
    "# Correlation analysis"
   ]
  },
  {
   "cell_type": "markdown",
   "metadata": {},
   "source": [
    "## PNN Energy"
   ]
  },
  {
   "cell_type": "code",
   "execution_count": null,
   "metadata": {},
   "outputs": [],
   "source": [
    "# Thalamus: 549\n",
    "# Thalamus, sensory-motor cortex related: 864\n",
    "# Thalamus, polymodal association cortex related: 856\n",
    "sourceRegionId = 856\n",
    "selectedMetric = 'energy'       # energy or diffuseFluo\n",
    "# ------------------------------------------------------------------------------\n",
    "\n",
    "# Select afferents coming from the desired source region specified by sourceRegionId\n",
    "idList = connectome.index.get_level_values('mid')\n",
    "filter = [A.structure_descends_from(x, sourceRegionId) for x in idList]\n",
    "afferents = connectome.loc[filter].sum(axis=0)\n",
    "afferents.name = 'afferents'\n",
    "\n",
    "# Merge afferents with the cortical dataframe\n",
    "metric_df = layers_df[selectedMetric].unstack('layer')\n",
    "merged = metric_df.join(afferents)\n",
    "# merged = merged.apply(zscore, nan_policy='omit')\n",
    "merged.head()\n",
    "\n",
    "# Select only sensory cortical areas\n",
    "sensoryIds = dataIO.customSensoryAreaIds(oldAtlasNumbers=True)\n",
    "merged = merged.loc[sensoryIds]\n",
    "# Z-score each column\n",
    "merged = merged.apply(zscore, nan_policy='omit', axis=0)\n",
    "# Remove rows with a NaN\n",
    "merged = merged.dropna(axis=0, how='any')\n",
    "merged"
   ]
  },
  {
   "cell_type": "code",
   "execution_count": null,
   "metadata": {},
   "outputs": [],
   "source": [
    "f, axs = plt.subplots(nrows=1, ncols=5, figsize=(18,3), squeeze=True)\n",
    "layers=['1','2/3','4','5','6']\n",
    "\n",
    "for i, ax in enumerate(f.axes):\n",
    "    gt.connectomeCorrelationScatterplot(\n",
    "        merged,\n",
    "        A,\n",
    "        ax=ax,\n",
    "        layer=layers[i],\n",
    "        txtLoc='tl',\n",
    "        title= 'Layer '+ layers[i],\n",
    "        xlabel='Thalamic Input (z-score)' if i==0 else None,\n",
    "        ylabel='PNN Energy\\n(z-score)' if i==0 else None,\n",
    "        fontScaling=1\n",
    "        )\n",
    "\n",
    "# plt.savefig(\"thalamusConnection_energy.svg\", bbox_inches=\"tight\")"
   ]
  },
  {
   "cell_type": "markdown",
   "metadata": {},
   "source": [
    "## WFA Diffuse Fluorescence"
   ]
  },
  {
   "cell_type": "code",
   "execution_count": null,
   "metadata": {},
   "outputs": [],
   "source": [
    "# Thalamus: 549\n",
    "# Thalamus, sensory-motor cortex related: 864\n",
    "# Thalamus, polymodal association cortex related: 856\n",
    "sourceRegionId = 856\n",
    "selectedMetric = 'diffuseFluo'       # energy or diffuseFluo\n",
    "# ------------------------------------------------------------------------------\n",
    "\n",
    "# Select afferents coming from the desired source region specified by sourceRegionId\n",
    "idList = connectome.index.get_level_values('mid')\n",
    "filter = [A.structure_descends_from(x, sourceRegionId) for x in idList]\n",
    "afferents = connectome.loc[filter].sum(axis=0)\n",
    "afferents.name = 'afferents'\n",
    "\n",
    "# Merge afferents with the cortical dataframe\n",
    "metric_df = layers_df[selectedMetric].unstack('layer')\n",
    "merged = metric_df.join(afferents)\n",
    "# merged = merged.apply(zscore, nan_policy='omit')\n",
    "merged.head()\n",
    "\n",
    "# Select only sensory cortical areas\n",
    "sensoryIds = dataIO.customSensoryAreaIds(oldAtlasNumbers=True)\n",
    "merged = merged.loc[sensoryIds]\n",
    "# Z-score each column\n",
    "merged = merged.apply(zscore, nan_policy='omit', axis=0)\n",
    "# Remove rows with a NaN\n",
    "merged = merged.dropna(axis=0, how='any')\n",
    "merged"
   ]
  },
  {
   "cell_type": "code",
   "execution_count": null,
   "metadata": {},
   "outputs": [],
   "source": [
    "f, axs = plt.subplots(nrows=1, ncols=5, figsize=(18,3), squeeze=True)\n",
    "layers=['1','2/3','4','5','6']\n",
    "\n",
    "for i, ax in enumerate(f.axes):\n",
    "    gt.connectomeCorrelationScatterplot(\n",
    "        merged,\n",
    "        A,\n",
    "        ax=ax,\n",
    "        layer=layers[i],\n",
    "        txtLoc='tl',\n",
    "        title= 'Layer '+ layers[i],\n",
    "        xlabel='Thalamic Input (z-score)' if i==0 else None,\n",
    "        ylabel='WFA Diffuse Fluorescence\\n(z-score)' if i==0 else None,\n",
    "        fontScaling=1\n",
    "        )\n",
    "\n",
    "# plt.savefig(\"thalamusConnection_diff.svg\", bbox_inches=\"tight\")"
   ]
  }
 ],
 "metadata": {
  "kernelspec": {
   "display_name": "Python 3.8.0 ('testDep')",
   "language": "python",
   "name": "python3"
  },
  "language_info": {
   "codemirror_mode": {
    "name": "ipython",
    "version": 3
   },
   "file_extension": ".py",
   "mimetype": "text/x-python",
   "name": "python",
   "nbconvert_exporter": "python",
   "pygments_lexer": "ipython3",
   "version": "3.8.0"
  },
  "orig_nbformat": 4,
  "vscode": {
   "interpreter": {
    "hash": "e0a906415e94d273e575e1e2a0f841fcdfffd22ae0b6d7ea2c128de14c0bf44a"
   }
  }
 },
 "nbformat": 4,
 "nbformat_minor": 2
}
