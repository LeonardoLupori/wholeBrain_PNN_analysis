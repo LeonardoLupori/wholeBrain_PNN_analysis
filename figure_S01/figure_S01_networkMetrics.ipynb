{
 "cells": [
  {
   "cell_type": "code",
   "execution_count": null,
   "metadata": {},
   "outputs": [],
   "source": [
    "import pandas as pd\n",
    "import seaborn as sns\n",
    "import matplotlib.pyplot as plt\n",
    "import numpy as np\n",
    "import matplotlib.cm as cm\n",
    "from scipy.stats import pearsonr"
   ]
  },
  {
   "cell_type": "markdown",
   "metadata": {},
   "source": [
    "# Scorers agreement heatmap for PNNs"
   ]
  },
  {
   "cell_type": "code",
   "execution_count": null,
   "metadata": {},
   "outputs": [],
   "source": [
    "pnnFileName = 'pnn_heatmap_agreement.csv'\n",
    "pvFileName = 'pv_heatmap_agreement.csv'\n",
    "\n",
    "pnn_df = pd.read_csv(pnnFileName,index_col=0)\n",
    "pv_df = pd.read_csv(pvFileName,index_col=0)\n",
    "\n",
    "# Change labers to uppercase\n",
    "pnn_df.columns = pnn_df.columns.str.upper()\n",
    "pnn_df.index = pnn_df.index.str.upper()\n",
    "pv_df.columns = pv_df.columns.str.upper()\n",
    "pv_df.index = pv_df.index.str.upper()\n",
    "\n",
    "pnn_mask = np.zeros_like(pnn_df)\n",
    "pv_mask = np.zeros_like(pnn_df)\n",
    "pnn_mask[np.triu_indices_from(pnn_mask)] = True\n",
    "pv_mask[np.tril_indices_from(pv_mask)] = True\n",
    "\n",
    "f, ax = plt.subplots(figsize=(6, 5))\n",
    "sns.set_style('white')\n",
    "\n",
    "g = sns.heatmap(pnn_df,\n",
    "    mask=pnn_mask,\n",
    "    vmin = 0.5,\n",
    "    vmax=0.8,\n",
    "    square=True,\n",
    "    linewidths=.5,\n",
    "    cmap='PuBu'\n",
    "    )\n",
    "\n",
    "sns.heatmap(pv_df,\n",
    "    mask=pv_mask,\n",
    "    vmin = 0.5,\n",
    "    vmax=0.8,\n",
    "    square=True,\n",
    "    linewidths=.5,\n",
    "    cmap='BuGn'\n",
    "    )\n",
    "\n",
    "f.axes[1].tick_params(labelsize=16)\n",
    "f.axes[1].set_ylabel('PNN Agreement', fontsize=20)\n",
    "f.axes[2].tick_params(labelsize=16)\n",
    "f.axes[2].set_ylabel('PV cells Agreement', fontsize=20)\n",
    "ax.tick_params(labelsize=14)\n",
    "\n",
    "# plt.savefig(\"heatmapAgreement.svg\", bbox_inches=\"tight\")"
   ]
  },
  {
   "cell_type": "markdown",
   "metadata": {},
   "source": [
    "# Scorers correlation PNNs"
   ]
  },
  {
   "cell_type": "code",
   "execution_count": null,
   "metadata": {},
   "outputs": [],
   "source": [
    "# Read data\n",
    "data = pd.read_csv('pnn_agreement_scores.csv')\n",
    "data = data.dropna(axis=0,how='any')\n",
    "data['agreement'] = data['agreement'].astype(int)\n",
    "\n",
    "sns.set_style('white')\n",
    "f, ax = plt.subplots(figsize=(5,6))\n",
    "\n",
    "# Boxplot\n",
    "g = sns.boxplot(data=data, x='agreement', y='score', palette='PuBu')\n",
    "\n",
    "# Regression line\n",
    "lineColor = cm.get_cmap(\"OrRd\")(0.85)\n",
    "sns.regplot(data=data, x='agreement', y='score', scatter=False, color=lineColor)\n",
    "\n",
    "# Spearman correlation\n",
    "coeff, pval = pearsonr(data['agreement'],data['score'])\n",
    "# p string\n",
    "if pval<1e-100:\n",
    "    s=\"$p < $1e-100\"\n",
    "else:\n",
    "    s=f\"$p = ${pval:0.1e}\".replace('e-0','e-'),\n",
    "textColor = cm.get_cmap(\"OrRd\")(0.85)\n",
    "# Print text for correlation results\n",
    "plt.text(x = 0.05, y = 0.8+0.12,\n",
    "    s=r\"$r$\" + f\"$ = ${coeff:0.2}\",\n",
    "    fontsize=24,\n",
    "    transform=ax.transAxes,\n",
    "    horizontalalignment='left',\n",
    "    color = textColor if pval <0.05 else 'dimgray'\n",
    ")\n",
    "plt.text(x = 0.05, y = 0.83,\n",
    "    s=s,\n",
    "    fontsize=24,\n",
    "    transform=ax.transAxes,\n",
    "    horizontalalignment='left',\n",
    "    color = textColor if pval <0.05 else 'dimgray'\n",
    ")\n",
    "\n",
    "g.set_ylabel(\"Assigned score (Z-score)\", fontsize=22)\n",
    "g.set_xlabel(\"Agreement\", fontsize=20)\n",
    "g.set_title(\"Scoring step for PNNs\", fontsize=24)\n",
    "g.tick_params(labelsize=18)\n",
    "sns.despine()\n",
    "\n",
    "# plt.savefig(\"scoringMetricsPnn.svg\", bbox_inches=\"tight\")"
   ]
  },
  {
   "cell_type": "markdown",
   "metadata": {},
   "source": [
    "# Scorers correlation for PV cells"
   ]
  },
  {
   "cell_type": "code",
   "execution_count": null,
   "metadata": {},
   "outputs": [],
   "source": [
    "# Read data\n",
    "data = pd.read_csv('pv_agreement_scores.csv')\n",
    "data = data.dropna(axis=0,how='any')\n",
    "data['agreement'] = data['agreement'].astype(int)\n",
    "\n",
    "sns.set_style('white')\n",
    "f, ax = plt.subplots(figsize=(5,6))\n",
    "\n",
    "# Boxplot\n",
    "g = sns.boxplot(data=data, x='agreement', y='score', palette='BuGn')\n",
    "\n",
    "# Regression line\n",
    "lineColor = cm.get_cmap(\"OrRd\")(0.85)\n",
    "sns.regplot(data=data, x='agreement', y='score', scatter=False, color=lineColor)\n",
    "\n",
    "# Spearman correlation\n",
    "coeff, pval = pearsonr(data['agreement'],data['score'])\n",
    "# p string\n",
    "if pval<1e-100:\n",
    "    s=\"$p < $1e-100\"\n",
    "else:\n",
    "    s=f\"$p = ${pval:0.1e}\".replace('e-0','e-'),\n",
    "textColor = cm.get_cmap(\"OrRd\")(0.85)\n",
    "# Print text for correlation results\n",
    "plt.text(x = 0.05, y = 0.8+0.12,\n",
    "    s=r\"$r$\" + f\"$ = ${coeff:0.2}\",\n",
    "    fontsize=24,\n",
    "    transform=ax.transAxes,\n",
    "    horizontalalignment='left',\n",
    "    color = textColor if pval <0.05 else 'dimgray'\n",
    ")\n",
    "plt.text(x = 0.05, y = 0.83,\n",
    "    s=s,\n",
    "    fontsize=24,\n",
    "    transform=ax.transAxes,\n",
    "    horizontalalignment='left',\n",
    "    color = textColor if pval <0.05 else 'dimgray'\n",
    ")\n",
    "\n",
    "g.set_ylabel(\"Assigned score (Z-score)\", fontsize=22)\n",
    "g.set_xlabel(\"Agreement\", fontsize=20)\n",
    "g.set_title(\"Scoring step for PV cells\", fontsize=24)\n",
    "g.tick_params(labelsize=18)\n",
    "sns.despine()\n",
    "\n",
    "# plt.savefig(\"scoringMetricsPv.svg\", bbox_inches=\"tight\")"
   ]
  }
 ],
 "metadata": {
  "kernelspec": {
   "display_name": "Python 3.7.9 ('wholeBrain')",
   "language": "python",
   "name": "python3"
  },
  "language_info": {
   "codemirror_mode": {
    "name": "ipython",
    "version": 3
   },
   "file_extension": ".py",
   "mimetype": "text/x-python",
   "name": "python",
   "nbconvert_exporter": "python",
   "pygments_lexer": "ipython3",
   "version": "3.7.9"
  },
  "orig_nbformat": 4,
  "vscode": {
   "interpreter": {
    "hash": "259a6d228bef4ac2b4d3c495b10afcf363ca52ddebd1bd03c03d073a07d068b3"
   }
  }
 },
 "nbformat": 4,
 "nbformat_minor": 2
}
