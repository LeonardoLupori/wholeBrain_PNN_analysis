{
 "cells": [
  {
   "cell_type": "code",
   "execution_count": null,
   "metadata": {},
   "outputs": [],
   "source": [
    "import seaborn as sns\n",
    "import matplotlib.pyplot as plt\n",
    "\n",
    "\n",
    "# Append the analysis folder so that you can import custom packages\n",
    "import sys, os\n",
    "sys.path.append(r'{}'.format(os.path.abspath(os.pardir)))\n",
    "\n",
    "# Custom packages\n",
    "from wholebrain_tools import aba, dataIO\n",
    "from wholebrain_tools import pvnegative as neg\n",
    "\n",
    "from wholebrain_tools import graphics as gt\n",
    "\n",
    "\n",
    "# Instantiate an Atlas object from the aba module \n",
    "# The first time you run this it will download the structures.json file from the Allen Institute server\n",
    "paths = dataIO.pathParser()\n",
    "structuresFile = paths.structures\n",
    "A = aba.Atlas(nodes=structuresFile)\n",
    "DFM = aba.AnatomyDataFrameManager(A)"
   ]
  },
  {
   "cell_type": "markdown",
   "metadata": {},
   "source": [
    "# 1. Load all data\n",
    "\n",
    "Loads data for **diffuse fluorescence** and **dots** for a **single channel** and \n",
    "creates a multi-index dataframe (df) containing raw measurements for all areas\n",
    "of the brain at high resolution"
   ]
  },
  {
   "cell_type": "code",
   "execution_count": null,
   "metadata": {},
   "outputs": [],
   "source": [
    "# --------------------------------------------------------------------\n",
    "searchPath = paths.alldata\n",
    "channelName = 'wfa'     # 'wfa' or 'pv'\n",
    "# --------------------------------------------------------------------\n",
    "\n",
    "df = dataIO.allMiceRegions(searchPath=searchPath, channelName=channelName, normCellIntens=True)\n",
    "\n"
   ]
  },
  {
   "cell_type": "code",
   "execution_count": null,
   "metadata": {},
   "outputs": [],
   "source": [
    "#LOAD PV- DATA\n",
    "\n",
    "# load the cell dataframe\n",
    "df_cells = dataIO.allMiceDots(searchPath,normCellInt = True )\n",
    "# exclude pv cells\n",
    "df_cells = df_cells[(df_cells['wfa'] == 1)&(df_cells['pv'] == 0)]\n",
    "# quantify data\n",
    "dotsGroup = df_cells.groupby(by=['mouse', 'regionID']).agg(\n",
    "            numCells = ('wfa','sum'),\n",
    "            fluoCellSum = ('fluoMeanWfa','sum'))\n",
    "#remove nans\n",
    "dotsGroup['numCells'] = dotsGroup['numCells'].fillna(0)\n",
    "dotsGroup = dotsGroup.reset_index()\n",
    "#reshape the datafra,e\n",
    "dotsGroup = dotsGroup.pivot(index='regionID',columns = 'mouse').reorder_levels(['mouse', None ] ,axis= 'columns').sort_index(axis = 1)\n",
    "#name columns consistentely\n",
    "dotsGroup.columns = dotsGroup.columns.set_names(['mouse', 'params'])\n",
    "\n",
    "#replace data in the source df\n",
    "df_neg = df.copy()\n",
    "df_neg.update(dotsGroup)\n",
    "#create multiindex\n",
    "df_neg = DFM.multiIndexDf_from_fineDf(df_neg)\n",
    "df_neg"
   ]
  },
  {
   "cell_type": "code",
   "execution_count": null,
   "metadata": {},
   "outputs": [],
   "source": [
    "#LOAD total data\n",
    "df_total = DFM.multiIndexDf_from_fineDf(df)\n",
    "brainEnergy , brainDiffFluo =DFM.wholeBrainMetrics(df_total)"
   ]
  },
  {
   "cell_type": "markdown",
   "metadata": {},
   "source": [
    "# 3. Coarse ontology bar plots\n",
    "Aggregate data at coarse ontology level"
   ]
  },
  {
   "cell_type": "code",
   "execution_count": null,
   "metadata": {},
   "outputs": [],
   "source": [
    "# Dataframe at coarse ontology\n",
    "total_coarse = DFM.regionsDf_to_coarse(df_total, normalize=True)\n",
    "coarse_neg = neg.subsetDf_to_coarse(df_neg,A, normEnergy=brainEnergy, normDiffuse=brainDiffFluo ,normalize=True)\n"
   ]
  },
  {
   "cell_type": "markdown",
   "metadata": {},
   "source": [
    "## 3.2 Barplot - PNN Energy"
   ]
  },
  {
   "cell_type": "code",
   "execution_count": null,
   "metadata": {},
   "outputs": [],
   "source": [
    "energy = coarse_neg.xs('energy', axis=1, level='params')\n",
    "energy_tot = total_coarse.xs('energy', axis=1, level='params')\n",
    "# Plot the data\n",
    "g = gt.coarseOntologyBarplot(energy, A, \n",
    "    title='Whole Brain',#r'PV$^{-}$ PNN Energy',\n",
    "    cmap='OrRd',\n",
    "    xlabel='Fold Enrichment',\n",
    "    areaNames=True,\n",
    "    )\n",
    "\n",
    "data = energy_tot.melt(ignore_index=False).reset_index()\n",
    "g =sns.barplot(\n",
    "    data, \n",
    "    x =  'value', \n",
    "    y = A.ids_to_names(data['coarse']), \n",
    "    zorder = 0, \n",
    "    errorbar=None,\n",
    "    edgecolor = 'lightgray',\n",
    "    linewidth=.5,\n",
    "    color='lightgray',\n",
    "    ax=g\n",
    ")\n",
    "\n",
    "\n",
    "# maxen = energy_tot.mean(axis='columns').max()\n",
    "\n",
    "g.set_xlabel(r'PV$^{-}$ PNN Energy (A.U.)')\n",
    "savepath = os.getcwd()\n",
    "# plt.savefig(os.path.join(savepath,'pvneg_atlas', f\"coarse_areas.pdf\"), bbox_inches=\"tight\")\n",
    "\n"
   ]
  },
  {
   "cell_type": "code",
   "execution_count": null,
   "metadata": {},
   "outputs": [],
   "source": [
    "total_mid = DFM.regionsDf_to_mid(df_total, normalize=True)\n",
    "neg_mid = neg.subsetDf_to_mid(df_neg,A, normEnergy=brainEnergy, normDiffuse=brainDiffFluo ,normalize=True)"
   ]
  },
  {
   "cell_type": "code",
   "execution_count": null,
   "metadata": {},
   "outputs": [],
   "source": [
    "energy_mid = total_mid.xs('energy', axis='columns', level='params')\n",
    "energy_neg_mid = neg_mid.xs('energy', axis='columns', level='params')"
   ]
  },
  {
   "cell_type": "code",
   "execution_count": null,
   "metadata": {},
   "outputs": [],
   "source": [
    "for areaid in A.get_major_divisions_ids():\n",
    "    gt.energySubsetBarplot(neg_mid.loc[areaid], A, x='energy',\n",
    "                                    figsize=(6,6), cmap='OrRd',\n",
    "                                    xlabel=r'PV$^{-}$ PNN Energy (A.U.)', title = A.ids_to_names([areaid])[0],\n",
    "                                    fontScaling = 1, adaptiveHeight=True, dots=False)\n",
    "\n",
    "    ax = plt.gca()\n",
    "    meltedData = energy_mid.loc[areaid].melt(ignore_index=False)\n",
    "    sns.barplot(\n",
    "                    data=meltedData.dropna(),\n",
    "                    ax=ax,\n",
    "                    y=A.ids_to_names(meltedData.dropna().index.tolist()),\n",
    "                    x='value',\n",
    "                    orient=\"h\",\n",
    "                    alpha=1,\n",
    "                    linewidth=.5,\n",
    "                    edgecolor=\"lightgray\",\n",
    "                    color='lightgray',\n",
    "                    errorbar=None,zorder = 0,\n",
    "                )\n",
    "\n",
    "    plt.xlabel(r'PV$^{-}$ PNN Energy (A.U.)')\n",
    "    # plt.savefig(os.path.join(savepath,'pvneg_atlas', f\"energy_diff_mid_{A.ids_to_acronyms([areaid])[0]}.svg\"), bbox_inches=\"tight\")\n",
    "\n"
   ]
  }
 ],
 "metadata": {
  "kernelspec": {
   "display_name": "Python 3.8.0 ('pnnatlas')",
   "language": "python",
   "name": "python3"
  },
  "language_info": {
   "codemirror_mode": {
    "name": "ipython",
    "version": 3
   },
   "file_extension": ".py",
   "mimetype": "text/x-python",
   "name": "python",
   "nbconvert_exporter": "python",
   "pygments_lexer": "ipython3",
   "version": "3.9.16"
  },
  "orig_nbformat": 4,
  "vscode": {
   "interpreter": {
    "hash": "eb9b05a023cb0337c51761f78a0c6634fc896ffd0dc5040e9e8f7090450a0310"
   }
  }
 },
 "nbformat": 4,
 "nbformat_minor": 2
}
