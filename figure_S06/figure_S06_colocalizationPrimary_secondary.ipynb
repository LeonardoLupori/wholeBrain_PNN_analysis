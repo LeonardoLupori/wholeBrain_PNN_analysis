{
 "cells": [
  {
   "cell_type": "code",
   "execution_count": null,
   "metadata": {},
   "outputs": [],
   "source": [
    "import matplotlib.pyplot as plt\n",
    "# For statistics\n",
    "from scipy.stats import ttest_rel\n",
    "\n",
    "import sys\n",
    "sys.path.append(r'C:\\Users\\Leonardo\\Documents\\MATLAB\\PNN_wholeBrain\\analysis')\n",
    "\n",
    "# Custom packages\n",
    "import dataIO\n",
    "import AbaTool\n",
    "import GraphicTool as gt\n",
    "\n",
    "# Instantiate an Atlas object from the AbaTool.py file \n",
    "# The first time you run this it will download the structures.json file from the Allen Institute server\n",
    "structuresFile = r\"C:\\Users\\Leonardo\\Documents\\MATLAB\\PNN_wholeBrain\\structures.json\"\n",
    "A = AbaTool.Atlas(nodes=structuresFile)\n",
    "DFM = AbaTool.AnatomyDataFrameManager(A)"
   ]
  },
  {
   "cell_type": "markdown",
   "metadata": {},
   "source": [
    "# Load data"
   ]
  },
  {
   "cell_type": "code",
   "execution_count": null,
   "metadata": {},
   "outputs": [],
   "source": [
    "# ------------------------------------------------------------------------------\n",
    "searchpath =  r'D:\\PizzorussoLAB\\proj_PNN-highFatDiet\\RESULTS\\colocalization'\n",
    "# ------------------------------------------------------------------------------\n",
    "\n",
    "# Load dots data from all aniamls\n",
    "df = dataIO.allMiceDots(searchpath)\n",
    "df = DFM.multiIndexDf_from_dotsDf(df)\n",
    "\n",
    "df.head()"
   ]
  },
  {
   "cell_type": "markdown",
   "metadata": {},
   "source": [
    "# Visual Areas"
   ]
  },
  {
   "cell_type": "markdown",
   "metadata": {},
   "source": [
    "## Barplots - Primary vs Associative\n",
    "\n",
    "Aggregate data for this sensory system"
   ]
  },
  {
   "cell_type": "code",
   "execution_count": null,
   "metadata": {},
   "outputs": [],
   "source": [
    "sensory_df = DFM.colocDf_to_sensorySystems(df, 'visual', mergeLayers=True)\n",
    "# Select only control animals\n",
    "sensory_df = sensory_df.xs('CTR', axis=1, level='treat')\n",
    "sensory_df = sensory_df * 100\n",
    "\n",
    "sensory_df.head()"
   ]
  },
  {
   "cell_type": "markdown",
   "metadata": {},
   "source": [
    "### WFA Positive PV cells"
   ]
  },
  {
   "cell_type": "code",
   "execution_count": null,
   "metadata": {},
   "outputs": [],
   "source": [
    "# Statistics\n",
    "stat, pval = ttest_rel(\n",
    "    sensory_df.xs('wfaPositive_pv', axis=1, level='params').loc['primary'],\n",
    "    sensory_df.xs('wfaPositive_pv', axis=1, level='params').loc['associative'])\n",
    "print(f'Rep. measures T-Test Primary vs Associative\\nt: {stat:.4f} p: {pval:.4f}')\n",
    "\n",
    "#Plot\n",
    "gt.primaryAreasBarplot(\n",
    "    sensory_df,\n",
    "    metric='wfaPositive_pv',\n",
    "    cmap='pink_r',\n",
    "    ylabel='WFA$^+$ PV cells (%)')\n",
    "\n",
    "plt.savefig(\"VIS_primaryAssociative_grouped_coloc.svg\", bbox_inches=\"tight\")"
   ]
  },
  {
   "cell_type": "markdown",
   "metadata": {},
   "source": [
    "# Auditory Areas"
   ]
  },
  {
   "cell_type": "markdown",
   "metadata": {},
   "source": [
    "## Barplots - Primary vs Associative\n",
    "\n",
    "Aggregate data for this sensory system"
   ]
  },
  {
   "cell_type": "code",
   "execution_count": null,
   "metadata": {},
   "outputs": [],
   "source": [
    "sensory_df = DFM.colocDf_to_sensorySystems(df, 'auditory', mergeLayers=True)\n",
    "# Select only control animals\n",
    "sensory_df = sensory_df.xs('CTR', axis=1, level='treat')\n",
    "sensory_df = sensory_df * 100\n",
    "\n",
    "sensory_df.head()"
   ]
  },
  {
   "cell_type": "markdown",
   "metadata": {},
   "source": [
    "### WFA Positive PV cells"
   ]
  },
  {
   "cell_type": "code",
   "execution_count": null,
   "metadata": {},
   "outputs": [],
   "source": [
    "# Statistics\n",
    "stat, pval = ttest_rel(\n",
    "    sensory_df.xs('wfaPositive_pv', axis=1, level='params').loc['primary'],\n",
    "    sensory_df.xs('wfaPositive_pv', axis=1, level='params').loc['associative'])\n",
    "print(f'Rep. measures T-Test Primary vs Associative\\nt: {stat:.4f} p: {pval:.4f}')\n",
    "\n",
    "#Plot\n",
    "gt.primaryAreasBarplot(\n",
    "    sensory_df,\n",
    "    metric='wfaPositive_pv',\n",
    "    cmap='pink_r',\n",
    "    ylabel='WFA$^+$ PV cells (%)')\n",
    "\n",
    "plt.savefig(\"AUD_primaryAssociative_grouped_coloc.svg\", bbox_inches=\"tight\")"
   ]
  },
  {
   "cell_type": "markdown",
   "metadata": {},
   "source": [
    "# Somatosensory Areas"
   ]
  },
  {
   "cell_type": "markdown",
   "metadata": {},
   "source": [
    "## Barplots - Primary vs Associative\n",
    "\n",
    "Aggregate data for this sensory system"
   ]
  },
  {
   "cell_type": "code",
   "execution_count": null,
   "metadata": {},
   "outputs": [],
   "source": [
    "sensory_df = DFM.colocDf_to_sensorySystems(df, 'somatosensory', mergeLayers=True)\n",
    "# Select only control animals\n",
    "sensory_df = sensory_df.xs('CTR', axis=1, level='treat')\n",
    "sensory_df = sensory_df * 100\n",
    "\n",
    "sensory_df.head()"
   ]
  },
  {
   "cell_type": "markdown",
   "metadata": {},
   "source": [
    "### WFA Positive PV cells"
   ]
  },
  {
   "cell_type": "code",
   "execution_count": null,
   "metadata": {},
   "outputs": [],
   "source": [
    "# Statistics\n",
    "stat, pval = ttest_rel(\n",
    "    sensory_df.xs('wfaPositive_pv', axis=1, level='params').loc['primary'],\n",
    "    sensory_df.xs('wfaPositive_pv', axis=1, level='params').loc['associative'])\n",
    "print(f'Rep. measures T-Test Primary vs Associative\\nt: {stat:.4f} p: {pval:.4f}')\n",
    "\n",
    "#Plot\n",
    "gt.primaryAreasBarplot(\n",
    "    sensory_df,\n",
    "    metric='wfaPositive_pv',\n",
    "    cmap='pink_r',\n",
    "    ylabel='WFA$^+$ PV cells (%)')\n",
    "\n",
    "plt.savefig(\"SS_primaryAssociative_grouped_coloc.svg\", bbox_inches=\"tight\")"
   ]
  }
 ],
 "metadata": {
  "kernelspec": {
   "display_name": "Python 3.7.0 ('allen')",
   "language": "python",
   "name": "python3"
  },
  "language_info": {
   "codemirror_mode": {
    "name": "ipython",
    "version": 3
   },
   "file_extension": ".py",
   "mimetype": "text/x-python",
   "name": "python",
   "nbconvert_exporter": "python",
   "pygments_lexer": "ipython3",
   "version": "3.7.0"
  },
  "orig_nbformat": 4,
  "vscode": {
   "interpreter": {
    "hash": "5b41230a79c73660caffd1be412225afb5bf94923aa39d73f52f6e176d33f811"
   }
  }
 },
 "nbformat": 4,
 "nbformat_minor": 2
}
