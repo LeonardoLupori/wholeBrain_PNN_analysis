{
 "cells": [
  {
   "cell_type": "code",
   "execution_count": 4,
   "metadata": {},
   "outputs": [],
   "source": [
    "import matplotlib.pyplot as plt\n",
    "\n",
    "# For statistics\n",
    "from scipy.stats import ttest_rel\n",
    "\n",
    "import os,sys\n",
    "sys.path.append(r'{}'.format(os.path.abspath(os.pardir)))\n",
    "\n",
    "from wholebrain_tools import aba, genes, dataIO\n",
    "import wholebrain_tools.stats as st \n",
    "import wholebrain_tools.graphics as gt\n",
    "\n",
    "# Instantiate an Atlas object from the aba module\n",
    "# The first time you run this it will download the structures.json file from the Allen Institute server\n",
    "paths = dataIO.pathParser()\n",
    "\n",
    "nodes_path = paths.structures\n",
    "A = aba.Atlas(nodes = nodes_path)\n",
    "DFM = aba.AnatomyDataFrameManager(A)"
   ]
  },
  {
   "cell_type": "markdown",
   "metadata": {},
   "source": [
    "# Load data"
   ]
  },
  {
   "cell_type": "code",
   "execution_count": 5,
   "metadata": {},
   "outputs": [
    {
     "name": "stdout",
     "output_type": "stream",
     "text": [
      "While matching MID ONTOLOGY structures, 0 structures were dropped:\n",
      "While matching COARSE ONTOLOGY structures, 0 structures were dropped:\n"
     ]
    },
    {
     "data": {
      "text/html": [
       "<div>\n",
       "<style scoped>\n",
       "    .dataframe tbody tr th:only-of-type {\n",
       "        vertical-align: middle;\n",
       "    }\n",
       "\n",
       "    .dataframe tbody tr th {\n",
       "        vertical-align: top;\n",
       "    }\n",
       "\n",
       "    .dataframe thead tr th {\n",
       "        text-align: left;\n",
       "    }\n",
       "\n",
       "    .dataframe thead tr:last-of-type th {\n",
       "        text-align: right;\n",
       "    }\n",
       "</style>\n",
       "<table border=\"1\" class=\"dataframe\">\n",
       "  <thead>\n",
       "    <tr>\n",
       "      <th></th>\n",
       "      <th></th>\n",
       "      <th>mouse</th>\n",
       "      <th colspan=\"6\" halign=\"left\">AL1A</th>\n",
       "      <th colspan=\"4\" halign=\"left\">CC1A</th>\n",
       "      <th>...</th>\n",
       "      <th colspan=\"4\" halign=\"left\">CC4A</th>\n",
       "      <th colspan=\"6\" halign=\"left\">CC4B</th>\n",
       "    </tr>\n",
       "    <tr>\n",
       "      <th></th>\n",
       "      <th></th>\n",
       "      <th>params</th>\n",
       "      <th>areaPx</th>\n",
       "      <th>areaMm2</th>\n",
       "      <th>diffFluo</th>\n",
       "      <th>avgPxIntensity</th>\n",
       "      <th>numCells</th>\n",
       "      <th>fluoCellSum</th>\n",
       "      <th>areaPx</th>\n",
       "      <th>areaMm2</th>\n",
       "      <th>diffFluo</th>\n",
       "      <th>avgPxIntensity</th>\n",
       "      <th>...</th>\n",
       "      <th>diffFluo</th>\n",
       "      <th>avgPxIntensity</th>\n",
       "      <th>numCells</th>\n",
       "      <th>fluoCellSum</th>\n",
       "      <th>areaPx</th>\n",
       "      <th>areaMm2</th>\n",
       "      <th>diffFluo</th>\n",
       "      <th>avgPxIntensity</th>\n",
       "      <th>numCells</th>\n",
       "      <th>fluoCellSum</th>\n",
       "    </tr>\n",
       "    <tr>\n",
       "      <th>coarse</th>\n",
       "      <th>mid</th>\n",
       "      <th>fine</th>\n",
       "      <th></th>\n",
       "      <th></th>\n",
       "      <th></th>\n",
       "      <th></th>\n",
       "      <th></th>\n",
       "      <th></th>\n",
       "      <th></th>\n",
       "      <th></th>\n",
       "      <th></th>\n",
       "      <th></th>\n",
       "      <th></th>\n",
       "      <th></th>\n",
       "      <th></th>\n",
       "      <th></th>\n",
       "      <th></th>\n",
       "      <th></th>\n",
       "      <th></th>\n",
       "      <th></th>\n",
       "      <th></th>\n",
       "      <th></th>\n",
       "      <th></th>\n",
       "    </tr>\n",
       "  </thead>\n",
       "  <tbody>\n",
       "    <tr>\n",
       "      <th>1097</th>\n",
       "      <th>1</th>\n",
       "      <th>1</th>\n",
       "      <td>394350.0</td>\n",
       "      <td>0.164059</td>\n",
       "      <td>18739332.0</td>\n",
       "      <td>47.519544</td>\n",
       "      <td>11.0</td>\n",
       "      <td>5.500200</td>\n",
       "      <td>1057700.0</td>\n",
       "      <td>0.440030</td>\n",
       "      <td>14291795.0</td>\n",
       "      <td>13.512144</td>\n",
       "      <td>...</td>\n",
       "      <td>3059436.0</td>\n",
       "      <td>4.567652</td>\n",
       "      <td>0.0</td>\n",
       "      <td>NaN</td>\n",
       "      <td>1105930.0</td>\n",
       "      <td>0.460095</td>\n",
       "      <td>5782274.0</td>\n",
       "      <td>5.228427</td>\n",
       "      <td>14.0</td>\n",
       "      <td>1.701926</td>\n",
       "    </tr>\n",
       "    <tr>\n",
       "      <th>315</th>\n",
       "      <th>345</th>\n",
       "      <th>2</th>\n",
       "      <td>911310.0</td>\n",
       "      <td>0.379128</td>\n",
       "      <td>22963409.0</td>\n",
       "      <td>25.198241</td>\n",
       "      <td>5.0</td>\n",
       "      <td>2.499765</td>\n",
       "      <td>1294040.0</td>\n",
       "      <td>0.538353</td>\n",
       "      <td>25506065.0</td>\n",
       "      <td>19.710415</td>\n",
       "      <td>...</td>\n",
       "      <td>10834754.0</td>\n",
       "      <td>12.232086</td>\n",
       "      <td>9.0</td>\n",
       "      <td>3.747478</td>\n",
       "      <td>938895.0</td>\n",
       "      <td>0.390604</td>\n",
       "      <td>8144723.0</td>\n",
       "      <td>8.674796</td>\n",
       "      <td>21.0</td>\n",
       "      <td>4.865534</td>\n",
       "    </tr>\n",
       "    <tr>\n",
       "      <th>1009</th>\n",
       "      <th>1009</th>\n",
       "      <th>6</th>\n",
       "      <td>23985190.0</td>\n",
       "      <td>9.978439</td>\n",
       "      <td>635635680.0</td>\n",
       "      <td>26.501173</td>\n",
       "      <td>359.0</td>\n",
       "      <td>159.924287</td>\n",
       "      <td>26630700.0</td>\n",
       "      <td>11.079037</td>\n",
       "      <td>425232101.0</td>\n",
       "      <td>15.967740</td>\n",
       "      <td>...</td>\n",
       "      <td>125058559.0</td>\n",
       "      <td>6.346079</td>\n",
       "      <td>253.0</td>\n",
       "      <td>56.994977</td>\n",
       "      <td>25238750.0</td>\n",
       "      <td>10.499951</td>\n",
       "      <td>241090031.0</td>\n",
       "      <td>9.552376</td>\n",
       "      <td>476.0</td>\n",
       "      <td>138.482699</td>\n",
       "    </tr>\n",
       "    <tr>\n",
       "      <th>771</th>\n",
       "      <th>7</th>\n",
       "      <th>7</th>\n",
       "      <td>11340290.0</td>\n",
       "      <td>4.717844</td>\n",
       "      <td>426410261.0</td>\n",
       "      <td>37.601354</td>\n",
       "      <td>1146.0</td>\n",
       "      <td>363.504994</td>\n",
       "      <td>11645885.0</td>\n",
       "      <td>4.844979</td>\n",
       "      <td>522698545.0</td>\n",
       "      <td>44.882681</td>\n",
       "      <td>...</td>\n",
       "      <td>194251656.0</td>\n",
       "      <td>19.054713</td>\n",
       "      <td>1491.0</td>\n",
       "      <td>336.466967</td>\n",
       "      <td>11113385.0</td>\n",
       "      <td>4.623446</td>\n",
       "      <td>219842888.0</td>\n",
       "      <td>19.781812</td>\n",
       "      <td>1777.0</td>\n",
       "      <td>466.454969</td>\n",
       "    </tr>\n",
       "    <tr>\n",
       "      <th>315</th>\n",
       "      <th>361</th>\n",
       "      <th>9</th>\n",
       "      <td>2282785.0</td>\n",
       "      <td>0.949696</td>\n",
       "      <td>98713830.0</td>\n",
       "      <td>43.242719</td>\n",
       "      <td>138.0</td>\n",
       "      <td>78.563814</td>\n",
       "      <td>2673075.0</td>\n",
       "      <td>1.112066</td>\n",
       "      <td>75557912.0</td>\n",
       "      <td>28.266290</td>\n",
       "      <td>...</td>\n",
       "      <td>25805713.0</td>\n",
       "      <td>11.175102</td>\n",
       "      <td>133.0</td>\n",
       "      <td>25.100227</td>\n",
       "      <td>1676070.0</td>\n",
       "      <td>0.697287</td>\n",
       "      <td>24558975.0</td>\n",
       "      <td>14.652714</td>\n",
       "      <td>103.0</td>\n",
       "      <td>31.302393</td>\n",
       "    </tr>\n",
       "  </tbody>\n",
       "</table>\n",
       "<p>5 rows × 42 columns</p>\n",
       "</div>"
      ],
      "text/plain": [
       "mouse                   AL1A                                                 \\\n",
       "params                areaPx   areaMm2     diffFluo avgPxIntensity numCells   \n",
       "coarse mid  fine                                                              \n",
       "1097   1    1       394350.0  0.164059   18739332.0      47.519544     11.0   \n",
       "315    345  2       911310.0  0.379128   22963409.0      25.198241      5.0   \n",
       "1009   1009 6     23985190.0  9.978439  635635680.0      26.501173    359.0   \n",
       "771    7    7     11340290.0  4.717844  426410261.0      37.601354   1146.0   \n",
       "315    361  9      2282785.0  0.949696   98713830.0      43.242719    138.0   \n",
       "\n",
       "mouse                               CC1A                          \\\n",
       "params           fluoCellSum      areaPx    areaMm2     diffFluo   \n",
       "coarse mid  fine                                                   \n",
       "1097   1    1       5.500200   1057700.0   0.440030   14291795.0   \n",
       "315    345  2       2.499765   1294040.0   0.538353   25506065.0   \n",
       "1009   1009 6     159.924287  26630700.0  11.079037  425232101.0   \n",
       "771    7    7     363.504994  11645885.0   4.844979  522698545.0   \n",
       "315    361  9      78.563814   2673075.0   1.112066   75557912.0   \n",
       "\n",
       "mouse                            ...         CC4A                          \\\n",
       "params           avgPxIntensity  ...     diffFluo avgPxIntensity numCells   \n",
       "coarse mid  fine                 ...                                        \n",
       "1097   1    1         13.512144  ...    3059436.0       4.567652      0.0   \n",
       "315    345  2         19.710415  ...   10834754.0      12.232086      9.0   \n",
       "1009   1009 6         15.967740  ...  125058559.0       6.346079    253.0   \n",
       "771    7    7         44.882681  ...  194251656.0      19.054713   1491.0   \n",
       "315    361  9         28.266290  ...   25805713.0      11.175102    133.0   \n",
       "\n",
       "mouse                               CC4B                          \\\n",
       "params           fluoCellSum      areaPx    areaMm2     diffFluo   \n",
       "coarse mid  fine                                                   \n",
       "1097   1    1            NaN   1105930.0   0.460095    5782274.0   \n",
       "315    345  2       3.747478    938895.0   0.390604    8144723.0   \n",
       "1009   1009 6      56.994977  25238750.0  10.499951  241090031.0   \n",
       "771    7    7     336.466967  11113385.0   4.623446  219842888.0   \n",
       "315    361  9      25.100227   1676070.0   0.697287   24558975.0   \n",
       "\n",
       "mouse                                                 \n",
       "params           avgPxIntensity numCells fluoCellSum  \n",
       "coarse mid  fine                                      \n",
       "1097   1    1          5.228427     14.0    1.701926  \n",
       "315    345  2          8.674796     21.0    4.865534  \n",
       "1009   1009 6          9.552376    476.0  138.482699  \n",
       "771    7    7         19.781812   1777.0  466.454969  \n",
       "315    361  9         14.652714    103.0   31.302393  \n",
       "\n",
       "[5 rows x 42 columns]"
      ]
     },
     "execution_count": 5,
     "metadata": {},
     "output_type": "execute_result"
    }
   ],
   "source": [
    "# --------------------------------------------------------------------\n",
    "searchPath = paths.alldata\n",
    "channelName = 'pv'     # 'wfa' or 'pv'\n",
    "# --------------------------------------------------------------------\n",
    "\n",
    "df = dataIO.allMiceRegions(searchPath=searchPath, channelName=channelName, normCellIntens=True)\n",
    "df = DFM.multiIndexDf_from_fineDf(df, verbose=True)\n",
    "\n",
    "df.head()"
   ]
  },
  {
   "cell_type": "markdown",
   "metadata": {},
   "source": [
    "# Visual Areas"
   ]
  },
  {
   "cell_type": "markdown",
   "metadata": {},
   "source": [
    "## Barplots - Primary vs Associative\n",
    "\n",
    "Aggregate data for this sensory system"
   ]
  },
  {
   "cell_type": "code",
   "execution_count": 6,
   "metadata": {},
   "outputs": [
    {
     "data": {
      "text/html": [
       "<div>\n",
       "<style scoped>\n",
       "    .dataframe tbody tr th:only-of-type {\n",
       "        vertical-align: middle;\n",
       "    }\n",
       "\n",
       "    .dataframe tbody tr th {\n",
       "        vertical-align: top;\n",
       "    }\n",
       "\n",
       "    .dataframe thead tr th {\n",
       "        text-align: left;\n",
       "    }\n",
       "\n",
       "    .dataframe thead tr:last-of-type th {\n",
       "        text-align: right;\n",
       "    }\n",
       "</style>\n",
       "<table border=\"1\" class=\"dataframe\">\n",
       "  <thead>\n",
       "    <tr>\n",
       "      <th>mouse</th>\n",
       "      <th colspan=\"4\" halign=\"left\">AL1A</th>\n",
       "      <th colspan=\"4\" halign=\"left\">CC1A</th>\n",
       "      <th colspan=\"2\" halign=\"left\">CC1B</th>\n",
       "      <th>...</th>\n",
       "      <th colspan=\"2\" halign=\"left\">CC3A</th>\n",
       "      <th colspan=\"4\" halign=\"left\">CC4A</th>\n",
       "      <th colspan=\"4\" halign=\"left\">CC4B</th>\n",
       "    </tr>\n",
       "    <tr>\n",
       "      <th>params</th>\n",
       "      <th>density</th>\n",
       "      <th>diffuseFluo</th>\n",
       "      <th>energy</th>\n",
       "      <th>intensity</th>\n",
       "      <th>density</th>\n",
       "      <th>diffuseFluo</th>\n",
       "      <th>energy</th>\n",
       "      <th>intensity</th>\n",
       "      <th>density</th>\n",
       "      <th>diffuseFluo</th>\n",
       "      <th>...</th>\n",
       "      <th>energy</th>\n",
       "      <th>intensity</th>\n",
       "      <th>density</th>\n",
       "      <th>diffuseFluo</th>\n",
       "      <th>energy</th>\n",
       "      <th>intensity</th>\n",
       "      <th>density</th>\n",
       "      <th>diffuseFluo</th>\n",
       "      <th>energy</th>\n",
       "      <th>intensity</th>\n",
       "    </tr>\n",
       "    <tr>\n",
       "      <th>sensory</th>\n",
       "      <th></th>\n",
       "      <th></th>\n",
       "      <th></th>\n",
       "      <th></th>\n",
       "      <th></th>\n",
       "      <th></th>\n",
       "      <th></th>\n",
       "      <th></th>\n",
       "      <th></th>\n",
       "      <th></th>\n",
       "      <th></th>\n",
       "      <th></th>\n",
       "      <th></th>\n",
       "      <th></th>\n",
       "      <th></th>\n",
       "      <th></th>\n",
       "      <th></th>\n",
       "      <th></th>\n",
       "      <th></th>\n",
       "      <th></th>\n",
       "      <th></th>\n",
       "    </tr>\n",
       "  </thead>\n",
       "  <tbody>\n",
       "    <tr>\n",
       "      <th>associative</th>\n",
       "      <td>101.171683</td>\n",
       "      <td>1.069501</td>\n",
       "      <td>1.737803</td>\n",
       "      <td>0.459587</td>\n",
       "      <td>108.473874</td>\n",
       "      <td>0.993747</td>\n",
       "      <td>1.223805</td>\n",
       "      <td>0.463121</td>\n",
       "      <td>90.326105</td>\n",
       "      <td>0.995736</td>\n",
       "      <td>...</td>\n",
       "      <td>1.472816</td>\n",
       "      <td>0.403782</td>\n",
       "      <td>106.824182</td>\n",
       "      <td>0.733160</td>\n",
       "      <td>0.930230</td>\n",
       "      <td>0.243056</td>\n",
       "      <td>105.399979</td>\n",
       "      <td>0.771026</td>\n",
       "      <td>0.911881</td>\n",
       "      <td>0.299301</td>\n",
       "    </tr>\n",
       "    <tr>\n",
       "      <th>primary</th>\n",
       "      <td>101.567733</td>\n",
       "      <td>1.106303</td>\n",
       "      <td>1.745284</td>\n",
       "      <td>0.459766</td>\n",
       "      <td>118.312672</td>\n",
       "      <td>1.055072</td>\n",
       "      <td>1.385156</td>\n",
       "      <td>0.480590</td>\n",
       "      <td>98.220661</td>\n",
       "      <td>0.987545</td>\n",
       "      <td>...</td>\n",
       "      <td>1.754907</td>\n",
       "      <td>0.437114</td>\n",
       "      <td>115.856836</td>\n",
       "      <td>0.846643</td>\n",
       "      <td>1.151558</td>\n",
       "      <td>0.277428</td>\n",
       "      <td>118.907455</td>\n",
       "      <td>0.903489</td>\n",
       "      <td>1.194690</td>\n",
       "      <td>0.347582</td>\n",
       "    </tr>\n",
       "  </tbody>\n",
       "</table>\n",
       "<p>2 rows × 28 columns</p>\n",
       "</div>"
      ],
      "text/plain": [
       "mouse              AL1A                                        CC1A  \\\n",
       "params          density diffuseFluo    energy intensity     density   \n",
       "sensory                                                               \n",
       "associative  101.171683    1.069501  1.737803  0.459587  108.473874   \n",
       "primary      101.567733    1.106303  1.745284  0.459766  118.312672   \n",
       "\n",
       "mouse                                             CC1B              ...  \\\n",
       "params      diffuseFluo    energy intensity    density diffuseFluo  ...   \n",
       "sensory                                                             ...   \n",
       "associative    0.993747  1.223805  0.463121  90.326105    0.995736  ...   \n",
       "primary        1.055072  1.385156  0.480590  98.220661    0.987545  ...   \n",
       "\n",
       "mouse            CC3A                  CC4A                                  \\\n",
       "params         energy intensity     density diffuseFluo    energy intensity   \n",
       "sensory                                                                       \n",
       "associative  1.472816  0.403782  106.824182    0.733160  0.930230  0.243056   \n",
       "primary      1.754907  0.437114  115.856836    0.846643  1.151558  0.277428   \n",
       "\n",
       "mouse              CC4B                                  \n",
       "params          density diffuseFluo    energy intensity  \n",
       "sensory                                                  \n",
       "associative  105.399979    0.771026  0.911881  0.299301  \n",
       "primary      118.907455    0.903489  1.194690  0.347582  \n",
       "\n",
       "[2 rows x 28 columns]"
      ]
     },
     "execution_count": 6,
     "metadata": {},
     "output_type": "execute_result"
    }
   ],
   "source": [
    "sensory_df = DFM.regionsDf_to_sensorySystem(df, \n",
    "    sensorySystem='visual',     # Which sensory system to analyze\n",
    "    normalize=True,             # Normalize on the brain total values\n",
    "    mergeLayers=True)           # Collapse all cortical layers\n",
    "\n",
    "sensory_df.head()"
   ]
  },
  {
   "cell_type": "markdown",
   "metadata": {},
   "source": [
    "### PV Energy"
   ]
  },
  {
   "cell_type": "code",
   "execution_count": 7,
   "metadata": {},
   "outputs": [
    {
     "name": "stdout",
     "output_type": "stream",
     "text": [
      "Rep. measures T-Test Primary vs Associative\n",
      "t: 4.7769 p: 0.0031 ES:1.8055\n"
     ]
    },
    {
     "data": {
      "image/png": "[encoded data removed]",
      "text/plain": [
       "<Figure size 150x500 with 1 Axes>"
      ]
     },
     "metadata": {},
     "output_type": "display_data"
    }
   ],
   "source": [
    "# Statistics\n",
    "stat, pval = ttest_rel(\n",
    "    sensory_df.xs('energy', axis=1, level='params').loc['primary'],\n",
    "    sensory_df.xs('energy', axis=1, level='params').loc['associative'])\n",
    "d = st.cohend_rel(\n",
    "    sensory_df.xs('energy', axis=1, level='params').loc['primary'],\n",
    "    sensory_df.xs('energy', axis=1, level='params').loc['associative'])\n",
    "print(f'Rep. measures T-Test Primary vs Associative\\nt: {stat:.4f} p: {pval:.4f} ES:{d:.4f}')\n",
    "\n",
    "#Plot\n",
    "gt.primaryAreasBarplot(\n",
    "    sensory_df,\n",
    "    metric='energy',\n",
    "    cmap='OrRd',\n",
    "    ylabel='PV Energy')\n",
    "\n",
    "# plt.savefig(\"VIS_primaryAssociative_grouped_energy.svg\", bbox_inches=\"tight\")"
   ]
  },
  {
   "cell_type": "markdown",
   "metadata": {},
   "source": [
    "### PV Diffuse Fluorescence"
   ]
  },
  {
   "cell_type": "code",
   "execution_count": 8,
   "metadata": {},
   "outputs": [
    {
     "name": "stdout",
     "output_type": "stream",
     "text": [
      "Rep. measures T-Test Primary vs Associative\n",
      "t: 2.6249 p: 0.0393 ES:0.9921\n"
     ]
    },
    {
     "data": {
      "image/png": "[encoded data removed]",
      "text/plain": [
       "<Figure size 150x500 with 1 Axes>"
      ]
     },
     "metadata": {},
     "output_type": "display_data"
    }
   ],
   "source": [
    "# Statistics\n",
    "stat, pval = ttest_rel(\n",
    "    sensory_df.xs('diffuseFluo', axis=1, level='params').loc['primary'],\n",
    "    sensory_df.xs('diffuseFluo', axis=1, level='params').loc['associative'])\n",
    "d = st.cohend_rel(\n",
    "    sensory_df.xs('diffuseFluo', axis=1, level='params').loc['primary'],\n",
    "    sensory_df.xs('diffuseFluo', axis=1, level='params').loc['associative'])\n",
    "print(f'Rep. measures T-Test Primary vs Associative\\nt: {stat:.4f} p: {pval:.4f} ES:{d:.4f}')\n",
    "\n",
    "# Plot\n",
    "gt.primaryAreasBarplot(\n",
    "    sensory_df,\n",
    "    metric='diffuseFluo',\n",
    "    cmap='PuBu',\n",
    "    ylabel='PV Diffuse Fluorescence')\n",
    "\n",
    "# plt.savefig(\"VIS_primaryAssociative_grouped_diff.svg\", bbox_inches=\"tight\")"
   ]
  },
  {
   "cell_type": "markdown",
   "metadata": {},
   "source": [
    "## Barplots - Split By layers\n",
    "\n",
    "Aggregate data for this sensory system"
   ]
  },
  {
   "cell_type": "code",
   "execution_count": 9,
   "metadata": {},
   "outputs": [
    {
     "ename": "KeyError",
     "evalue": "'Level treat not found'",
     "output_type": "error",
     "traceback": [
      "\u001b[1;31m---------------------------------------------------------------------------\u001b[0m",
      "\u001b[1;31mValueError\u001b[0m                                Traceback (most recent call last)",
      "File \u001b[1;32mc:\\ProgramData\\Anaconda3\\envs\\pnnWholeBrain\\lib\\site-packages\\pandas\\core\\indexes\\multi.py:1555\u001b[0m, in \u001b[0;36mMultiIndex._get_level_number\u001b[1;34m(self, level)\u001b[0m\n\u001b[0;32m   1554\u001b[0m \u001b[39mtry\u001b[39;00m:\n\u001b[1;32m-> 1555\u001b[0m     level \u001b[39m=\u001b[39m \u001b[39mself\u001b[39;49m\u001b[39m.\u001b[39;49mnames\u001b[39m.\u001b[39;49mindex(level)\n\u001b[0;32m   1556\u001b[0m \u001b[39mexcept\u001b[39;00m \u001b[39mValueError\u001b[39;00m \u001b[39mas\u001b[39;00m err:\n",
      "\u001b[1;31mValueError\u001b[0m: 'treat' is not in list",
      "\nThe above exception was the direct cause of the following exception:\n",
      "\u001b[1;31mKeyError\u001b[0m                                  Traceback (most recent call last)",
      "Cell \u001b[1;32mIn[9], line 7\u001b[0m\n\u001b[0;32m      1\u001b[0m sensory_df \u001b[39m=\u001b[39m DFM\u001b[39m.\u001b[39mregionsDf_to_sensorySystem(df, \n\u001b[0;32m      2\u001b[0m     sensorySystem\u001b[39m=\u001b[39m\u001b[39m'\u001b[39m\u001b[39mvisual\u001b[39m\u001b[39m'\u001b[39m,     \u001b[39m# Which sensory system to analyze\u001b[39;00m\n\u001b[0;32m      3\u001b[0m     normalize\u001b[39m=\u001b[39m\u001b[39mTrue\u001b[39;00m,             \u001b[39m# Normalize on the brain total values\u001b[39;00m\n\u001b[0;32m      4\u001b[0m     mergeLayers\u001b[39m=\u001b[39m\u001b[39mFalse\u001b[39;00m)          \u001b[39m# Collapse all cortical layers\u001b[39;00m\n\u001b[0;32m      6\u001b[0m \u001b[39m# Select only control animals\u001b[39;00m\n\u001b[1;32m----> 7\u001b[0m sensory_df \u001b[39m=\u001b[39m sensory_df\u001b[39m.\u001b[39;49mxs(\u001b[39m'\u001b[39;49m\u001b[39mCTR\u001b[39;49m\u001b[39m'\u001b[39;49m, axis\u001b[39m=\u001b[39;49m\u001b[39m1\u001b[39;49m, level\u001b[39m=\u001b[39;49m\u001b[39m'\u001b[39;49m\u001b[39mtreat\u001b[39;49m\u001b[39m'\u001b[39;49m)\n\u001b[0;32m      9\u001b[0m sensory_df\u001b[39m.\u001b[39mhead()\n",
      "File \u001b[1;32mc:\\ProgramData\\Anaconda3\\envs\\pnnWholeBrain\\lib\\site-packages\\pandas\\core\\generic.py:4028\u001b[0m, in \u001b[0;36mNDFrame.xs\u001b[1;34m(self, key, axis, level, drop_level)\u001b[0m\n\u001b[0;32m   4026\u001b[0m \u001b[39mif\u001b[39;00m \u001b[39mnot\u001b[39;00m \u001b[39misinstance\u001b[39m(labels, MultiIndex):\n\u001b[0;32m   4027\u001b[0m     \u001b[39mraise\u001b[39;00m \u001b[39mTypeError\u001b[39;00m(\u001b[39m\"\u001b[39m\u001b[39mIndex must be a MultiIndex\u001b[39m\u001b[39m\"\u001b[39m)\n\u001b[1;32m-> 4028\u001b[0m loc, new_ax \u001b[39m=\u001b[39m labels\u001b[39m.\u001b[39;49mget_loc_level(key, level\u001b[39m=\u001b[39;49mlevel, drop_level\u001b[39m=\u001b[39;49mdrop_level)\n\u001b[0;32m   4030\u001b[0m \u001b[39m# create the tuple of the indexer\u001b[39;00m\n\u001b[0;32m   4031\u001b[0m _indexer \u001b[39m=\u001b[39m [\u001b[39mslice\u001b[39m(\u001b[39mNone\u001b[39;00m)] \u001b[39m*\u001b[39m \u001b[39mself\u001b[39m\u001b[39m.\u001b[39mndim\n",
      "File \u001b[1;32mc:\\ProgramData\\Anaconda3\\envs\\pnnWholeBrain\\lib\\site-packages\\pandas\\core\\indexes\\multi.py:3015\u001b[0m, in \u001b[0;36mMultiIndex.get_loc_level\u001b[1;34m(self, key, level, drop_level)\u001b[0m\n\u001b[0;32m   2977\u001b[0m \u001b[39m\"\"\"\u001b[39;00m\n\u001b[0;32m   2978\u001b[0m \u001b[39mGet location and sliced index for requested label(s)/level(s).\u001b[39;00m\n\u001b[0;32m   2979\u001b[0m \n\u001b[1;32m   (...)\u001b[0m\n\u001b[0;32m   3012\u001b[0m \u001b[39m(1, None)\u001b[39;00m\n\u001b[0;32m   3013\u001b[0m \u001b[39m\"\"\"\u001b[39;00m\n\u001b[0;32m   3014\u001b[0m \u001b[39mif\u001b[39;00m \u001b[39mnot\u001b[39;00m \u001b[39misinstance\u001b[39m(level, (\u001b[39mlist\u001b[39m, \u001b[39mtuple\u001b[39m)):\n\u001b[1;32m-> 3015\u001b[0m     level \u001b[39m=\u001b[39m \u001b[39mself\u001b[39;49m\u001b[39m.\u001b[39;49m_get_level_number(level)\n\u001b[0;32m   3016\u001b[0m \u001b[39melse\u001b[39;00m:\n\u001b[0;32m   3017\u001b[0m     level \u001b[39m=\u001b[39m [\u001b[39mself\u001b[39m\u001b[39m.\u001b[39m_get_level_number(lev) \u001b[39mfor\u001b[39;00m lev \u001b[39min\u001b[39;00m level]\n",
      "File \u001b[1;32mc:\\ProgramData\\Anaconda3\\envs\\pnnWholeBrain\\lib\\site-packages\\pandas\\core\\indexes\\multi.py:1558\u001b[0m, in \u001b[0;36mMultiIndex._get_level_number\u001b[1;34m(self, level)\u001b[0m\n\u001b[0;32m   1556\u001b[0m \u001b[39mexcept\u001b[39;00m \u001b[39mValueError\u001b[39;00m \u001b[39mas\u001b[39;00m err:\n\u001b[0;32m   1557\u001b[0m     \u001b[39mif\u001b[39;00m \u001b[39mnot\u001b[39;00m is_integer(level):\n\u001b[1;32m-> 1558\u001b[0m         \u001b[39mraise\u001b[39;00m \u001b[39mKeyError\u001b[39;00m(\u001b[39mf\u001b[39m\u001b[39m\"\u001b[39m\u001b[39mLevel \u001b[39m\u001b[39m{\u001b[39;00mlevel\u001b[39m}\u001b[39;00m\u001b[39m not found\u001b[39m\u001b[39m\"\u001b[39m) \u001b[39mfrom\u001b[39;00m \u001b[39merr\u001b[39;00m\n\u001b[0;32m   1559\u001b[0m     \u001b[39melif\u001b[39;00m level \u001b[39m<\u001b[39m \u001b[39m0\u001b[39m:\n\u001b[0;32m   1560\u001b[0m         level \u001b[39m+\u001b[39m\u001b[39m=\u001b[39m \u001b[39mself\u001b[39m\u001b[39m.\u001b[39mnlevels\n",
      "\u001b[1;31mKeyError\u001b[0m: 'Level treat not found'"
     ]
    }
   ],
   "source": [
    "sensory_df = DFM.regionsDf_to_sensorySystem(df, \n",
    "    sensorySystem='visual',     # Which sensory system to analyze\n",
    "    normalize=True,             # Normalize on the brain total values\n",
    "    mergeLayers=False)          # Collapse all cortical layers\n",
    "\n",
    "\n",
    "sensory_df.head()"
   ]
  },
  {
   "cell_type": "markdown",
   "metadata": {},
   "source": [
    "### PV Energy"
   ]
  },
  {
   "cell_type": "code",
   "execution_count": null,
   "metadata": {},
   "outputs": [],
   "source": [
    "# Statistical analysis\n",
    "st.sensoryCortexByLayers(sensory_df, metric='energy', printResults=True)\n",
    "\n",
    "# Plot\n",
    "gt.primaryAreasLayersBarplot(sensory_df, \n",
    "    metric='energy',\n",
    "    cmap='OrRd',\n",
    "    xlabel='PV Energy (A.U.)',\n",
    "    legendTitle='Visual Areas',\n",
    "    fontScaling=1)\n",
    "\n",
    "# plt.savefig(\"VIS_primaryAssociative_layers_energy.svg\", bbox_inches=\"tight\")"
   ]
  },
  {
   "cell_type": "markdown",
   "metadata": {},
   "source": [
    "### PV Diffuse Fluorescence"
   ]
  },
  {
   "cell_type": "code",
   "execution_count": null,
   "metadata": {},
   "outputs": [],
   "source": [
    "# Statistical analysis\n",
    "st.sensoryCortexByLayers(sensory_df, metric='diffuseFluo', printResults=True)\n",
    "\n",
    "# Plot\n",
    "gt.primaryAreasLayersBarplot(sensory_df, \n",
    "    metric='diffuseFluo',\n",
    "    cmap='PuBu',\n",
    "    xlabel='PV Diffuse Fluorescence',\n",
    "    legendTitle='Visual Areas',\n",
    "    fontScaling=1)\n",
    "\n",
    "# plt.savefig(\"VIS_primaryAssociative_layers_diff.svg\", bbox_inches=\"tight\")"
   ]
  },
  {
   "cell_type": "markdown",
   "metadata": {},
   "source": [
    "# Auditory Areas"
   ]
  },
  {
   "cell_type": "code",
   "execution_count": null,
   "metadata": {},
   "outputs": [],
   "source": [
    "sensory_df = DFM.regionsDf_to_sensorySystem(df, \n",
    "    sensorySystem='auditory',       # Which sensory system to analyze\n",
    "    normalize=True,                 # Normalize on the brain total values\n",
    "    mergeLayers=True)               # Collapse all cortical layers\n",
    "\n",
    "\n",
    "sensory_df.head()"
   ]
  },
  {
   "cell_type": "markdown",
   "metadata": {},
   "source": [
    "## Barplots - Primary vs Associative"
   ]
  },
  {
   "cell_type": "markdown",
   "metadata": {},
   "source": [
    "### PV Energy"
   ]
  },
  {
   "cell_type": "code",
   "execution_count": null,
   "metadata": {},
   "outputs": [],
   "source": [
    "# Statistics\n",
    "stat, pval = ttest_rel(\n",
    "    sensory_df.xs('energy', axis=1, level='params').loc['primary'],\n",
    "    sensory_df.xs('energy', axis=1, level='params').loc['associative'])\n",
    "d = st.cohend_rel(\n",
    "    sensory_df.xs('energy', axis=1, level='params').loc['primary'],\n",
    "    sensory_df.xs('energy', axis=1, level='params').loc['associative'])\n",
    "print(f'Rep. measures T-Test Primary vs Associative\\nt: {stat:.4f} p: {pval:.4f} ES:{d:.4f}')\n",
    "\n",
    "#Plot\n",
    "gt.primaryAreasBarplot(\n",
    "    sensory_df,\n",
    "    metric='energy',\n",
    "    cmap='OrRd',\n",
    "    ylabel='PV Energy')\n",
    "\n",
    "# plt.savefig(\"AUD_primaryAssociative_grouped_energy.svg\", bbox_inches=\"tight\")"
   ]
  },
  {
   "cell_type": "markdown",
   "metadata": {},
   "source": [
    "### WFA Diffuse Fluorescence"
   ]
  },
  {
   "cell_type": "code",
   "execution_count": null,
   "metadata": {},
   "outputs": [],
   "source": [
    "# Statistics\n",
    "stat, pval = ttest_rel(\n",
    "    sensory_df.xs('diffuseFluo', axis=1, level='params').loc['primary'],\n",
    "    sensory_df.xs('diffuseFluo', axis=1, level='params').loc['associative'])\n",
    "d = st.cohend_rel(\n",
    "    sensory_df.xs('diffuseFluo', axis=1, level='params').loc['primary'],\n",
    "    sensory_df.xs('diffuseFluo', axis=1, level='params').loc['associative'])\n",
    "print(f'Rep. measures T-Test Primary vs Associative\\nt: {stat:.4f} p: {pval:.4f} ES:{d:.4f}')\n",
    "\n",
    "# Plot\n",
    "gt.primaryAreasBarplot(\n",
    "    sensory_df,\n",
    "    metric='diffuseFluo',\n",
    "    cmap='PuBu',\n",
    "    ylabel='PV Diffuse Fluorescence')\n",
    "\n",
    "# plt.savefig(\"AUD_primaryAssociative_grouped_diff.svg\", bbox_inches=\"tight\")"
   ]
  },
  {
   "cell_type": "markdown",
   "metadata": {},
   "source": [
    "## Barplots - Split By layers"
   ]
  },
  {
   "cell_type": "code",
   "execution_count": null,
   "metadata": {},
   "outputs": [],
   "source": [
    "sensory_df = DFM.regionsDf_to_sensorySystem(df, \n",
    "    sensorySystem='auditory',       # Which sensory system to analyze\n",
    "    normalize=True,                 # Normalize on the brain total values\n",
    "    mergeLayers=False)              # Collapse all cortical layers\n",
    "\n",
    "\n",
    "sensory_df.head()"
   ]
  },
  {
   "cell_type": "markdown",
   "metadata": {},
   "source": [
    "### PV Energy"
   ]
  },
  {
   "cell_type": "code",
   "execution_count": null,
   "metadata": {},
   "outputs": [],
   "source": [
    "# Statistical analysis\n",
    "st.sensoryCortexByLayers(sensory_df, metric='energy', printResults=True)\n",
    "\n",
    "# Plot\n",
    "gt.primaryAreasLayersBarplot(sensory_df, \n",
    "    metric='energy',\n",
    "    cmap='OrRd',\n",
    "    xlabel='PV Energy (A.U.)',\n",
    "    legendTitle='Auditory Areas',\n",
    "    fontScaling=1)\n",
    "\n",
    "# plt.savefig(\"AUD_primaryAssociative_layers_energy.svg\", bbox_inches=\"tight\")"
   ]
  },
  {
   "cell_type": "markdown",
   "metadata": {},
   "source": [
    "### PV Diffuse Fluorescence"
   ]
  },
  {
   "cell_type": "code",
   "execution_count": null,
   "metadata": {},
   "outputs": [],
   "source": [
    "# Statistical analysis\n",
    "st.sensoryCortexByLayers(sensory_df, metric='diffuseFluo', printResults=True)\n",
    "\n",
    "# Plot\n",
    "gt.primaryAreasLayersBarplot(sensory_df, \n",
    "    metric='diffuseFluo',\n",
    "    cmap='PuBu',\n",
    "    xlabel='PV Diffuse Fluorescence',\n",
    "    legendTitle='Auditory Areas',\n",
    "    fontScaling=1)\n",
    "\n",
    "# plt.savefig(\"AUD_primaryAssociative_layers_diff.svg\", bbox_inches=\"tight\")"
   ]
  },
  {
   "cell_type": "markdown",
   "metadata": {},
   "source": [
    "# Somatosensory Areas"
   ]
  },
  {
   "cell_type": "code",
   "execution_count": null,
   "metadata": {},
   "outputs": [],
   "source": [
    "sensory_df = DFM.regionsDf_to_sensorySystem(df, \n",
    "    sensorySystem='somatosensory',  # Which sensory system to analyze\n",
    "    normalize=True,                 # Normalize on the brain total values\n",
    "    mergeLayers=True,               # Collapse all cortical layers\n",
    "    verbose=False)               \n",
    "\n",
    "\n",
    "sensory_df.head()"
   ]
  },
  {
   "cell_type": "markdown",
   "metadata": {},
   "source": [
    "## Barplots - Primary vs Associative"
   ]
  },
  {
   "cell_type": "markdown",
   "metadata": {},
   "source": [
    "### PV Energy"
   ]
  },
  {
   "cell_type": "code",
   "execution_count": null,
   "metadata": {},
   "outputs": [],
   "source": [
    "# Statistics\n",
    "stat, pval = ttest_rel(\n",
    "    sensory_df.xs('energy', axis=1, level='params').loc['primary'],\n",
    "    sensory_df.xs('energy', axis=1, level='params').loc['associative'])\n",
    "d = st.cohend_rel(\n",
    "    sensory_df.xs('energy', axis=1, level='params').loc['primary'],\n",
    "    sensory_df.xs('energy', axis=1, level='params').loc['associative'])\n",
    "print(f'Rep. measures T-Test Primary vs Associative\\nt: {stat:.4f} p: {pval:.4f} ES:{d:.4f}')\n",
    "\n",
    "#Plot\n",
    "gt.primaryAreasBarplot(\n",
    "    sensory_df,\n",
    "    metric='energy',\n",
    "    cmap='OrRd',\n",
    "    ylabel='PV Energy')\n",
    "\n",
    "# plt.savefig(\"SS_primaryAssociative_grouped_energy.svg\", bbox_inches=\"tight\")"
   ]
  },
  {
   "cell_type": "markdown",
   "metadata": {},
   "source": [
    "### PV Diffuse Fluorescence"
   ]
  },
  {
   "cell_type": "code",
   "execution_count": null,
   "metadata": {},
   "outputs": [],
   "source": [
    "# Statistics\n",
    "stat, pval = ttest_rel(\n",
    "    sensory_df.xs('diffuseFluo', axis=1, level='params').loc['primary'],\n",
    "    sensory_df.xs('diffuseFluo', axis=1, level='params').loc['associative'])\n",
    "d = st.cohend_rel(\n",
    "    sensory_df.xs('diffuseFluo', axis=1, level='params').loc['primary'],\n",
    "    sensory_df.xs('diffuseFluo', axis=1, level='params').loc['associative'])\n",
    "print(f'Rep. measures T-Test Primary vs Associative\\nt: {stat:.4f} p: {pval:.4f} ES:{d:.4f}')\n",
    "\n",
    "# Plot\n",
    "gt.primaryAreasBarplot(\n",
    "    sensory_df,\n",
    "    metric='diffuseFluo',\n",
    "    cmap='PuBu',\n",
    "    ylabel='PV Diffuse Fluorescence')\n",
    "\n",
    "# plt.savefig(\"SS_primaryAssociative_grouped_diff.svg\", bbox_inches=\"tight\")"
   ]
  },
  {
   "cell_type": "markdown",
   "metadata": {},
   "source": [
    "## Barplots - Split By layers"
   ]
  },
  {
   "cell_type": "code",
   "execution_count": null,
   "metadata": {},
   "outputs": [],
   "source": [
    "sensory_df = DFM.regionsDf_to_sensorySystem(df, \n",
    "    sensorySystem='somatosensory',  # Which sensory system to analyze\n",
    "    normalize=True,                 # Normalize on the brain total values\n",
    "    mergeLayers=False)              # Collapse all cortical layers\n",
    "\n",
    "\n",
    "sensory_df.head()"
   ]
  },
  {
   "cell_type": "markdown",
   "metadata": {},
   "source": [
    "### PV Energy"
   ]
  },
  {
   "cell_type": "code",
   "execution_count": null,
   "metadata": {},
   "outputs": [],
   "source": [
    "# Statistical analysis\n",
    "st.sensoryCortexByLayers(sensory_df, metric='energy', printResults=True)\n",
    "\n",
    "# Plot\n",
    "gt.primaryAreasLayersBarplot(sensory_df, \n",
    "    metric='energy',\n",
    "    cmap='OrRd',\n",
    "    xlabel='PV Energy (A.U.)',\n",
    "    legendTitle='Somatosensory Areas',\n",
    "    fontScaling=1)\n",
    "\n",
    "# plt.savefig(\"SS_primaryAssociative_layers_energy.svg\", bbox_inches=\"tight\")"
   ]
  },
  {
   "cell_type": "markdown",
   "metadata": {},
   "source": [
    "### PV Diffuse Fluorescence"
   ]
  },
  {
   "cell_type": "code",
   "execution_count": null,
   "metadata": {},
   "outputs": [],
   "source": [
    "# Statistical analysis\n",
    "st.sensoryCortexByLayers(sensory_df, metric='diffuseFluo', printResults=True)\n",
    "\n",
    "# Plot\n",
    "gt.primaryAreasLayersBarplot(sensory_df, \n",
    "    metric='diffuseFluo',\n",
    "    cmap='PuBu',\n",
    "    xlabel='PV Diffuse Fluorescence',\n",
    "    legendTitle='Somatosensory Areas',\n",
    "    fontScaling=1)\n",
    "\n",
    "# plt.savefig(\"SS_primaryAssociative_layers_diff.svg\", bbox_inches=\"tight\")"
   ]
  }
 ],
 "metadata": {
  "kernelspec": {
   "display_name": "Python 3",
   "language": "python",
   "name": "python3"
  },
  "language_info": {
   "codemirror_mode": {
    "name": "ipython",
    "version": 3
   },
   "file_extension": ".py",
   "mimetype": "text/x-python",
   "name": "python",
   "nbconvert_exporter": "python",
   "pygments_lexer": "ipython3",
   "version": "3.8.0"
  },
  "orig_nbformat": 4,
  "vscode": {
   "interpreter": {
    "hash": "330b658a28fcfa20cb106ab71cd5830cf28a0616836b7aa94e0b201ccc27ab76"
   }
  }
 },
 "nbformat": 4,
 "nbformat_minor": 2
}
