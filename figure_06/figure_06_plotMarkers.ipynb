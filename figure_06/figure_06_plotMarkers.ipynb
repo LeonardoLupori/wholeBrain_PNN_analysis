{
 "cells": [
  {
   "cell_type": "code",
   "execution_count": null,
   "metadata": {},
   "outputs": [],
   "source": [
    "import pandas as pd\n",
    "import os,sys\n",
    "import matplotlib.pyplot as plt\n",
    "sys.path.append(r'{}'.format(os.path.abspath(os.pardir)))\n",
    "\n",
    "from wholebrain_tools import aba, genes, dataIO\n",
    "import wholebrain_tools.stats as st \n",
    "import wholebrain_tools.graphics as gt\n",
    "\n",
    "paths = dataIO.pathParser()\n",
    "\n",
    "nodes_path = paths.structures\n",
    "A = aba.Atlas(nodes = nodes_path)\n",
    "GM = genes.GeneManager()\n",
    "DFM = aba.AnatomyDataFrameManager(A)"
   ]
  },
  {
   "cell_type": "markdown",
   "metadata": {},
   "source": [
    "# Load the data"
   ]
  },
  {
   "cell_type": "code",
   "execution_count": null,
   "metadata": {},
   "outputs": [],
   "source": [
    "# --------------------------------------------------------------------\n",
    "ish_path = paths.abaIsh_datasets\n",
    "searchPath = paths.alldata\n",
    "correlationPath = paths.corrdata_genes\n",
    "# --------------------------------------------------------------------\n",
    "\n",
    "# Load WFA data\n",
    "wfa = dataIO.allMiceRegions(searchPath=searchPath, channelName='wfa', normCellIntens=True)\n",
    "wfa = DFM.multiIndexDf_from_fineDf(wfa, verbose=False)\n",
    "wfa = DFM.regionsDf_to_mid(wfa, verbose=False, normalize= True)\n",
    "\n",
    "wfa_en = DFM.midDf_to_avgVector(wfa,'energy',exclude_last=5)\n",
    "wfa_diff = DFM.midDf_to_avgVector(wfa,'diffuseFluo', exclude_last=5)\n",
    "\n",
    "# Load PV data\n",
    "pv = dataIO.allMiceRegions(searchPath=searchPath, channelName='pv', normCellIntens=True)\n",
    "pv = DFM.multiIndexDf_from_fineDf(pv, verbose=False)\n",
    "pv = DFM.regionsDf_to_mid(pv, verbose=False, normalize= True)\n",
    "\n",
    "pv_en = DFM.midDf_to_avgVector(pv,'energy', exclude_last=5)\n",
    "\n",
    "# LOAD GENE EXPRESSION DATA\n",
    "ish_en =  pd.read_csv(os.path.join(ish_path,\"gene_expression_ABA_energy.csv\"), index_col=0)\n",
    "ish_en.columns = pd.to_numeric(ish_en.columns)\n",
    "\n",
    "# LOAD CORRELATION DFs\n",
    "corr_wfa_en = pd.read_csv(os.path.join(paths.corrdata_genes,\"pnnEn_ishEn_corrdata.csv\"), index_col=0)\n",
    "corr_wfa_diff = pd.read_csv(os.path.join(paths.corrdata_genes,\"wfaDiff_ishEn_corrdata.csv\"), index_col=0)\n",
    "corr_pv_en = pd.read_csv(os.path.join(paths.corrdata_genes,\"pvEn_ishEn_corrdata.csv\"), index_col=0)"
   ]
  },
  {
   "cell_type": "markdown",
   "metadata": {},
   "source": [
    "# Correlation with marker genes"
   ]
  },
  {
   "cell_type": "markdown",
   "metadata": {},
   "source": [
    "## Marker geners PNN - PNN Energy"
   ]
  },
  {
   "cell_type": "code",
   "execution_count": null,
   "metadata": {},
   "outputs": [],
   "source": [
    "_, axs = plt.subplots(2,3, figsize = (10,7))\n",
    "axs = axs.flatten()\n",
    "# Select correlation data for all the marker genes\n",
    "markersCorrData = corr_wfa_en.loc[GM.acronyms_to_ids(genes.pnn_markers)]\n",
    "\n",
    "for i, (geneId, row )in enumerate(markersCorrData.iterrows()):\n",
    "    # Select ISH data for this gene\n",
    "    expression = ish_en.loc[geneId]\n",
    "    # Merge ISH with PNN Energy\n",
    "    mergedDf = pd.concat([expression, wfa_en], axis=1).dropna(how='any', axis=0)\n",
    "    # Plot correlation\n",
    "    gt.correlationWithGene(A,\n",
    "        x = mergedDf.iloc[:,0],\n",
    "        y = mergedDf.iloc[:,1], \n",
    "        pval = row['p_spearman_fdr'],\n",
    "        corr_spearman = row['corr_spearman'],\n",
    "        fitLine = False, \n",
    "        ax=axs[i],\n",
    "        title = row['gene_acronym'], \n",
    "        xlabel = 'Gene Expression\\nEnergy (A.U.)'if i == 3 else '', \n",
    "        ylabel = 'PNN Energy (A.U.)'if i == 3 else '',\n",
    "        fontScaling=.8)\n",
    "        \n",
    "plt.subplots_adjust(hspace=0.35)\n",
    "# plt.savefig(f\"pnnMarkers_Energy.svg\", bbox_inches=\"tight\")"
   ]
  },
  {
   "cell_type": "markdown",
   "metadata": {},
   "source": [
    "## Marker genes PNN - WFA Diffuse Fluorescence"
   ]
  },
  {
   "cell_type": "code",
   "execution_count": null,
   "metadata": {},
   "outputs": [],
   "source": [
    "_, axs = plt.subplots(2,3, figsize = (10,7))\n",
    "axs = axs.flatten()\n",
    "# Select correlation data for all the marker genes\n",
    "markersCorrData = corr_wfa_diff.loc[GM.acronyms_to_ids(genes.pnn_markers)]\n",
    "\n",
    "for i, (geneId, row )in enumerate(markersCorrData.iterrows()):\n",
    "    # Select ISH data for this gene\n",
    "    expression = ish_en.loc[geneId]\n",
    "    # Merge ISH with PNN Energy\n",
    "    mergedDf = pd.concat([expression, wfa_diff], axis=1).dropna(how='any', axis=0)\n",
    "    # Plot correlation\n",
    "    gt.correlationWithGene(A,\n",
    "        x = mergedDf.iloc[:,0],\n",
    "        y = mergedDf.iloc[:,1], \n",
    "        pval = row['p_spearman_fdr'],\n",
    "        corr_spearman = row['corr_spearman'],\n",
    "        fitLine = False, \n",
    "        ax=axs[i],\n",
    "        title = row['gene_acronym'], \n",
    "        xlabel = 'Gene Expression\\nEnergy (A.U.)'if i == 3 else '', \n",
    "        ylabel = 'WFA Diffuse\\nFluorescence (A.U.)'if i == 3 else '',\n",
    "        fontScaling=.85)\n",
    "        \n",
    "\n",
    "# set the spacing between subplots\n",
    "plt.subplots_adjust(hspace=0.35)\n",
    "# plt.savefig(f\"pnnMarkers_diffuseFluorescence.svg\", bbox_inches=\"tight\")"
   ]
  },
  {
   "cell_type": "markdown",
   "metadata": {},
   "source": [
    "## Marker genes PV - PV Energy"
   ]
  },
  {
   "cell_type": "code",
   "execution_count": null,
   "metadata": {},
   "outputs": [],
   "source": [
    "_, axs = plt.subplots(2,3, figsize = (10,7))\n",
    "axs = axs.flatten()\n",
    "# Select correlation data for all the marker genes\n",
    "markersCorrData = corr_pv_en.loc[GM.acronyms_to_ids(genes.pv_markers)]\n",
    "\n",
    "for i, (geneId, row )in enumerate(markersCorrData.iterrows()):\n",
    "    # Select ISH data for this gene\n",
    "    expression = ish_en.loc[geneId]\n",
    "    # Merge ISH with PNN Energy\n",
    "    mergedDf = pd.concat([expression, pv_en], axis=1).dropna(how='any', axis=0)\n",
    "    # Plot correlation\n",
    "    gt.correlationWithGene(A,\n",
    "        x = mergedDf.iloc[:,0],\n",
    "        y = mergedDf.iloc[:,1], \n",
    "        pval = row['p_spearman_fdr'],\n",
    "        corr_spearman = row['corr_spearman'],\n",
    "        fitLine = False, \n",
    "        ax=axs[i],\n",
    "        title = row['gene_acronym'], \n",
    "        xlabel = 'Gene Expression\\nEnergy (A.U.)'if i == 3 else '', \n",
    "        ylabel = 'PV Energy (A.U.)'if i == 3 else '',\n",
    "        fontScaling=.8)\n",
    "        \n",
    "plt.subplots_adjust(hspace=0.35)\n",
    "# plt.savefig(f\"pvMarkers_Energy.svg\", bbox_inches=\"tight\")"
   ]
  }
 ],
 "metadata": {
  "kernelspec": {
   "display_name": "Python 3.7.0 ('allen')",
   "language": "python",
   "name": "python3"
  },
  "language_info": {
   "codemirror_mode": {
    "name": "ipython",
    "version": 3
   },
   "file_extension": ".py",
   "mimetype": "text/x-python",
   "name": "python",
   "nbconvert_exporter": "python",
   "pygments_lexer": "ipython3",
   "version": "3.7.0"
  },
  "orig_nbformat": 4,
  "vscode": {
   "interpreter": {
    "hash": "5b41230a79c73660caffd1be412225afb5bf94923aa39d73f52f6e176d33f811"
   }
  }
 },
 "nbformat": 4,
 "nbformat_minor": 2
}
