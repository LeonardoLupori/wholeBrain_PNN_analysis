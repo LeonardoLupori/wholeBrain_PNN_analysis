{
 "cells": [
  {
   "cell_type": "code",
   "execution_count": null,
   "metadata": {},
   "outputs": [],
   "source": [
    "import pandas as pd\n",
    "import matplotlib.pyplot as plt\n",
    "import seaborn as sns\n",
    "import numpy as np\n",
    "import os\n",
    "import sys\n",
    "sys.path.append(r'C:\\Users\\Valentino\\Documents\\MATLAB\\PNN_wholeBrain\\analysis_CTR')\n",
    "from geneTool import GeneManager, save_gene_lists\n",
    "from GraphicTool import ora_plot\n",
    "import dataIO\n",
    "\n",
    "genedata = r'C:\\Users\\Valentino\\Documents\\MATLAB\\PNN_wholeBrain\\analysis_CTR\\genes.json'\n",
    "GM = GeneManager(path=genedata)"
   ]
  },
  {
   "cell_type": "markdown",
   "metadata": {},
   "source": [
    "# Gene lists"
   ]
  },
  {
   "cell_type": "markdown",
   "metadata": {},
   "source": [
    "### Load data"
   ]
  },
  {
   "cell_type": "code",
   "execution_count": null,
   "metadata": {},
   "outputs": [],
   "source": [
    "# load csv with correlation statistics\n",
    "en_path = r\"D:\\proj_PNN-Atlas\\RESULTS\\genecorrelationISH\\correlations\\pnnEn_ishEn_corrdata.csv\"\n",
    "diff_path = r\"D:\\proj_PNN-Atlas\\RESULTS\\genecorrelationISH\\correlations\\wfaDiff_ishEn_corrdata.csv\"\n",
    "pnn_en = pd.read_csv(en_path, index_col = 0)\n",
    "pnn_diff = pd.read_csv(diff_path, index_col = 0)"
   ]
  },
  {
   "cell_type": "markdown",
   "metadata": {},
   "source": [
    "### Save gene lists"
   ]
  },
  {
   "cell_type": "code",
   "execution_count": null,
   "metadata": {},
   "outputs": [],
   "source": [
    "savingdir = r'D:\\proj_PNN-Atlas\\RESULTS\\genecorrelationISH\\gene_lists_GO'\n",
    "if not os.path.isdir(savingdir):\n",
    "    os.mkdir(savingdir)\n",
    "save_gene_lists(pnn_en, exp_dataset = 'WFA_en', \n",
    "    gene_dataset = 'ISHen',foldername= savingdir, gene_identifier='gene_acronym', corr_method = 'spearman', \n",
    "    bonferroni = True, fdr = True, n_max = 1000)\n",
    "\n",
    "save_gene_lists(pnn_diff, exp_dataset = 'WFA_diff', \n",
    "    gene_dataset = 'ISHen',foldername= savingdir, gene_identifier='gene_acronym', corr_method = 'spearman', \n",
    "    bonferroni = True, fdr = True, n_max = 1000)"
   ]
  },
  {
   "cell_type": "markdown",
   "metadata": {},
   "source": [
    "# PNN Energy"
   ]
  },
  {
   "cell_type": "markdown",
   "metadata": {},
   "source": [
    "## Genes positively correlated"
   ]
  },
  {
   "cell_type": "code",
   "execution_count": null,
   "metadata": {},
   "outputs": [],
   "source": [
    "fold_pos = r\"D:\\proj_PNN-Atlas\\RESULTS\\genecorrelationISH\\GO_results\\Project_wg_result1669627780\"\n",
    "\n",
    "bp_pos = dataIO.loadGOResults(fold_pos)\n"
   ]
  },
  {
   "cell_type": "code",
   "execution_count": null,
   "metadata": {},
   "outputs": [],
   "source": [
    "x = ora_plot(bp_pos,\n",
    "figsize=(5.5,2.7),\n",
    "        dotsizes=(100, 400),\n",
    "        size='percentage_of_term',\n",
    "        custom_thr = 0.1,\n",
    "        hue='FDR', title='Positively correlated with PNNs', fontScaling=1.3)\n",
    "\n",
    "# plt.savefig(f\"posCorr_PNNenergy_GO.svg\", bbox_inches=\"tight\")"
   ]
  },
  {
   "cell_type": "markdown",
   "metadata": {},
   "source": [
    "## Genes negatively correlated"
   ]
  },
  {
   "cell_type": "code",
   "execution_count": null,
   "metadata": {},
   "outputs": [],
   "source": [
    "fold_neg = r\"D:\\proj_PNN-Atlas\\RESULTS\\genecorrelationISH\\GO_results\\Project_wg_result1669627749\"\n",
    "\n",
    "bp_neg = dataIO.loadGOResults(fold_neg)"
   ]
  },
  {
   "cell_type": "code",
   "execution_count": null,
   "metadata": {},
   "outputs": [],
   "source": [
    "x = ora_plot(bp_neg,\n",
    "figsize=(6.5,4.6),\n",
    "        dotsizes=(100, 400),\n",
    "        size='percentage_of_term',\n",
    "        custom_thr = 0.1,\n",
    "        hue='FDR',\n",
    "        title='Negatively correlated with PNNs',\n",
    "        fontScaling=1.3)\n",
    "\n",
    "# plt.savefig(f\"negCorr_PNNenergy_GO.svg\", bbox_inches=\"tight\")"
   ]
  }
 ],
 "metadata": {
  "kernelspec": {
   "display_name": "Python 3.7.0 ('allen')",
   "language": "python",
   "name": "python3"
  },
  "language_info": {
   "codemirror_mode": {
    "name": "ipython",
    "version": 3
   },
   "file_extension": ".py",
   "mimetype": "text/x-python",
   "name": "python",
   "nbconvert_exporter": "python",
   "pygments_lexer": "ipython3",
   "version": "3.7.0"
  },
  "orig_nbformat": 4,
  "vscode": {
   "interpreter": {
    "hash": "5b41230a79c73660caffd1be412225afb5bf94923aa39d73f52f6e176d33f811"
   }
  }
 },
 "nbformat": 4,
 "nbformat_minor": 2
}
