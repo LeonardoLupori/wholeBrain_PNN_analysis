{
 "cells": [
  {
   "cell_type": "markdown",
   "metadata": {},
   "source": [
    "## Import packages"
   ]
  },
  {
   "cell_type": "code",
   "execution_count": null,
   "metadata": {},
   "outputs": [],
   "source": [
    "import pandas as pd\n",
    "import os\n",
    "\n",
    "import sys\n",
    "sys.path.append(r'C:\\Users\\Valentino\\Documents\\MATLAB\\PNN_wholeBrain\\analysis_CTR')\n",
    "from geneTool import GeneManager, print_correlation_summary, check_markers\n",
    "from AbaTool import Atlas, AnatomyDataFrameManager\n",
    "from StatTools import correlation_with_abagenes\n",
    "import dataIO\n",
    "\n",
    "\n",
    "\n",
    "nodes_path = r'C:\\Users\\Valentino\\Documents\\MATLAB\\PNN_wholeBrain\\analysis_CTR\\structures.json'\n",
    "A = Atlas(nodes = nodes_path)\n",
    "GM = GeneManager()\n",
    "DFM = AnatomyDataFrameManager(A)"
   ]
  },
  {
   "cell_type": "markdown",
   "metadata": {},
   "source": [
    "# Genes correlated with PV cells\n",
    "---"
   ]
  },
  {
   "cell_type": "markdown",
   "metadata": {},
   "source": [
    "#### load datasets and define saving path"
   ]
  },
  {
   "cell_type": "code",
   "execution_count": null,
   "metadata": {},
   "outputs": [],
   "source": [
    "# --------------------------------------------------------------------\n",
    "ish_path = r\"D:\\proj_PNN-Atlas\\ABAgeneData\"\n",
    "# --------------------------------------------------------------------\n",
    "\n",
    "ish_en = dataIO.loadGeneExpressionFromFile(ish_path, metric = 'energy')\n",
    "ish_dens = dataIO.loadGeneExpressionFromFile(ish_path, metric = 'density')\n",
    "ish_int = dataIO.loadGeneExpressionFromFile(ish_path, metric = 'intensity')\n"
   ]
  },
  {
   "cell_type": "code",
   "execution_count": null,
   "metadata": {},
   "outputs": [],
   "source": [
    "# --------------------------------------------------------------------\n",
    "searchPath = r'D:\\proj_PNN-Atlas\\RESULTS\\allData_CTR'\n",
    "channelName = 'pv'     # 'wfa' or 'pv'\n",
    "# --------------------------------------------------------------------\n",
    "\n",
    "pv = dataIO.allMiceRegions(searchPath=searchPath, channelName=channelName, normCellIntens=True)\n",
    "pv = DFM.multiIndexDf_from_fineDf(pv, verbose=True)\n",
    "pv = DFM.regionsDf_to_mid(pv, verbose=False, normalize= True)\n",
    "\n",
    "avg_en = DFM.midDf_to_avgVector(\n",
    "                            pv,\n",
    "                            'energy',\n",
    "                            exclude_last = 5,\n",
    "                            )\n",
    "\n",
    "\n"
   ]
  },
  {
   "cell_type": "code",
   "execution_count": null,
   "metadata": {},
   "outputs": [],
   "source": [
    "# --------------------------------------------------------------------\n",
    "savingdir = r'D:\\proj_PNN-Atlas\\RESULTS\\genecorrelationISH\\correlations'\n",
    "# --------------------------------------------------------------------"
   ]
  },
  {
   "cell_type": "markdown",
   "metadata": {},
   "source": [
    "## PV Energy"
   ]
  },
  {
   "cell_type": "markdown",
   "metadata": {},
   "source": [
    "### Gene expression energy"
   ]
  },
  {
   "cell_type": "code",
   "execution_count": null,
   "metadata": {},
   "outputs": [],
   "source": [
    "corr_stat1 = correlation_with_abagenes(avgseries=avg_en,\n",
    "                                    genes_df=ish_en,\n",
    "                                    gene_manager=GM)"
   ]
  },
  {
   "cell_type": "code",
   "execution_count": null,
   "metadata": {},
   "outputs": [],
   "source": [
    "filepath = os.path.join(savingdir,'pvEn_ishEn_corrdata.csv')\n",
    "corr_stat1.to_csv(filepath, index=False)"
   ]
  },
  {
   "cell_type": "code",
   "execution_count": null,
   "metadata": {},
   "outputs": [],
   "source": [
    "check_markers(corr_stat1, 'pv')"
   ]
  },
  {
   "cell_type": "code",
   "execution_count": null,
   "metadata": {},
   "outputs": [],
   "source": [
    "print_correlation_summary(corr_stat1, alpha_bonf = 0.05, alpha_fdr = 0.01,to_file=False, prefix=\"pvEn-ISHen\")"
   ]
  },
  {
   "cell_type": "markdown",
   "metadata": {},
   "source": [
    "### Gene expression intensity"
   ]
  },
  {
   "cell_type": "code",
   "execution_count": null,
   "metadata": {},
   "outputs": [],
   "source": [
    "corr_stat2 = correlation_with_abagenes(avgseries=avg_en,\n",
    "                                    genes_df=ish_int,\n",
    "                                    gene_manager=GM)"
   ]
  },
  {
   "cell_type": "code",
   "execution_count": null,
   "metadata": {},
   "outputs": [],
   "source": [
    "filepath = os.path.join(savingdir,'pvEn_ishInt_corrdata.csv')\n",
    "corr_stat2.to_csv(filepath, index=False)"
   ]
  },
  {
   "cell_type": "code",
   "execution_count": null,
   "metadata": {},
   "outputs": [],
   "source": [
    "check_markers(corr_stat2, 'pv')"
   ]
  },
  {
   "cell_type": "code",
   "execution_count": null,
   "metadata": {},
   "outputs": [],
   "source": [
    "print_correlation_summary(corr_stat2, alpha_bonf = 0.05, alpha_fdr = 0.01,to_file=False, prefix=\"pvEn-ISHint\")"
   ]
  },
  {
   "cell_type": "markdown",
   "metadata": {},
   "source": [
    "### Gene expression density"
   ]
  },
  {
   "cell_type": "code",
   "execution_count": null,
   "metadata": {},
   "outputs": [],
   "source": [
    "corr_stat3 = correlation_with_abagenes(avgseries=avg_en,\n",
    "                                    genes_df=ish_dens,\n",
    "                                    gene_manager=GM)"
   ]
  },
  {
   "cell_type": "code",
   "execution_count": null,
   "metadata": {},
   "outputs": [],
   "source": [
    "filepath = os.path.join(savingdir,'pvEn_ishDens_corrdata.csv')\n",
    "corr_stat3.to_csv(filepath, index=False)"
   ]
  },
  {
   "cell_type": "code",
   "execution_count": null,
   "metadata": {},
   "outputs": [],
   "source": [
    "check_markers(corr_stat3, 'pv')"
   ]
  },
  {
   "cell_type": "code",
   "execution_count": null,
   "metadata": {},
   "outputs": [],
   "source": [
    "print_correlation_summary(corr_stat3, alpha_bonf = 0.05, alpha_fdr = 0.01,to_file=False, prefix=\"pvEn-ISHdens\")"
   ]
  }
 ],
 "metadata": {
  "kernelspec": {
   "display_name": "Python 3.7.0 ('allen')",
   "language": "python",
   "name": "python3"
  },
  "language_info": {
   "codemirror_mode": {
    "name": "ipython",
    "version": 3
   },
   "file_extension": ".py",
   "mimetype": "text/x-python",
   "name": "python",
   "nbconvert_exporter": "python",
   "pygments_lexer": "ipython3",
   "version": "3.7.0"
  },
  "orig_nbformat": 4,
  "vscode": {
   "interpreter": {
    "hash": "5b41230a79c73660caffd1be412225afb5bf94923aa39d73f52f6e176d33f811"
   }
  }
 },
 "nbformat": 4,
 "nbformat_minor": 2
}
