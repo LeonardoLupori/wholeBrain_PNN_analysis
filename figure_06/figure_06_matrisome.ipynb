{
 "cells": [
  {
   "cell_type": "markdown",
   "metadata": {},
   "source": [
    "# Gene set Overrepresentation Analysis with matrisome genes\n",
    "---"
   ]
  },
  {
   "cell_type": "code",
   "execution_count": null,
   "metadata": {},
   "outputs": [],
   "source": [
    "import pandas as pd\n",
    "import matplotlib.pyplot as plt\n",
    "import sys, os\n",
    "sys.path.append(r'C:\\Users\\Valentino\\Documents\\MATLAB\\PNN_wholeBrain\\analysis_CTR')\n",
    "from geneTool import GeneManager, save_gene_lists\n",
    "import dataIO\n",
    "from StatTools import multiple_custom_set_overrepresentation_analysis\n",
    "from GraphicTool import ora_plot\n",
    "\n",
    "genedata = r'C:\\Users\\Valentino\\Documents\\MATLAB\\PNN_wholeBrain\\analysis_CTR\\genes.json'\n",
    "GM = GeneManager(path=genedata)"
   ]
  },
  {
   "cell_type": "markdown",
   "metadata": {},
   "source": [
    "# Prepare data"
   ]
  },
  {
   "cell_type": "markdown",
   "metadata": {},
   "source": [
    "##### Load data"
   ]
  },
  {
   "cell_type": "code",
   "execution_count": null,
   "metadata": {},
   "outputs": [],
   "source": [
    "en_path = r\"D:\\proj_PNN-Atlas\\RESULTS\\genecorrelationISH\\correlations\\pnnEn_ishEn_corrdata.csv\"\n",
    "pnn_en = pd.read_csv(en_path, index_col = 0)"
   ]
  },
  {
   "cell_type": "markdown",
   "metadata": {},
   "source": [
    "#### Save gene lists"
   ]
  },
  {
   "cell_type": "code",
   "execution_count": null,
   "metadata": {},
   "outputs": [],
   "source": [
    "savingdir = r'D:\\proj_PNN-Atlas\\RESULTS\\genecorrelationISH\\gene_lists_Matrisome'\n",
    "if not os.path.isdir(savingdir):\n",
    "    os.mkdir(savingdir)\n",
    "# save_gene_lists(pnn_en, exp_dataset = 'WFA_en', \n",
    "#     gene_dataset = 'ISHen',foldername= savingdir, gene_identifier='gene_acronym', corr_method = 'spearman', \n",
    "#     bonferroni = True, fdr = True, n_max = 200)"
   ]
  },
  {
   "cell_type": "code",
   "execution_count": null,
   "metadata": {},
   "outputs": [],
   "source": [
    "matrisome_path = r\"D:\\proj_PNN-Atlas\\ABAgeneData\\matrisome_mm_masterlist.xls\"\n",
    "matr_dict = dataIO.loadMatrisomeTerms(matrisome_path)"
   ]
  },
  {
   "cell_type": "code",
   "execution_count": null,
   "metadata": {},
   "outputs": [],
   "source": [
    "txts = os.listdir(savingdir)\n",
    "gene_lists = {}\n",
    "for f in txts:\n",
    "    with open(os.path.join(savingdir, f), mode = 'r') as t:\n",
    "        if 'background' in f:\n",
    "            bg = t.read().splitlines() \n",
    "        else:\n",
    "            list_ids = t.read().splitlines() \n",
    "            gene_lists[f] = list_ids\n"
   ]
  },
  {
   "cell_type": "markdown",
   "metadata": {},
   "source": [
    "# Perform ORA"
   ]
  },
  {
   "cell_type": "code",
   "execution_count": null,
   "metadata": {},
   "outputs": [],
   "source": [
    "l = gene_lists['WFA_en-ISHen_posCorr_spearman_fdr.txt']\n",
    "\n",
    "res = multiple_custom_set_overrepresentation_analysis(l,matr_dict, bg)\n",
    "res"
   ]
  },
  {
   "cell_type": "markdown",
   "metadata": {},
   "source": [
    "## Plot"
   ]
  },
  {
   "cell_type": "code",
   "execution_count": null,
   "metadata": {},
   "outputs": [],
   "source": [
    "f = ora_plot(res,\n",
    "        figsize=(6.5,2.3),\n",
    "        dotsizes=(100, 400),\n",
    "        size='percentage_of_term',\n",
    "        custom_thr = 0.1,\n",
    "        hue='FDR', title='Matrisome categories', fontScaling=1.3)\n",
    "\n",
    "        \n",
    "# f.savefig(f\"MatrisomeGO.svg\", bbox_inches=\"tight\")"
   ]
  }
 ],
 "metadata": {
  "kernelspec": {
   "display_name": "Python 3.7.0 ('allen')",
   "language": "python",
   "name": "python3"
  },
  "language_info": {
   "codemirror_mode": {
    "name": "ipython",
    "version": 3
   },
   "file_extension": ".py",
   "mimetype": "text/x-python",
   "name": "python",
   "nbconvert_exporter": "python",
   "pygments_lexer": "ipython3",
   "version": "3.7.0"
  },
  "orig_nbformat": 4,
  "vscode": {
   "interpreter": {
    "hash": "5b41230a79c73660caffd1be412225afb5bf94923aa39d73f52f6e176d33f811"
   }
  }
 },
 "nbformat": 4,
 "nbformat_minor": 2
}
