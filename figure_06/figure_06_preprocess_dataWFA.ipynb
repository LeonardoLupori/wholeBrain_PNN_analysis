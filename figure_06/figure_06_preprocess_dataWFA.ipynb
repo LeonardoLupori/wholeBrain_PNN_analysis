{
 "cells": [
  {
   "cell_type": "markdown",
   "metadata": {},
   "source": [
    "## Import packages"
   ]
  },
  {
   "cell_type": "code",
   "execution_count": null,
   "metadata": {},
   "outputs": [],
   "source": [
    "import pandas as pd\n",
    "import os\n",
    "\n",
    "import sys\n",
    "sys.path.append(r'C:\\Users\\Valentino\\Documents\\MATLAB\\PNN_wholeBrain\\analysis_CTR')\n",
    "from geneTool import GeneManager, print_correlation_summary, check_markers\n",
    "from AbaTool import Atlas, AnatomyDataFrameManager\n",
    "from StatTools import correlation_with_abagenes\n",
    "import dataIO\n",
    "\n",
    "\n",
    "\n",
    "nodes_path = r'C:\\Users\\Valentino\\Documents\\MATLAB\\PNN_wholeBrain\\analysis_CTR\\structures.json'\n",
    "A = Atlas(nodes = nodes_path)\n",
    "GM = GeneManager()\n",
    "DFM = AnatomyDataFrameManager(A)"
   ]
  },
  {
   "cell_type": "markdown",
   "metadata": {},
   "source": [
    "# Genes correlated with PNNs\n",
    "---"
   ]
  },
  {
   "cell_type": "markdown",
   "metadata": {},
   "source": [
    "#### load datasets and define saving path"
   ]
  },
  {
   "cell_type": "code",
   "execution_count": null,
   "metadata": {},
   "outputs": [],
   "source": [
    "# --------------------------------------------------------------------\n",
    "ish_path = r\"D:\\proj_PNN-Atlas\\ABAgeneData\"\n",
    "# --------------------------------------------------------------------\n",
    "\n",
    "ish_en = dataIO.loadGeneExpressionFromFile(ish_path, metric = 'energy')\n",
    "ish_dens = dataIO.loadGeneExpressionFromFile(ish_path, metric = 'density')\n",
    "ish_int = dataIO.loadGeneExpressionFromFile(ish_path, metric = 'intensity')\n"
   ]
  },
  {
   "cell_type": "code",
   "execution_count": null,
   "metadata": {},
   "outputs": [],
   "source": [
    "# --------------------------------------------------------------------\n",
    "searchPath = r'D:\\proj_PNN-Atlas\\RESULTS\\allData_CTR'\n",
    "channelName = 'wfa'     # 'wfa' or 'pv'\n",
    "# --------------------------------------------------------------------\n",
    "\n",
    "wfa = dataIO.allMiceRegions(searchPath=searchPath, channelName=channelName, normCellIntens=True)\n",
    "wfa = DFM.multiIndexDf_from_fineDf(wfa, verbose=True)\n",
    "wfa = DFM.regionsDf_to_mid(wfa, verbose=False, normalize= True)\n",
    "\n",
    "avg_en = DFM.midDf_to_avgVector(\n",
    "                            wfa,\n",
    "                            'energy',\n",
    "                            exclude_last = 5,\n",
    "                            )\n",
    "\n",
    "avg_diff = DFM.midDf_to_avgVector(\n",
    "                            wfa,\n",
    "                            'diffuseFluo',\n",
    "                            exclude_last = 5,\n",
    "                            )\n",
    "\n"
   ]
  },
  {
   "cell_type": "code",
   "execution_count": null,
   "metadata": {},
   "outputs": [],
   "source": [
    "# --------------------------------------------------------------------\n",
    "savingdir = r'D:\\proj_PNN-Atlas\\RESULTS\\genecorrelationISH\\correlations'\n",
    "# --------------------------------------------------------------------"
   ]
  },
  {
   "cell_type": "markdown",
   "metadata": {},
   "source": [
    "## PNN Energy"
   ]
  },
  {
   "cell_type": "markdown",
   "metadata": {},
   "source": [
    "### Gene expression energy"
   ]
  },
  {
   "cell_type": "code",
   "execution_count": null,
   "metadata": {},
   "outputs": [],
   "source": [
    "corr_stat1 = correlation_with_abagenes(avgseries=avg_en,\n",
    "                                    genes_df=ish_en,\n",
    "                                    gene_manager=GM)\n",
    "                                    "
   ]
  },
  {
   "cell_type": "code",
   "execution_count": null,
   "metadata": {},
   "outputs": [],
   "source": [
    "corr_stat1"
   ]
  },
  {
   "cell_type": "code",
   "execution_count": null,
   "metadata": {},
   "outputs": [],
   "source": [
    "filepath = os.path.join(savingdir,'pnnEn_ishEn_corrdata.csv')\n",
    "corr_stat1.to_csv(filepath, index=False)"
   ]
  },
  {
   "cell_type": "code",
   "execution_count": null,
   "metadata": {},
   "outputs": [],
   "source": [
    "check_markers(corr_stat1, 'wfa')"
   ]
  },
  {
   "cell_type": "code",
   "execution_count": null,
   "metadata": {},
   "outputs": [],
   "source": [
    "print_correlation_summary(corr_stat1, alpha_bonf = 0.05, alpha_fdr = 0.01,to_file=False, prefix=\"pnnEn-ISHen\")"
   ]
  },
  {
   "cell_type": "markdown",
   "metadata": {},
   "source": [
    "### Gene expression intensity"
   ]
  },
  {
   "cell_type": "code",
   "execution_count": null,
   "metadata": {},
   "outputs": [],
   "source": [
    "corr_stat2 = correlation_with_abagenes(avgseries=avg_en,\n",
    "                                    genes_df=ish_int,\n",
    "                                    gene_manager=GM)"
   ]
  },
  {
   "cell_type": "code",
   "execution_count": null,
   "metadata": {},
   "outputs": [],
   "source": [
    "filepath = os.path.join(savingdir,'pnnEn_ishInt_corrdata.csv')\n",
    "corr_stat2.to_csv(filepath, index=False)"
   ]
  },
  {
   "cell_type": "code",
   "execution_count": null,
   "metadata": {},
   "outputs": [],
   "source": [
    "check_markers(corr_stat2, 'wfa')"
   ]
  },
  {
   "cell_type": "code",
   "execution_count": null,
   "metadata": {},
   "outputs": [],
   "source": [
    "print_correlation_summary(corr_stat2, alpha_bonf = 0.05, alpha_fdr = 0.01,to_file=False, prefix=\"pnnEn-ISHint\")"
   ]
  },
  {
   "cell_type": "markdown",
   "metadata": {},
   "source": [
    "### Gene expression density"
   ]
  },
  {
   "cell_type": "code",
   "execution_count": null,
   "metadata": {},
   "outputs": [],
   "source": [
    "corr_stat3 = correlation_with_abagenes(avgseries=avg_en,\n",
    "                                    genes_df=ish_dens,\n",
    "                                    gene_manager=GM)"
   ]
  },
  {
   "cell_type": "code",
   "execution_count": null,
   "metadata": {},
   "outputs": [],
   "source": [
    "filepath = os.path.join(savingdir,'pnnEn_ishDens_corrdata.csv')\n",
    "corr_stat3.to_csv(filepath, index=False)"
   ]
  },
  {
   "cell_type": "code",
   "execution_count": null,
   "metadata": {},
   "outputs": [],
   "source": [
    "check_markers(corr_stat3, 'wfa')"
   ]
  },
  {
   "cell_type": "code",
   "execution_count": null,
   "metadata": {},
   "outputs": [],
   "source": [
    "print_correlation_summary(corr_stat3, alpha_bonf = 0.05, alpha_fdr = 0.01,to_file=False, prefix=\"pnnEn-ISHdens\")"
   ]
  },
  {
   "cell_type": "markdown",
   "metadata": {},
   "source": [
    "## WFA diffuse fluorescence"
   ]
  },
  {
   "cell_type": "markdown",
   "metadata": {},
   "source": [
    "### Gene expression density"
   ]
  },
  {
   "cell_type": "code",
   "execution_count": null,
   "metadata": {},
   "outputs": [],
   "source": [
    "corr_stat4 = correlation_with_abagenes(avgseries=avg_diff,\n",
    "                                    genes_df=ish_dens,\n",
    "                                    gene_manager=GM)"
   ]
  },
  {
   "cell_type": "code",
   "execution_count": null,
   "metadata": {},
   "outputs": [],
   "source": [
    "filepath = os.path.join(savingdir,'wfaDiff_ishDens_corrdata.csv')\n",
    "corr_stat4.to_csv(filepath, index=False)"
   ]
  },
  {
   "cell_type": "code",
   "execution_count": null,
   "metadata": {},
   "outputs": [],
   "source": [
    "check_markers(corr_stat4, 'wfa')"
   ]
  },
  {
   "cell_type": "code",
   "execution_count": null,
   "metadata": {},
   "outputs": [],
   "source": [
    "print_correlation_summary(corr_stat4, alpha_bonf = 0.05, alpha_fdr = 0.01,to_file=False, prefix=\"wfaDiff-ISHdens\")"
   ]
  },
  {
   "cell_type": "markdown",
   "metadata": {},
   "source": [
    "### Gene expression energy"
   ]
  },
  {
   "cell_type": "code",
   "execution_count": null,
   "metadata": {},
   "outputs": [],
   "source": [
    "corr_stat5 = correlation_with_abagenes(avgseries=avg_diff,\n",
    "                                    genes_df=ish_en,\n",
    "                                    gene_manager=GM)"
   ]
  },
  {
   "cell_type": "code",
   "execution_count": null,
   "metadata": {},
   "outputs": [],
   "source": [
    "filepath = os.path.join(savingdir,'wfaDiff_ishEn_corrdata.csv')\n",
    "corr_stat5.to_csv(filepath, index=False)"
   ]
  },
  {
   "cell_type": "code",
   "execution_count": null,
   "metadata": {},
   "outputs": [],
   "source": [
    "check_markers(corr_stat5, 'wfa')"
   ]
  },
  {
   "cell_type": "code",
   "execution_count": null,
   "metadata": {},
   "outputs": [],
   "source": [
    "print_correlation_summary(corr_stat5, alpha_bonf = 0.05, alpha_fdr = 0.01,to_file=False, prefix=\"wfaDiff-ISHen\")"
   ]
  },
  {
   "cell_type": "markdown",
   "metadata": {},
   "source": [
    "### Gene expression intensity"
   ]
  },
  {
   "cell_type": "code",
   "execution_count": null,
   "metadata": {},
   "outputs": [],
   "source": [
    "corr_stat6 = correlation_with_abagenes(avgseries=avg_diff,\n",
    "                                    genes_df=ish_int,\n",
    "                                    gene_manager=GM)"
   ]
  },
  {
   "cell_type": "code",
   "execution_count": null,
   "metadata": {},
   "outputs": [],
   "source": [
    "filepath = os.path.join(savingdir,'wfaDiff_ishInt_corrdata.csv')\n",
    "corr_stat6.to_csv(filepath, index=False)"
   ]
  },
  {
   "cell_type": "code",
   "execution_count": null,
   "metadata": {},
   "outputs": [],
   "source": [
    "check_markers(corr_stat6, 'wfa')"
   ]
  },
  {
   "cell_type": "code",
   "execution_count": null,
   "metadata": {},
   "outputs": [],
   "source": [
    "print_correlation_summary(corr_stat6, alpha_bonf = 0.05, alpha_fdr = 0.01,to_file=False, prefix=\"wfaDIff-ISHint\")"
   ]
  }
 ],
 "metadata": {
  "kernelspec": {
   "display_name": "Python 3.7.0 ('allen')",
   "language": "python",
   "name": "python3"
  },
  "language_info": {
   "codemirror_mode": {
    "name": "ipython",
    "version": 3
   },
   "file_extension": ".py",
   "mimetype": "text/x-python",
   "name": "python",
   "nbconvert_exporter": "python",
   "pygments_lexer": "ipython3",
   "version": "3.7.0"
  },
  "orig_nbformat": 4,
  "vscode": {
   "interpreter": {
    "hash": "5b41230a79c73660caffd1be412225afb5bf94923aa39d73f52f6e176d33f811"
   }
  }
 },
 "nbformat": 4,
 "nbformat_minor": 2
}
