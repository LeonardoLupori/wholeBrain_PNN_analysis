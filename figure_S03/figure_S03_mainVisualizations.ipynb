{
 "cells": [
  {
   "cell_type": "code",
   "execution_count": null,
   "metadata": {},
   "outputs": [],
   "source": [
    "import pandas as pd\n",
    "import numpy as np\n",
    "import matplotlib.pyplot as plt\n",
    "from scipy.stats import ttest_1samp\n",
    "\n",
    "# Append the analysis folder so that you can import custom packages\n",
    "import sys\n",
    "sys.path.append(r'C:\\Users\\Leonardo\\Documents\\MATLAB\\PNN_wholeBrain\\analysis')\n",
    "\n",
    "# Custom packages\n",
    "import dataIO\n",
    "import AbaTool\n",
    "import GraphicTool as gt\n",
    "\n",
    "# Instantiate an Atlas object from the AbaTool.py file \n",
    "# The first time you run this it will download the structures.json file from the Allen Institute server\n",
    "structuresFile = r\"C:\\Users\\Leonardo\\Documents\\MATLAB\\PNN_wholeBrain\\structures.json\"\n",
    "A = AbaTool.Atlas(nodes=structuresFile)\n",
    "DFM = AbaTool.AnatomyDataFrameManager(A)"
   ]
  },
  {
   "cell_type": "markdown",
   "metadata": {},
   "source": [
    "# 1. Load all data\n",
    "\n",
    "Loads data for **diffuse fluorescence** and **dots** for a **single channel** and \n",
    "creates a multi-index dataframe (df) containing raw measurements for all areas\n",
    "of the brain at high resolution"
   ]
  },
  {
   "cell_type": "code",
   "execution_count": null,
   "metadata": {},
   "outputs": [],
   "source": [
    "# --------------------------------------------------------------------\n",
    "searchPath = r'D:\\PizzorussoLAB\\proj_PNN-highFatDiet\\RESULTS\\allData'\n",
    "channelName = 'pv'     # 'wfa' or 'pv'\n",
    "# --------------------------------------------------------------------\n",
    "\n",
    "df = dataIO.allMiceRegions(searchPath=searchPath, channelName=channelName, normCellIntens=True)\n",
    "df = DFM.multiIndexDf_from_fineDf(df, verbose=True)"
   ]
  },
  {
   "cell_type": "markdown",
   "metadata": {},
   "source": [
    "# 2. Mid ontology heatmaps\n",
    "\n",
    "Aggregate data at mid ontology level"
   ]
  },
  {
   "cell_type": "code",
   "execution_count": null,
   "metadata": {},
   "outputs": [],
   "source": [
    "# Dataframe at mid-ontology\n",
    "midDf = DFM.regionsDf_to_mid(df, verbose=True, normalize=True)\n",
    "# Select ONLY control animals (CC)\n",
    "midDf = midDf.xs('CTR', axis=1, level='treat')\n",
    "\n",
    "midDf.head()"
   ]
  },
  {
   "cell_type": "markdown",
   "metadata": {},
   "source": [
    "## 2.1 Heatmap - PV Diffuse Fluorescence"
   ]
  },
  {
   "cell_type": "code",
   "execution_count": null,
   "metadata": {},
   "outputs": [],
   "source": [
    "data = midDf.xs('diffuseFluo', axis=1, level='params')\n",
    "\n",
    "# Create the heatmap\n",
    "axObj = gt.midOntologyHeatmap(data, A, cmap='PuBu', vmin=0, vmax=2, title='PV Diffuse Fluorescence')\n",
    "\n",
    "# Save the image if necessary\n",
    "# plt.savefig(\"pv_diffuseHeatmap.svg\", bbox_inches=\"tight\")"
   ]
  },
  {
   "cell_type": "markdown",
   "metadata": {},
   "source": [
    "## 2.2 Heatmap - PV Energy"
   ]
  },
  {
   "cell_type": "code",
   "execution_count": null,
   "metadata": {},
   "outputs": [],
   "source": [
    "data = midDf.xs('energy', axis=1, level='params')\n",
    "\n",
    "# Create the heatmap\n",
    "axObj = gt.midOntologyHeatmap(data, A, cmap='OrRd', vmin=0, vmax=3, title='PV Energy')\n",
    "\n",
    "# Save the image if necessary\n",
    "# plt.savefig(\"pv_energyHeatmap.svg\", bbox_inches=\"tight\")"
   ]
  },
  {
   "cell_type": "markdown",
   "metadata": {},
   "source": [
    "## 2.3 Heatmap - PV cells Density"
   ]
  },
  {
   "cell_type": "code",
   "execution_count": null,
   "metadata": {},
   "outputs": [],
   "source": [
    "data = midDf.xs('density', axis=1, level='params')\n",
    "\n",
    "# Create the heatmap\n",
    "axObj = gt.midOntologyHeatmap(data, A, cmap='BuGn', vmin=0, vmax=200, title='PNN Density')\n",
    "\n",
    "# Save the image if necessary\n",
    "# plt.savefig(\"pv_densityHeatmap.svg\", bbox_inches=\"tight\")"
   ]
  },
  {
   "cell_type": "markdown",
   "metadata": {},
   "source": [
    "## 2.4 Heatmap - PV cells Intensity"
   ]
  },
  {
   "cell_type": "code",
   "execution_count": null,
   "metadata": {},
   "outputs": [],
   "source": [
    "data = midDf.xs('intensity', axis=1, level='params')\n",
    "\n",
    "# Create the heatmap\n",
    "axObj = gt.midOntologyHeatmap(data, A, cmap='Purples', vmin=0, vmax=1, title='PNN Intensity')\n",
    "\n",
    "# Save the image if necessary\n",
    "# plt.savefig(\"pv_intensityHeatmap.svg\", bbox_inches=\"tight\")"
   ]
  },
  {
   "cell_type": "markdown",
   "metadata": {},
   "source": [
    "# 3. Coarse ontology bar plots\n",
    "Aggregate data at coarse ontology level"
   ]
  },
  {
   "cell_type": "code",
   "execution_count": null,
   "metadata": {},
   "outputs": [],
   "source": [
    "# Dataframe at coarse ontology\n",
    "coarseDf = DFM.regionsDf_to_coarse(df, verbose=True, normalize=True)\n",
    "\n",
    "# Select only control animals\n",
    "coarseDf = coarseDf.xs('CTR', axis=1, level='treat')\n",
    "\n",
    "coarseDf.head()"
   ]
  },
  {
   "cell_type": "markdown",
   "metadata": {},
   "source": [
    "## 3.1 Barplot - PV Diffuse Fluorescence"
   ]
  },
  {
   "cell_type": "code",
   "execution_count": null,
   "metadata": {},
   "outputs": [],
   "source": [
    "data = coarseDf.xs('diffuseFluo', axis=1, level='params')\n",
    "\n",
    "# Plot the data\n",
    "g = gt.coarseOntologyBarplot(data, A, \n",
    "    title='PV Diffuse Fluorescence',\n",
    "    cmap='PuBu',\n",
    "    xlabel='(A.U.)',\n",
    "    areaNames=True,\n",
    "    )\n",
    "\n",
    "# Display the statistics\n",
    "areaNames = A.ids_to_names(data.index.tolist())\n",
    "stat, pval = ttest_1samp(data, 1, axis=1, nan_policy='omit')\n",
    "for i,area in enumerate(areaNames):\n",
    "    print(f'{area:25}\\t t: {stat[i]:.3f}\\t p:{pval[i]:.4f}')\n",
    "\n",
    "# plt.savefig('pv_coarseDiffFluo.svg',bbox_inches=\"tight\")"
   ]
  },
  {
   "cell_type": "markdown",
   "metadata": {},
   "source": [
    "## 3.2 Barplot - PV Energy"
   ]
  },
  {
   "cell_type": "code",
   "execution_count": null,
   "metadata": {},
   "outputs": [],
   "source": [
    "data = coarseDf.xs('energy', axis=1, level='params')\n",
    "\n",
    "# Plot the data\n",
    "g = gt.coarseOntologyBarplot(data, A, \n",
    "    title='PV Energy',\n",
    "    cmap='OrRd',\n",
    "    xlabel='(A.U.)',\n",
    "    areaNames=True,\n",
    "    )\n",
    "\n",
    "# Display the statistics\n",
    "areaNames = A.ids_to_names(data.index.tolist())\n",
    "stat, pval = ttest_1samp(data, 1, axis=1, nan_policy='omit')\n",
    "for i,area in enumerate(areaNames):\n",
    "    print(f'{area:25}\\t t: {stat[i]:.3f}\\t p:{pval[i]:.4f}')\n",
    "\n",
    "# plt.savefig('pv_coarseEnergy.svg',bbox_inches=\"tight\")"
   ]
  },
  {
   "cell_type": "markdown",
   "metadata": {},
   "source": [
    "# 4. Interactions\n",
    "Explore the relationship between **PV Diffuse Fluorecence** and **PV Energy**"
   ]
  },
  {
   "cell_type": "markdown",
   "metadata": {},
   "source": [
    "## 4.1 Mid-ontology"
   ]
  },
  {
   "cell_type": "code",
   "execution_count": null,
   "metadata": {},
   "outputs": [],
   "source": [
    "data = midDf.groupby('params', axis=1).mean()"
   ]
  },
  {
   "cell_type": "markdown",
   "metadata": {},
   "source": [
    "### Plot brain regions for a single major subdivision"
   ]
  },
  {
   "cell_type": "code",
   "execution_count": null,
   "metadata": {},
   "outputs": [],
   "source": [
    "areaName = 'Isocortex'\n",
    "toPlot = data.loc[A.names_to_ids([areaName])[0]]\n",
    "\n",
    "ax = gt.metricsCorrelation(toPlot, A, \n",
    "    x='diffuseFluo',\n",
    "    y='energy',\n",
    "    txtLoc = 'br',\n",
    "    xlabel = 'PV Diffuse Fluorescence (A.U.)',\n",
    "    ylabel = 'PV Energy (A.U.)',\n",
    "    title = areaName\n",
    "    )"
   ]
  },
  {
   "cell_type": "markdown",
   "metadata": {},
   "source": [
    "### Plot all 12 major subdivisions"
   ]
  },
  {
   "cell_type": "code",
   "execution_count": null,
   "metadata": {},
   "outputs": [],
   "source": [
    "f, axs = plt.subplots(nrows=3, ncols=4, figsize=(16,10), squeeze=True)\n",
    "\n",
    "for i, ax in enumerate(f.axes):\n",
    "    thisRegion = A.get_major_divisions_ids()[i]\n",
    "    toPlot = data.loc[thisRegion]\n",
    "\n",
    "    gt.metricsCorrelation(toPlot, A,\n",
    "        ax = ax,\n",
    "        x='diffuseFluo',\n",
    "        y='energy',\n",
    "        txtLoc = 'tl' if i in [1,2,3,4] else 'br',\n",
    "        xlabel = 'PV Diffuse Fluorescence (A.U.)' if i==8 else None,\n",
    "        ylabel = 'PV Energy (A.U.)' if i==8 else None,\n",
    "        title = A.ids_to_names([thisRegion])[0],\n",
    "        fontScaling = 0.9\n",
    "    )\n",
    "\n",
    "# plt.savefig('pv_allMidAreasCorrelation.svg',bbox_inches=\"tight\")"
   ]
  },
  {
   "cell_type": "markdown",
   "metadata": {},
   "source": [
    "## 4.1 Coarse ontology"
   ]
  },
  {
   "cell_type": "code",
   "execution_count": null,
   "metadata": {},
   "outputs": [],
   "source": [
    "# Aggregate data at coarse resolution\n",
    "data = coarseDf.groupby('params', axis=1).mean()\n",
    "\n",
    "# Calculate SEM for Diffuse Fluorescence and Energy for displaying errorbars\n",
    "errors = coarseDf.groupby('params', axis=1).sem()\n",
    "data['errDiffuse'] = errors['diffuseFluo']\n",
    "data['errEnergy'] = errors['energy']"
   ]
  },
  {
   "cell_type": "markdown",
   "metadata": {},
   "source": [
    "### Plot coarse areas with errorbars"
   ]
  },
  {
   "cell_type": "code",
   "execution_count": null,
   "metadata": {},
   "outputs": [],
   "source": [
    "f, ax = plt.subplots(figsize=(6,5))\n",
    "\n",
    "_ = gt.metricsWithErrors(data, A,\n",
    "    ax=ax,\n",
    "    x='diffuseFluo',\n",
    "    y='energy',\n",
    "    err_x='errDiffuse',\n",
    "    err_y='errEnergy',\n",
    "    xlabel='PV Diffuse Fluorescence (A.U.)',\n",
    "    ylabel='PV Energy (A.U.)',\n",
    "    annotations=True,\n",
    "    )\n",
    "\n",
    "plt.savefig('allCoarseAreasCorrelation.svg',bbox_inches=\"tight\")"
   ]
  },
  {
   "cell_type": "markdown",
   "metadata": {},
   "source": [
    "# Interactive plot\n",
    "Creates an interactive plot for a single major subdivision where you can check which dot corresponds to which area.  \n",
    "It's useful to create arrows with annotations for particular brain regions on the correlation plots."
   ]
  },
  {
   "cell_type": "code",
   "execution_count": null,
   "metadata": {},
   "outputs": [],
   "source": [
    "import plotly.express as px\n",
    "\n",
    "regionName = 'Isocortex'\n",
    "thisRegion = A.names_to_ids([regionName])[0]\n",
    "toPlot = data.xs(thisRegion, axis=0, level=0).copy()\n",
    "toPlot['name'] = A.ids_to_names(toPlot.index.tolist())\n",
    "toPlot['acro'] = A.ids_to_acronyms(toPlot.index.tolist())\n",
    "\n",
    "\n",
    "fig = px.scatter(toPlot, x=\"diffuseFluo\", y=\"energy\", \n",
    "    title=A.ids_to_names([thisRegion])[0],\n",
    "    hover_data=['acro'])\n",
    "\n",
    "\n",
    "fig.update_yaxes(\n",
    "    scaleanchor = \"x\",\n",
    "    scaleratio = 1,\n",
    "  )\n",
    "fig.show()\n",
    "\n"
   ]
  },
  {
   "cell_type": "markdown",
   "metadata": {},
   "source": [
    "# TO REMOVE - Diet Effects"
   ]
  },
  {
   "cell_type": "code",
   "execution_count": null,
   "metadata": {},
   "outputs": [],
   "source": [
    "# --------------------------------------------------------------------\n",
    "searchPath = r'D:\\PizzorussoLAB\\proj_PNN-highFatDiet\\RESULTS\\allData'\n",
    "channelName = 'wfa'     # 'wfa' or 'pv'\n",
    "# --------------------------------------------------------------------\n",
    "\n",
    "df = dataIO.allMiceRegions(searchPath=searchPath, channelName=channelName, normCellIntens=True)\n",
    "df = DFM.multiIndexDf_from_fineDf(df, verbose=True)\n",
    "\n",
    "# Dataframe at mid-ontology\n",
    "midDf = DFM.regionsDf_to_mid(df, verbose=True, normalize=True)\n",
    "midDf"
   ]
  },
  {
   "cell_type": "code",
   "execution_count": null,
   "metadata": {},
   "outputs": [],
   "source": [
    "from scipy.stats import ttest_ind\n",
    "from statsmodels.stats import multitest\n",
    "\n",
    "variable = 'diffuseFluo'\n",
    "\n",
    "idx = pd.IndexSlice\n",
    "# Calculate p-values for each row\n",
    "stat = []\n",
    "for area, series in midDf.iterrows():\n",
    "    controls = series.loc[idx['CTR',:,variable]]\n",
    "    hfd = series.loc[idx['HFD',:,variable]]\n",
    "    \n",
    "    if (np.sum(np.isnan(controls.values)) > 3) or (np.sum(np.isnan(hfd.values)) > 3):\n",
    "        result = [100, 1]\n",
    "    else:\n",
    "        # Perform the t-test\n",
    "        result = ttest_ind(controls,hfd,nan_policy='omit')\n",
    "    # Save the results\n",
    "    temp = {'area':A.ids_to_names([area[1]])[0],\n",
    "           'tStat': result[0],\n",
    "           'p': result[1]}\n",
    "    stat.append(temp)\n",
    "stat = pd.DataFrame(stat).set_index('area')\n",
    "stat.sort_values(by='p', ascending=True,inplace=True)\n",
    "# Drop NaNs\n",
    "stat.drop(stat[stat['p'].isna()].index, inplace=True)\n",
    "\n",
    "_ , corrected = multitest.fdrcorrection(stat['p'], method='indep')\n",
    "stat['q'] = corrected\n",
    "\n",
    "print(\"HFD vs CTR -  WFA diffuse fluo (negative t values mean higher in the HFD group)\")\n",
    "stat.loc[stat['p']<0.05]"
   ]
  }
 ],
 "metadata": {
  "kernelspec": {
   "display_name": "Python 3.9.12 ('base')",
   "language": "python",
   "name": "python3"
  },
  "language_info": {
   "codemirror_mode": {
    "name": "ipython",
    "version": 3
   },
   "file_extension": ".py",
   "mimetype": "text/x-python",
   "name": "python",
   "nbconvert_exporter": "python",
   "pygments_lexer": "ipython3",
   "version": "3.9.12"
  },
  "orig_nbformat": 4,
  "vscode": {
   "interpreter": {
    "hash": "ada140e5069bd8ae1b677b8fd2779c5ce88c2e3360ff7605b9171aa2195a7dfa"
   }
  }
 },
 "nbformat": 4,
 "nbformat_minor": 2
}
