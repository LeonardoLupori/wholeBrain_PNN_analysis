{
 "cells": [
  {
   "cell_type": "code",
   "execution_count": null,
   "metadata": {},
   "outputs": [],
   "source": [
    "import pandas as pd\n",
    "import numpy as np\n",
    "import seaborn as sns\n",
    "import matplotlib.pyplot as plt\n",
    "from matplotlib import cm\n",
    "\n",
    "from scipy.stats import zscore, ttest_ind\n",
    "\n",
    "import sys\n",
    "sys.path.append(r'C:\\Users\\Valentino\\Documents\\MATLAB\\PNN_wholeBrain\\analysis_CTR')\n",
    "\n",
    "# Custom packages\n",
    "import dataIO\n",
    "import AbaTool\n",
    "import GraphicTool as gt\n",
    "\n",
    "# You can provide a \"structures.json\" file. If you dont, it will download one\n",
    "structuresFile = r\"C:\\Users\\Valentino\\Documents\\MATLAB\\PNN_wholeBrain\\analysis_CTR\\structures.json\"\n",
    "A = AbaTool.Atlas(nodes=structuresFile)\n",
    "DFM = AbaTool.AnatomyDataFrameManager(A)"
   ]
  },
  {
   "cell_type": "markdown",
   "metadata": {},
   "source": [
    "# Load connectome data\n",
    "\n",
    "In this cell we load an XLSX file containing the mouse connectome from Oh et al., 2014\n",
    "(A mesoscale connectome of the mouse brain).  \n",
    "\n",
    "The data used here is in **Supplementary Table 3**\n",
    "> Quantitative projection strength values underlying the linear model based \n",
    "> Connectivity Matrix in figure 4a.  \n",
    "> The 213 anatomical regions as both source regions (in rows) and target regions on \n",
    "> both ipsilateral and contralateral hemispheres (in columns) are shown here.\n",
    "\n",
    "Connection strength between each area pair is given separately for the ipsilateral\n",
    "and contralateral connections.  \n",
    "\n",
    "We preprocess the data and **sum** the connection strength to both emispheres."
   ]
  },
  {
   "cell_type": "code",
   "execution_count": null,
   "metadata": {},
   "outputs": [],
   "source": [
    "connectomeFileName = r\"D:\\proj_PNN-Atlas\\ABA_connectome.xlsx\"\n",
    "connectome = dataIO.loadConnectomeFromFile(connectomeFileName, A)\n",
    "\n",
    "# Select only connections with the cortex (areaID: 315) as a target\n",
    "connectome = connectome[315].sort_index(level=[0,1])\n",
    "\n",
    "# connectome.head()"
   ]
  },
  {
   "cell_type": "markdown",
   "metadata": {},
   "source": [
    "# Load and prepare data"
   ]
  },
  {
   "cell_type": "code",
   "execution_count": null,
   "metadata": {},
   "outputs": [],
   "source": [
    "# --------------------------------------------------------------------\n",
    "searchPath = r'D:\\proj_PNN-Atlas\\RESULTS\\allData'\n",
    "channelName = 'wfa'     # 'wfa' or 'pv'\n",
    "# --------------------------------------------------------------------\n",
    "\n",
    "df = dataIO.allMiceRegions(searchPath=searchPath, channelName=channelName, normCellIntens=True)\n",
    "df = DFM.multiIndexDf_from_fineDf(df, verbose=True)\n",
    "\n",
    "# Rename 2 secondary visual areas as the old nomenclature.\n",
    "# This is necessary since the ABA mouse connectome refers to an older version of \n",
    "# the Allen Atlas where some cortical areas (previously with ID:22) were not yet \n",
    "# divided in distinct subregions.\n",
    "df.rename(index={417:22, 312782546:22}, inplace=True)\n",
    "\n",
    "# Dataframe of cortical layers\n",
    "cortex_df = DFM.regionsDf_to_corticalLayers(df, normalize=True, verbose=True)\n",
    "\n",
    "# Average values across mice\n",
    "layers_df = cortex_df.groupby(level='params',axis=1).mean()\n",
    "\n",
    "layers_df"
   ]
  },
  {
   "cell_type": "markdown",
   "metadata": {},
   "source": [
    "# Correlation analysis"
   ]
  },
  {
   "cell_type": "markdown",
   "metadata": {},
   "source": [
    "## PNN Energy"
   ]
  },
  {
   "cell_type": "code",
   "execution_count": null,
   "metadata": {},
   "outputs": [],
   "source": [
    "# Thalamus: 549\n",
    "# Thalamus, sensory-motor cortex related: 864\n",
    "# Thalamus, polymodal association cortex related: 856\n",
    "sourceRegionId = 864\n",
    "selectedMetric = 'energy'       # energy or diffuseFluo\n",
    "# ------------------------------------------------------------------------------\n",
    "\n",
    "# Select afferents coming from the desired source region specified by sourceRegionId\n",
    "idList = connectome.index.get_level_values('mid')\n",
    "filter = [A.structure_descends_from(x, sourceRegionId) for x in idList]\n",
    "afferents = connectome.loc[filter].sum(axis=0)\n",
    "afferents.name = 'afferents'\n",
    "\n",
    "# Merge afferents with the cortical dataframe\n",
    "metric_df = layers_df[selectedMetric].unstack('layer')\n",
    "merged = metric_df.join(afferents)\n",
    "# merged = merged.apply(zscore, nan_policy='omit')\n",
    "merged.head()\n",
    "\n",
    "# Select only sensory cortical areas\n",
    "sensoryIds = dataIO.customSensoryAreaIds(oldAtlasNumbers=True)\n",
    "merged = merged.loc[sensoryIds]\n",
    "# Z-score each column\n",
    "merged = merged.apply(zscore, nan_policy='omit', axis=0)\n",
    "# Remove rows with a NaN\n",
    "merged = merged.dropna(axis=0, how='any')\n",
    "merged"
   ]
  },
  {
   "cell_type": "code",
   "execution_count": null,
   "metadata": {},
   "outputs": [],
   "source": [
    "f, axs = plt.subplots(nrows=1, ncols=5, figsize=(18,3), squeeze=True)\n",
    "layers=['1','2/3','4','5','6']\n",
    "\n",
    "for i, ax in enumerate(f.axes):\n",
    "    gt.connectomeCorrelationScatterplot(\n",
    "        merged,\n",
    "        A,\n",
    "        ax=ax,\n",
    "        layer=layers[i],\n",
    "        txtLoc='tl',\n",
    "        title= 'Layer '+ layers[i],\n",
    "        xlabel='Thalamic Input (z-score)' if i==0 else None,\n",
    "        ylabel='PNN Energy\\n(z-score)' if i==0 else None,\n",
    "        fontScaling=1\n",
    "        )\n",
    "\n",
    "# plt.savefig(\"thalamusConnection_energy.svg\", bbox_inches=\"tight\")"
   ]
  },
  {
   "cell_type": "markdown",
   "metadata": {},
   "source": [
    "## WFA Diffuse Fluorescence"
   ]
  },
  {
   "cell_type": "code",
   "execution_count": null,
   "metadata": {},
   "outputs": [],
   "source": [
    "# Thalamus: 549\n",
    "# Thalamus, sensory-motor cortex related: 864\n",
    "# Thalamus, polymodal association cortex related: 856\n",
    "sourceRegionId = 864\n",
    "selectedMetric = 'diffuseFluo'       # energy or diffuseFluo\n",
    "# ------------------------------------------------------------------------------\n",
    "\n",
    "# Select afferents coming from the desired source region specified by sourceRegionId\n",
    "idList = connectome.index.get_level_values('mid')\n",
    "filter = [A.structure_descends_from(x, sourceRegionId) for x in idList]\n",
    "afferents = connectome.loc[filter].sum(axis=0)\n",
    "afferents.name = 'afferents'\n",
    "\n",
    "# Merge afferents with the cortical dataframe\n",
    "metric_df = layers_df[selectedMetric].unstack('layer')\n",
    "merged = metric_df.join(afferents)\n",
    "# merged = merged.apply(zscore, nan_policy='omit')\n",
    "merged.head()\n",
    "\n",
    "# Select only sensory cortical areas\n",
    "sensoryIds = dataIO.customSensoryAreaIds(oldAtlasNumbers=True)\n",
    "merged = merged.loc[sensoryIds]\n",
    "# Z-score each column\n",
    "merged = merged.apply(zscore, nan_policy='omit', axis=0)\n",
    "# Remove rows with a NaN\n",
    "merged = merged.dropna(axis=0, how='any')\n",
    "merged"
   ]
  },
  {
   "cell_type": "code",
   "execution_count": null,
   "metadata": {},
   "outputs": [],
   "source": [
    "f, axs = plt.subplots(nrows=1, ncols=5, figsize=(18,3), squeeze=True)\n",
    "layers=['1','2/3','4','5','6']\n",
    "\n",
    "for i, ax in enumerate(f.axes):\n",
    "    gt.connectomeCorrelationScatterplot(\n",
    "        merged,\n",
    "        A,\n",
    "        ax=ax,\n",
    "        layer=layers[i],\n",
    "        txtLoc='tl',\n",
    "        title= 'Layer '+ layers[i],\n",
    "        xlabel='Thalamic Input (z-score)' if i==0 else None,\n",
    "        ylabel='WFA Diffuse Fluorescence\\n(z-score)' if i==0 else None,\n",
    "        fontScaling=1\n",
    "        )\n",
    "\n",
    "# plt.savefig(\"thalamusConnection_diff.svg\", bbox_inches=\"tight\")"
   ]
  },
  {
   "cell_type": "markdown",
   "metadata": {},
   "source": [
    "# Thalamic inputs of cortical subnetworks"
   ]
  },
  {
   "cell_type": "code",
   "execution_count": null,
   "metadata": {},
   "outputs": [],
   "source": [
    "ctxGroup_df = dataIO.corticalAreasGroups(toDataFrame=True)\n",
    "ctxGroup_df.index = A.acronyms_to_ids(ctxGroup_df.index)\n",
    "\n",
    "group = ['hi' if x in ['motorSS','audioVisual','mAssociation'] else 'low' if x in ['lateral','mPrefrontal'] else 'other' for x in ctxGroup_df['function']]\n",
    "ctxGroup_df['group'] = group\n",
    "\n",
    "ctxGroup_df.head()\n"
   ]
  },
  {
   "cell_type": "markdown",
   "metadata": {},
   "source": [
    "### Select thalamic input connectome and merge"
   ]
  },
  {
   "cell_type": "code",
   "execution_count": null,
   "metadata": {},
   "outputs": [],
   "source": [
    "# Thalamus: 549\n",
    "# Thalamus, sensory-motor cortex related: 864\n",
    "# Thalamus, polymodal association cortex related: 856\n",
    "sourceRegionId = 864\n",
    "# ------------------------------------------------------------------------------\n",
    "\n",
    "# Select afferents coming from the desired source region specified by sourceRegionId\n",
    "idList = connectome.index.get_level_values('mid')\n",
    "filter = [A.structure_descends_from(x, sourceRegionId) for x in idList]\n",
    "afferents = connectome.loc[filter].sum(axis=0)\n",
    "afferents.name = 'afferent'\n",
    "\n",
    "# Merge afferents with the cortical groups dataframe\n",
    "merged = ctxGroup_df.join(afferents)"
   ]
  },
  {
   "cell_type": "markdown",
   "metadata": {},
   "source": [
    "### Plot the values"
   ]
  },
  {
   "cell_type": "code",
   "execution_count": null,
   "metadata": {},
   "outputs": [],
   "source": [
    "toPlot = merged.loc[merged['group'].isin(['hi','low'])]\n",
    "\n",
    "# Define colors\n",
    "cmap = cm.get_cmap(\"PuBu\")\n",
    "barColor = cmap(0.4)\n",
    "\n",
    "f, ax = plt.subplots(figsize=(2,7))\n",
    "g = sns.barplot(\n",
    "    data=toPlot,\n",
    "    x = 'group',\n",
    "    y = 'afferent',\n",
    "    color=barColor,\n",
    "    saturation=0.7,\n",
    "    errorbar='se')\n",
    "\n",
    "g.set_ylabel(\"Thalamic Input (A.U.)\", fontsize=25)\n",
    "g.set_xlabel(\"\", fontsize=20)\n",
    "ax.tick_params(labelsize=20)\n",
    "ax.set_xticks([0,1],['High\\nWFA','Low\\nWFA'],fontsize=22)\n",
    "ax.set_xticklabels(ax.xaxis.get_ticklabels(), rotation=0, ha='center')\n",
    "sns.despine()\n",
    "\n",
    "t,p = ttest_ind(\n",
    "    toPlot.loc[toPlot['group']=='hi','afferent'],\n",
    "    toPlot.loc[toPlot['group']=='low','afferent'],\n",
    "    nan_policy='omit'\n",
    "    )\n",
    "print(f\"T-test - T: {t:.4f} - p-value:{p:.4}\")\n",
    "\n",
    "plt.savefig('thalamicHigh-Low.svg',bbox_inches=\"tight\")"
   ]
  }
 ],
 "metadata": {
  "kernelspec": {
   "display_name": "Python 3.7.0 ('allen')",
   "language": "python",
   "name": "python3"
  },
  "language_info": {
   "codemirror_mode": {
    "name": "ipython",
    "version": 3
   },
   "file_extension": ".py",
   "mimetype": "text/x-python",
   "name": "python",
   "nbconvert_exporter": "python",
   "pygments_lexer": "ipython3",
   "version": "3.7.0"
  },
  "orig_nbformat": 4,
  "vscode": {
   "interpreter": {
    "hash": "5b41230a79c73660caffd1be412225afb5bf94923aa39d73f52f6e176d33f811"
   }
  }
 },
 "nbformat": 4,
 "nbformat_minor": 2
}
