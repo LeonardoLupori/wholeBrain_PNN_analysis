{
 "cells": [
  {
   "cell_type": "markdown",
   "metadata": {},
   "source": [
    "# Distribution of PNNs in the cortex"
   ]
  },
  {
   "cell_type": "code",
   "execution_count": null,
   "metadata": {},
   "outputs": [],
   "source": [
    "import pandas as pd\n",
    "import numpy as np\n",
    "import seaborn as sns\n",
    "import copy\n",
    "import matplotlib.pyplot as plt\n",
    "\n",
    "\n",
    "import sys, os\n",
    "sys.path.append(r'{}'.format(os.path.abspath(os.pardir)))\n",
    "\n",
    "# Custom modules\n",
    "from wholebrain_tools import aba, dataIO\n",
    "import wholebrain_tools.graphics as gt\n",
    "\n",
    "# You can provide a \"structures.json\" file. If you dont, it will download one\n",
    "paths = dataIO.pathParser()\n",
    "structuresFile = paths.structures\n",
    "A = aba.Atlas(nodes=structuresFile)\n",
    "DFM = aba.AnatomyDataFrameManager(A)"
   ]
  },
  {
   "cell_type": "markdown",
   "metadata": {},
   "source": [
    "# Load WFA data"
   ]
  },
  {
   "cell_type": "code",
   "execution_count": null,
   "metadata": {},
   "outputs": [],
   "source": [
    "# --------------------------------------------------------------------\n",
    "searchPath = paths.alldata\n",
    "channelName = 'wfa'     # 'wfa' or 'pv'\n",
    "# --------------------------------------------------------------------\n",
    "\n",
    "df = dataIO.allMiceRegions(searchPath=searchPath, channelName=channelName, normCellIntens=True)\n",
    "df = DFM.multiIndexDf_from_fineDf(df, verbose=True)\n",
    "\n",
    "# Dataframe of cortical layers\n",
    "cortex_df = DFM.regionsDf_to_corticalLayers(df, normalize=True, verbose=True)\n",
    "\n",
    "# Average values across mice\n",
    "layers_df = cortex_df.groupby(level='params',axis=1).mean()\n",
    "# Rearrange cortical layers dataframe to be horizontal\n",
    "layers_df = DFM.flip_corticalLayers(layers_df)\n",
    "\n",
    "layers_df"
   ]
  },
  {
   "cell_type": "markdown",
   "metadata": {},
   "source": [
    "# PNN Cortical Heatmaps "
   ]
  },
  {
   "cell_type": "markdown",
   "metadata": {},
   "source": [
    "### Heatmap - PNN Energy"
   ]
  },
  {
   "cell_type": "code",
   "execution_count": null,
   "metadata": {},
   "outputs": [],
   "source": [
    "# Prepare data seleting appropriate metric\n",
    "data = layers_df.xs('energy', level='params', axis=1)\n",
    "# Plot the heatmap\n",
    "_ = gt.corticalHeatmap(data, A, cmap='OrRd', vmin=0, vmax=5)\n",
    "\n",
    "# plt.savefig(\"corticalHeatmap_PNN-Energy.svg\", bbox_inches=\"tight\")"
   ]
  },
  {
   "cell_type": "markdown",
   "metadata": {},
   "source": [
    "### Heatmap - WFA Diffuse Fluorescence"
   ]
  },
  {
   "cell_type": "code",
   "execution_count": null,
   "metadata": {},
   "outputs": [],
   "source": [
    "# Prepare data seleting appropriate metric\n",
    "data = layers_df.xs('diffuseFluo', level='params', axis=1)\n",
    "# Plot the heatmap\n",
    "_ = gt.corticalHeatmap(data, A, cmap='PuBu', vmin=0, vmax=2)\n",
    "\n",
    "# plt.savefig(\"corticalHeatmap_PNN-DiffFluo.svg\", bbox_inches=\"tight\")"
   ]
  },
  {
   "cell_type": "markdown",
   "metadata": {},
   "source": [
    "# Load PV data"
   ]
  },
  {
   "cell_type": "code",
   "execution_count": null,
   "metadata": {},
   "outputs": [],
   "source": [
    "# --------------------------------------------------------------------\n",
    "searchPath = paths.alldata\n",
    "channelName = 'pv'     # 'wfa' or 'pv'\n",
    "# --------------------------------------------------------------------\n",
    "\n",
    "df = dataIO.allMiceRegions(searchPath=searchPath, channelName=channelName, normCellIntens=True)\n",
    "df = DFM.multiIndexDf_from_fineDf(df, verbose=True)\n",
    "\n",
    "# Dataframe of cortical layers\n",
    "cortex_df = DFM.regionsDf_to_corticalLayers(df, normalize=True, verbose=True)\n",
    "# Average values across mice\n",
    "layers_df = cortex_df.groupby(level='params',axis=1).mean()\n",
    "# Rearrange cortical layers dataframe to be horizontal\n",
    "layers_df = DFM.flip_corticalLayers(layers_df)\n",
    "\n",
    "layers_df"
   ]
  },
  {
   "cell_type": "markdown",
   "metadata": {},
   "source": [
    "# PV Cortical Heatmaps "
   ]
  },
  {
   "cell_type": "markdown",
   "metadata": {},
   "source": [
    "### Heatmap - PV Energy"
   ]
  },
  {
   "cell_type": "code",
   "execution_count": null,
   "metadata": {},
   "outputs": [],
   "source": [
    "# Prepare data seleting appropriate metric\n",
    "data = layers_df.xs('energy', level='params', axis=1)\n",
    "# Plot the heatmap\n",
    "_ = gt.corticalHeatmap(data, A, cmap='OrRd', vmin=0, vmax=3.5)\n",
    "\n",
    "# plt.savefig(\"corticalHeatmap_PV-Energy.svg\", bbox_inches=\"tight\")"
   ]
  },
  {
   "cell_type": "markdown",
   "metadata": {},
   "source": [
    "### Heatmap - PV Diffuse Fluorescence"
   ]
  },
  {
   "cell_type": "code",
   "execution_count": null,
   "metadata": {},
   "outputs": [],
   "source": [
    "# Prepare data seleting appropriate metric\n",
    "data = layers_df.xs('diffuseFluo', level='params', axis=1)\n",
    "# Plot the heatmap\n",
    "_ = gt.corticalHeatmap(data, A, cmap='PuBu', vmin=0, vmax=2)\n",
    "\n",
    "# plt.savefig(\"corticalHeatmap_PV-DiffFluo.svg\", bbox_inches=\"tight\")"
   ]
  }
 ],
 "metadata": {
  "kernelspec": {
   "display_name": "Python 3.7.0 ('allen')",
   "language": "python",
   "name": "python3"
  },
  "language_info": {
   "codemirror_mode": {
    "name": "ipython",
    "version": 3
   },
   "file_extension": ".py",
   "mimetype": "text/x-python",
   "name": "python",
   "nbconvert_exporter": "python",
   "pygments_lexer": "ipython3",
   "version": "3.7.0"
  },
  "orig_nbformat": 4,
  "vscode": {
   "interpreter": {
    "hash": "5b41230a79c73660caffd1be412225afb5bf94923aa39d73f52f6e176d33f811"
   }
  }
 },
 "nbformat": 4,
 "nbformat_minor": 2
}
