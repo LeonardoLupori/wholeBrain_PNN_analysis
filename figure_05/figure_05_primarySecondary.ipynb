{
 "cells": [
  {
   "cell_type": "code",
   "execution_count": null,
   "metadata": {},
   "outputs": [],
   "source": [
    "import matplotlib.pyplot as plt\n",
    "\n",
    "# For statistics\n",
    "from scipy.stats import ttest_rel\n",
    "\n",
    "import sys, os\n",
    "sys.path.append(r'{}'.format(os.path.abspath(os.pardir)))\n",
    "\n",
    "# Custom modules\n",
    "from wholebrain_tools import aba, dataIO\n",
    "import wholebrain_tools.graphics as gt\n",
    "import wholebrain_tools.stats as st\n",
    "\n",
    "# You can provide a \"structures.json\" file. If you dont, it will download one\n",
    "paths = dataIO.pathParser()\n",
    "structuresFile = paths.structures\n",
    "A = aba.Atlas(nodes=structuresFile)\n",
    "DFM = aba.AnatomyDataFrameManager(A)"
   ]
  },
  {
   "cell_type": "markdown",
   "metadata": {},
   "source": [
    "# Load data"
   ]
  },
  {
   "cell_type": "code",
   "execution_count": null,
   "metadata": {},
   "outputs": [],
   "source": [
    "# --------------------------------------------------------------------\n",
    "searchPath = paths.alldata\n",
    "channelName = 'wfa'     # 'wfa' or 'pv'\n",
    "# --------------------------------------------------------------------\n",
    "\n",
    "df = dataIO.allMiceRegions(searchPath=searchPath, channelName=channelName, normCellIntens=True)\n",
    "df = DFM.multiIndexDf_from_fineDf(df, verbose=True)\n",
    "\n",
    "df.head()"
   ]
  },
  {
   "cell_type": "markdown",
   "metadata": {},
   "source": [
    "# Visual Areas"
   ]
  },
  {
   "cell_type": "markdown",
   "metadata": {},
   "source": [
    "## Barplots - Primary vs Associative\n",
    "\n",
    "Aggregate data for this sensory system"
   ]
  },
  {
   "cell_type": "code",
   "execution_count": null,
   "metadata": {},
   "outputs": [],
   "source": [
    "sensory_df = DFM.regionsDf_to_sensorySystem(df, \n",
    "    sensorySystem='visual',     # Which sensory system to analyze\n",
    "    normalize=True,             # Normalize on the brain total values\n",
    "    mergeLayers=True)           # Collapse all cortical layers\n",
    "\n",
    "\n",
    "sensory_df.head()"
   ]
  },
  {
   "cell_type": "markdown",
   "metadata": {},
   "source": [
    "### PNN Energy"
   ]
  },
  {
   "cell_type": "code",
   "execution_count": null,
   "metadata": {},
   "outputs": [],
   "source": [
    "# Statistics\n",
    "stat, pval = ttest_rel(\n",
    "    sensory_df.xs('energy', axis=1, level='params').loc['primary'],\n",
    "    sensory_df.xs('energy', axis=1, level='params').loc['associative'])\n",
    "print(f'Rep. measures T-Test Primary vs Associative\\nt: {stat:.4f} p: {pval:.4f}')\n",
    "\n",
    "#Plot\n",
    "gt.primaryAreasBarplot(\n",
    "    sensory_df,\n",
    "    metric='energy',\n",
    "    cmap='OrRd',\n",
    "    ylabel='PNN Energy')\n",
    "\n",
    "# plt.savefig(\"VIS_primaryAssociative_grouped_energy.svg\", bbox_inches=\"tight\")"
   ]
  },
  {
   "cell_type": "markdown",
   "metadata": {},
   "source": [
    "### WFA Diffuse Fluorescence"
   ]
  },
  {
   "cell_type": "code",
   "execution_count": null,
   "metadata": {},
   "outputs": [],
   "source": [
    "# Statistics\n",
    "stat, pval = ttest_rel(\n",
    "    sensory_df.xs('diffuseFluo', axis=1, level='params').loc['primary'],\n",
    "    sensory_df.xs('diffuseFluo', axis=1, level='params').loc['associative'])\n",
    "print(f'Rep. measures T-Test Primary vs Associative\\nt: {stat:.4f} p: {pval:.4f}')\n",
    "\n",
    "# Plot\n",
    "gt.primaryAreasBarplot(\n",
    "    sensory_df,\n",
    "    metric='diffuseFluo',\n",
    "    cmap='PuBu',\n",
    "    ylabel='WFA Diffuse Fluorescence')\n",
    "\n",
    "# plt.savefig(\"VIS_primaryAssociative_grouped_diff.svg\", bbox_inches=\"tight\")"
   ]
  },
  {
   "cell_type": "markdown",
   "metadata": {},
   "source": [
    "## Barplots - Split By layers\n",
    "\n",
    "Aggregate data for this sensory system"
   ]
  },
  {
   "cell_type": "code",
   "execution_count": null,
   "metadata": {},
   "outputs": [],
   "source": [
    "sensory_df = DFM.regionsDf_to_sensorySystem(df, \n",
    "    sensorySystem='visual',     # Which sensory system to analyze\n",
    "    normalize=True,             # Normalize on the brain total values\n",
    "    mergeLayers=False)          # Collapse all cortical layers\n",
    "\n",
    "\n",
    "sensory_df.head()"
   ]
  },
  {
   "cell_type": "markdown",
   "metadata": {},
   "source": [
    "### PNN Energy"
   ]
  },
  {
   "cell_type": "code",
   "execution_count": null,
   "metadata": {},
   "outputs": [],
   "source": [
    "# Statistical analysis\n",
    "st.sensoryCortexByLayers(sensory_df, metric='energy', printResults=True)\n",
    "\n",
    "# Plot\n",
    "gt.primaryAreasLayersBarplot(sensory_df, \n",
    "    metric='energy',\n",
    "    cmap='OrRd',\n",
    "    xlabel='PNN Energy (A.U.)',\n",
    "    legendTitle='Visual Areas',\n",
    "    fontScaling=1)\n",
    "\n",
    "# plt.savefig(\"VIS_primaryAssociative_layers_energy.svg\", bbox_inches=\"tight\")"
   ]
  },
  {
   "cell_type": "markdown",
   "metadata": {},
   "source": [
    "# Auditory Areas"
   ]
  },
  {
   "cell_type": "code",
   "execution_count": null,
   "metadata": {},
   "outputs": [],
   "source": [
    "sensory_df = DFM.regionsDf_to_sensorySystem(df, \n",
    "    sensorySystem='auditory',       # Which sensory system to analyze\n",
    "    normalize=True,                 # Normalize on the brain total values\n",
    "    mergeLayers=True)               # Collapse all cortical layers\n",
    "\n",
    "\n",
    "\n",
    "sensory_df.head()"
   ]
  },
  {
   "cell_type": "markdown",
   "metadata": {},
   "source": [
    "## Barplots - Primary vs Associative"
   ]
  },
  {
   "cell_type": "markdown",
   "metadata": {},
   "source": [
    "### PNN Energy"
   ]
  },
  {
   "cell_type": "code",
   "execution_count": null,
   "metadata": {},
   "outputs": [],
   "source": [
    "# Statistics\n",
    "stat, pval = ttest_rel(\n",
    "    sensory_df.xs('energy', axis=1, level='params').loc['primary'],\n",
    "    sensory_df.xs('energy', axis=1, level='params').loc['associative'])\n",
    "print(f'Rep. measures T-Test Primary vs Associative\\nt: {stat:.4f} p: {pval:.4f}')\n",
    "\n",
    "#Plot\n",
    "gt.primaryAreasBarplot(\n",
    "    sensory_df,\n",
    "    metric='energy',\n",
    "    cmap='OrRd',\n",
    "    ylabel='PNN Energy')\n",
    "\n",
    "# plt.savefig(\"AUD_primaryAssociative_grouped_energy.svg\", bbox_inches=\"tight\")"
   ]
  },
  {
   "cell_type": "markdown",
   "metadata": {},
   "source": [
    "### WFA Diffuse Fluorescence"
   ]
  },
  {
   "cell_type": "code",
   "execution_count": null,
   "metadata": {},
   "outputs": [],
   "source": [
    "# Statistics\n",
    "stat, pval = ttest_rel(\n",
    "    sensory_df.xs('diffuseFluo', axis=1, level='params').loc['primary'],\n",
    "    sensory_df.xs('diffuseFluo', axis=1, level='params').loc['associative'])\n",
    "print(f'Rep. measures T-Test Primary vs Associative\\nt: {stat:.4f} p: {pval:.4f}')\n",
    "\n",
    "# Plot\n",
    "gt.primaryAreasBarplot(\n",
    "    sensory_df,\n",
    "    metric='diffuseFluo',\n",
    "    cmap='PuBu',\n",
    "    ylabel='WFA Diffuse Fluorescence')\n",
    "\n",
    "# plt.savefig(\"AUD_primaryAssociative_grouped_diff.svg\", bbox_inches=\"tight\")"
   ]
  },
  {
   "cell_type": "markdown",
   "metadata": {},
   "source": [
    "## Barplots - Split By layers"
   ]
  },
  {
   "cell_type": "code",
   "execution_count": null,
   "metadata": {},
   "outputs": [],
   "source": [
    "sensory_df = DFM.regionsDf_to_sensorySystem(df, \n",
    "    sensorySystem='auditory',       # Which sensory system to analyze\n",
    "    normalize=True,                 # Normalize on the brain total values\n",
    "    mergeLayers=False)              # Collapse all cortical layers\n",
    "\n",
    "\n",
    "sensory_df.head()"
   ]
  },
  {
   "cell_type": "markdown",
   "metadata": {},
   "source": [
    "### PNN Energy"
   ]
  },
  {
   "cell_type": "code",
   "execution_count": null,
   "metadata": {},
   "outputs": [],
   "source": [
    "# Statistical analysis\n",
    "st.sensoryCortexByLayers(sensory_df, metric='energy', printResults=True)\n",
    "\n",
    "# Plot\n",
    "gt.primaryAreasLayersBarplot(sensory_df, \n",
    "    metric='energy',\n",
    "    cmap='OrRd',\n",
    "    xlabel='PNN Energy (A.U.)',\n",
    "    legendTitle='Auditory Areas',\n",
    "    fontScaling=1)\n",
    "\n",
    "# plt.savefig(\"AUD_primaryAssociative_layers_energy.svg\", bbox_inches=\"tight\")"
   ]
  },
  {
   "cell_type": "markdown",
   "metadata": {},
   "source": [
    "# Somatosensory Areas"
   ]
  },
  {
   "cell_type": "code",
   "execution_count": null,
   "metadata": {},
   "outputs": [],
   "source": [
    "sensory_df = DFM.regionsDf_to_sensorySystem(df, \n",
    "    sensorySystem='somatosensory',  # Which sensory system to analyze\n",
    "    normalize=True,                 # Normalize on the brain total values\n",
    "    mergeLayers=True,               # Collapse all cortical layers\n",
    "    verbose=False)               \n",
    "\n",
    "sensory_df.head()"
   ]
  },
  {
   "cell_type": "markdown",
   "metadata": {},
   "source": [
    "## Barplots - Primary vs Associative"
   ]
  },
  {
   "cell_type": "markdown",
   "metadata": {},
   "source": [
    "### PNN Energy"
   ]
  },
  {
   "cell_type": "code",
   "execution_count": null,
   "metadata": {},
   "outputs": [],
   "source": [
    "# Statistics\n",
    "stat, pval = ttest_rel(\n",
    "    sensory_df.xs('energy', axis=1, level='params').loc['primary'],\n",
    "    sensory_df.xs('energy', axis=1, level='params').loc['associative'])\n",
    "print(f'Rep. measures T-Test Primary vs Associative\\nt: {stat:.4f} p: {pval:.4f}')\n",
    "\n",
    "#Plot\n",
    "gt.primaryAreasBarplot(\n",
    "    sensory_df,\n",
    "    metric='energy',\n",
    "    cmap='OrRd',\n",
    "    ylabel='PNN Energy')\n",
    "\n",
    "# plt.savefig(\"SS_primaryAssociative_grouped_energy.svg\", bbox_inches=\"tight\")"
   ]
  },
  {
   "cell_type": "markdown",
   "metadata": {},
   "source": [
    "### WFA Diffuse Fluorescence"
   ]
  },
  {
   "cell_type": "code",
   "execution_count": null,
   "metadata": {},
   "outputs": [],
   "source": [
    "# Statistics\n",
    "stat, pval = ttest_rel(\n",
    "    sensory_df.xs('diffuseFluo', axis=1, level='params').loc['primary'],\n",
    "    sensory_df.xs('diffuseFluo', axis=1, level='params').loc['associative'])\n",
    "print(f'Rep. measures T-Test Primary vs Associative\\nt: {stat:.4f} p: {pval:.4f}')\n",
    "\n",
    "# Plot\n",
    "gt.primaryAreasBarplot(\n",
    "    sensory_df,\n",
    "    metric='diffuseFluo',\n",
    "    cmap='PuBu',\n",
    "    ylabel='WFA Diffuse Fluorescence')\n",
    "\n",
    "# plt.savefig(\"SS_primaryAssociative_grouped_diff.svg\", bbox_inches=\"tight\")"
   ]
  },
  {
   "cell_type": "markdown",
   "metadata": {},
   "source": [
    "## Barplots - Split By layers"
   ]
  },
  {
   "cell_type": "code",
   "execution_count": null,
   "metadata": {},
   "outputs": [],
   "source": [
    "sensory_df = DFM.regionsDf_to_sensorySystem(df, \n",
    "    sensorySystem='somatosensory',  # Which sensory system to analyze\n",
    "    normalize=True,                 # Normalize on the brain total values\n",
    "    mergeLayers=False)              # Collapse all cortical layers\n",
    "\n",
    "\n",
    "sensory_df.head()"
   ]
  },
  {
   "cell_type": "markdown",
   "metadata": {},
   "source": [
    "### PNN Energy"
   ]
  },
  {
   "cell_type": "code",
   "execution_count": null,
   "metadata": {},
   "outputs": [],
   "source": [
    "# Statistical analysis\n",
    "st.sensoryCortexByLayers(sensory_df, metric='energy', printResults=True)\n",
    "\n",
    "# Plot\n",
    "gt.primaryAreasLayersBarplot(sensory_df, \n",
    "    metric='energy',\n",
    "    cmap='OrRd',\n",
    "    xlabel='PNN Energy (A.U.)',\n",
    "    legendTitle='Somatosensory Areas',\n",
    "    fontScaling=1)\n",
    "\n",
    "# plt.savefig(\"SS_primaryAssociative_layers_energy.svg\", bbox_inches=\"tight\")"
   ]
  }
 ],
 "metadata": {
  "kernelspec": {
   "display_name": "Python 3.7.0 ('allen')",
   "language": "python",
   "name": "python3"
  },
  "language_info": {
   "codemirror_mode": {
    "name": "ipython",
    "version": 3
   },
   "file_extension": ".py",
   "mimetype": "text/x-python",
   "name": "python",
   "nbconvert_exporter": "python",
   "pygments_lexer": "ipython3",
   "version": "3.7.0"
  },
  "orig_nbformat": 4,
  "vscode": {
   "interpreter": {
    "hash": "5b41230a79c73660caffd1be412225afb5bf94923aa39d73f52f6e176d33f811"
   }
  }
 },
 "nbformat": 4,
 "nbformat_minor": 2
}
