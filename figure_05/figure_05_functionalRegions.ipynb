{
 "cells": [
  {
   "cell_type": "code",
   "execution_count": null,
   "metadata": {},
   "outputs": [],
   "source": [
    "import pandas as pd\n",
    "import numpy as np\n",
    "import seaborn as sns\n",
    "import matplotlib.pyplot as plt\n",
    "from matplotlib import cm\n",
    "from matplotlib.patches import Polygon\n",
    "from scipy.spatial import ConvexHull\n",
    "\n",
    "import itertools\n",
    "from sklearn.metrics import silhouette_score\n",
    "from scipy.stats import f_oneway, ttest_rel, ttest_ind\n",
    "from statsmodels.stats.multitest import multipletests\n",
    "from statsmodels.stats.anova import AnovaRM\n",
    "\n",
    "import sys, os\n",
    "sys.path.append(r'{}'.format(os.path.abspath(os.pardir)))\n",
    "\n",
    "# Custom modules\n",
    "from wholebrain_tools import aba, dataIO\n",
    "import wholebrain_tools.graphics as gt\n",
    "\n",
    "# You can provide a \"structures.json\" file. If you dont, it will download one\n",
    "paths = dataIO.pathParser()\n",
    "structuresFile = paths.structures\n",
    "A = aba.Atlas(nodes=structuresFile)\n",
    "DFM = aba.AnatomyDataFrameManager(A)"
   ]
  },
  {
   "cell_type": "markdown",
   "metadata": {},
   "source": [
    "# Load data for WFA"
   ]
  },
  {
   "cell_type": "code",
   "execution_count": null,
   "metadata": {},
   "outputs": [],
   "source": [
    "# --------------------------------------------------------------------\n",
    "searchPath = paths.alldata\n",
    "channelName = 'wfa'     # 'wfa' or 'pv'\n",
    "# --------------------------------------------------------------------\n",
    "\n",
    "df = dataIO.allMiceRegions(searchPath=searchPath, channelName=channelName, normCellIntens=True)\n",
    "df = DFM.multiIndexDf_from_fineDf(df, verbose=True)\n",
    "\n",
    "# Dataframe at mid-ontology\n",
    "midDf_wfa = DFM.regionsDf_to_mid(df, verbose=False, normalize=True)\n",
    "# Select only cortical areas\n",
    "cortex_df = midDf_wfa.loc[315]\n",
    "\n",
    "# Calculate mean and sem\n",
    "mean = cortex_df.groupby('params', axis=1).mean()\n",
    "sem = cortex_df.groupby('params', axis=1).sem().add_suffix('_sem')\n",
    "\n",
    "# Get the annotation of cortical areas in subnetworks\n",
    "subnet = dataIO.corticalAreasGroups(toDataFrame=True)\n",
    "subnet.index = A.acronyms_to_ids(subnet.index)\n",
    "\n",
    "data = pd.concat([mean, sem, subnet], axis=1)\n",
    "\n",
    "# Drop areas with unknown function (\"other\")\n",
    "data = data.drop(data[data['function']=='other'].index)\n",
    "\n",
    "# Rename values in \"function\" columns for aesthetic purposes\n",
    "switchDict = {\n",
    "    'mAssociation':'Medial Association',\n",
    "    'mPrefrontal': 'Medial Prefrontal',\n",
    "    'lateral':'Lateral',\n",
    "    'motorSS':'Motor-Somatosensory',\n",
    "    'audioVisual':'Audio-Visual'\n",
    "}\n",
    "data['function_nice'] = [switchDict[x] for x in data['function']]\n",
    "\n",
    "data.head()"
   ]
  },
  {
   "cell_type": "markdown",
   "metadata": {},
   "source": [
    "# Plot the cortical subnetworks"
   ]
  },
  {
   "cell_type": "code",
   "execution_count": null,
   "metadata": {},
   "outputs": [],
   "source": [
    "sns.set_style('white')\n",
    "\n",
    "f, ax = plt.subplots(figsize=(7,7))\n",
    "\n",
    "# Main scatterplot\n",
    "g = sns.scatterplot(\n",
    "    data=data,\n",
    "    x='diffuseFluo',\n",
    "    y='energy',\n",
    "    s=140,\n",
    "    hue='function_nice'\n",
    ")\n",
    "\n",
    "# Add the convex hull background\n",
    "bgPalette = sns.color_palette(\"pastel\")\n",
    "for i, areacategory in enumerate(data['function'].unique()):\n",
    "    set = data.loc[data['function']==areacategory, ['diffuseFluo', 'energy']]\n",
    "    points = set.values\n",
    "    hull = ConvexHull(points)\n",
    "    p = Polygon(points[hull.vertices,:], alpha=0.3, zorder=-20, facecolor=bgPalette[i])\n",
    "    ax.add_patch(p)\n",
    "\n",
    "# Plot the errorbars\n",
    "plt.errorbar(\n",
    "    x=data['diffuseFluo'],\n",
    "    y=data['energy'],\n",
    "    xerr=data['diffuseFluo_sem'],\n",
    "    yerr=data['energy_sem'],\n",
    "    fmt='None',\n",
    "    ecolor='gray',\n",
    "    elinewidth=.5,\n",
    "    zorder=-13\n",
    ")\n",
    "\n",
    "plt.legend(\n",
    "    title='Cortical Subnetwork',\n",
    "    fontsize=14,\n",
    "    loc='best',\n",
    "    title_fontsize=16,\n",
    "    frameon=False\n",
    ")\n",
    "\n",
    "# Customize Axis\n",
    "g.set_xlabel(\"WFA Diffuse Fluorescence (A.U.)\", fontsize=22)\n",
    "g.set_ylabel(\"PNN Energy (A.U.)\", fontsize=22)\n",
    "ax.tick_params(labelsize=16)\n",
    "\n",
    "sns.despine()\n",
    "\n",
    "# plt.savefig('CorticalSubnetworks.svg',bbox_inches=\"tight\")"
   ]
  },
  {
   "cell_type": "markdown",
   "metadata": {},
   "source": [
    "# Quantify cluster quality with silhouette score"
   ]
  },
  {
   "cell_type": "markdown",
   "metadata": {},
   "source": [
    "## Load data"
   ]
  },
  {
   "cell_type": "code",
   "execution_count": null,
   "metadata": {},
   "outputs": [],
   "source": [
    "# --------------------------------------------------------------------\n",
    "searchPath = paths.alldata\n",
    "# --------------------------------------------------------------------\n",
    "\n",
    "# WFA\n",
    "df_wfa = dataIO.allMiceRegions(searchPath=searchPath, channelName='wfa', normCellIntens=True)\n",
    "df_wfa = DFM.multiIndexDf_from_fineDf(df_wfa, verbose=False)\n",
    "\n",
    "# Dataframe at mid-ontology\n",
    "midDf_wfa = DFM.regionsDf_to_mid(df_wfa, verbose=False, normalize=True)\n",
    "\n",
    "midDf_wfa"
   ]
  },
  {
   "cell_type": "markdown",
   "metadata": {},
   "source": [
    "## Perform some preprocessing"
   ]
  },
  {
   "cell_type": "code",
   "execution_count": null,
   "metadata": {},
   "outputs": [],
   "source": [
    "# Select cortical layers\n",
    "allAnimals = midDf_wfa.reorder_levels([1, 0], axis=1).loc[315,['diffuseFluo','energy']]\n",
    "\n",
    "# Get the annotation of cortical areas in subnetworks\n",
    "subnet = dataIO.corticalAreasGroups(toDataFrame=True)\n",
    "subnet.index = A.acronyms_to_ids(subnet.index)\n",
    "\n",
    "newIndex = [('X', x) for x in subnet.columns.tolist()]\n",
    "subnet.columns = newIndex\n",
    "temp = pd.concat([allAnimals, subnet],  axis=1)\n",
    "\n",
    "# Set the area function as the index\n",
    "data = temp.set_index(('X','function'), append=True)\n",
    "data.index.names = ['id','function']\n",
    "\n",
    "# Drop areas without function (function:\"other\")\n",
    "data = data.drop('other', level='function')\n",
    "\n",
    "data.head()"
   ]
  },
  {
   "cell_type": "markdown",
   "metadata": {},
   "source": [
    "## Calculate Silhouette scores"
   ]
  },
  {
   "cell_type": "code",
   "execution_count": null,
   "metadata": {},
   "outputs": [],
   "source": [
    "animals = data.columns.get_level_values('mouse').unique()\n",
    "scores = []\n",
    "scoresDefaultFunction = []\n",
    "scoresShuffled = []\n",
    "\n",
    "for mouse in animals:\n",
    "    animal = data.xs(mouse, axis=1, level='mouse').copy()\n",
    "\n",
    "    oldFunctions = animal.index.get_level_values('function')\n",
    "    hiLowCluster = ['low' if x in ['lateral', 'mPrefrontal'] else 'high' for x in oldFunctions]\n",
    "    animal['hiLowCluster'] = hiLowCluster\n",
    "\n",
    "    # Silhouette for the custom clustering\n",
    "    score = silhouette_score(animal[['diffuseFluo','energy']], animal['hiLowCluster'])\n",
    "    scores.append(score)\n",
    "\n",
    "    # Silhouette for functional region clustering\n",
    "    score = silhouette_score(animal[['diffuseFluo','energy']], animal.index.get_level_values('function'))\n",
    "    scoresDefaultFunction.append(score)\n",
    "\n",
    "    # Silhouette for shuffled clustering\n",
    "    tempScores = []\n",
    "    rng = np.random.default_rng(123)     # Seed for reproducibility\n",
    "    for i in range(100):\n",
    "        # score = silhouette_score(animal[['diffuseFluo','energy']], np.random.permutation(animal['hiLowCluster']))\n",
    "        score = silhouette_score(animal[['diffuseFluo','energy']], rng.permutation(animal['hiLowCluster']))\n",
    "        tempScores.append(score)\n",
    "    scoresShuffled.append(np.mean(tempScores))\n",
    "\n",
    "# Store everything in a dataFrame\n",
    "silScores = pd.DataFrame({\n",
    "    'Low-High WFA':scores,\n",
    "    'Cortical Subnet.':scoresDefaultFunction,\n",
    "    'Shuffle':scoresShuffled})\n",
    "\n",
    "silScores"
   ]
  },
  {
   "cell_type": "markdown",
   "metadata": {},
   "source": [
    "## Plot the silhouette results"
   ]
  },
  {
   "cell_type": "code",
   "execution_count": null,
   "metadata": {},
   "outputs": [],
   "source": [
    "sns.set_style('white')\n",
    "\n",
    "# Define colors\n",
    "cmap = cm.get_cmap(\"PuBu\")\n",
    "pointColor = cmap(0.85)\n",
    "barColor = cmap(0.4)\n",
    "\n",
    "f, ax = plt.subplots(figsize=(2,7))\n",
    "g = sns.barplot(\n",
    "    data=silScores,\n",
    "    color=barColor,\n",
    "    saturation=0.7,\n",
    "    errorbar='se')\n",
    "sns.stripplot(\n",
    "    data=silScores,\n",
    "    size=10,\n",
    "    # color=pointColor,\n",
    "    color=pointColor,\n",
    "    edgecolor='white',\n",
    "    linewidth=0.5,\n",
    "    zorder=2\n",
    ")\n",
    "\n",
    "# Axis customization\n",
    "plt.axhline(y=0, color='dimgrey', linestyle='-', zorder=1)\n",
    "g.set_ylabel(\"Silhouette score\", fontsize=20)\n",
    "g.set_xlabel(\"Clusters\", fontsize=20)\n",
    "ax.tick_params(labelsize=15)\n",
    "ax.set_xticklabels(ax.xaxis.get_ticklabels(), rotation=45, ha='right')\n",
    "\n",
    "sns.despine()\n",
    "\n",
    "\n",
    "# Statistical analysis\n",
    "# One way ANOVA\n",
    "f, pval = f_oneway(silScores['Low-High WFA'], silScores['Cortical Subnet.'], silScores['Shuffle'])\n",
    "print('='*45)\n",
    "print(f\"One-Way ANOVA - F: {f:.4f}  p-value: {pval:.4}\")\n",
    "print('='*45, end=\"\\n\\n\")\n",
    "\n",
    "# Post hocs\n",
    "variables = ['Low-High WFA','Cortical Subnet.','Shuffle']\n",
    "pList = []\n",
    "tList = []\n",
    "for x in itertools.combinations(variables, r=2):\n",
    "    print(f\"T-test - {x[0]} vs {x[1]}\")\n",
    "    t, p = ttest_ind(silScores[x[0]], silScores[x[1]])\n",
    "    print(f'\\tt: {t:.4f}, p-value: {p:.4}')\n",
    "    tList.append(t)\n",
    "    pList.append(p)\n",
    "\n",
    "# Correct for multiple comparison\n",
    "_, pAdj, _, _  = multipletests(pList, method='holm-sidak')\n",
    "_ = [print(f\"Adjusted p: {x:.4}\") for x in pAdj]\n",
    "\n",
    "# plt.savefig('Silhouette.svg',bbox_inches=\"tight\")"
   ]
  },
  {
   "cell_type": "code",
   "execution_count": null,
   "metadata": {},
   "outputs": [],
   "source": [
    "pointColor"
   ]
  }
 ],
 "metadata": {
  "kernelspec": {
   "display_name": "Python 3.7.0 ('allen')",
   "language": "python",
   "name": "python3"
  },
  "language_info": {
   "codemirror_mode": {
    "name": "ipython",
    "version": 3
   },
   "file_extension": ".py",
   "mimetype": "text/x-python",
   "name": "python",
   "nbconvert_exporter": "python",
   "pygments_lexer": "ipython3",
   "version": "3.7.0"
  },
  "orig_nbformat": 4,
  "vscode": {
   "interpreter": {
    "hash": "5b41230a79c73660caffd1be412225afb5bf94923aa39d73f52f6e176d33f811"
   }
  }
 },
 "nbformat": 4,
 "nbformat_minor": 2
}
