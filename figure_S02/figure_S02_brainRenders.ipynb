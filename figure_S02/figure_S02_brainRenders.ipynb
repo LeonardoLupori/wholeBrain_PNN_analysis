{
 "cells": [
  {
   "cell_type": "code",
   "execution_count": null,
   "metadata": {},
   "outputs": [],
   "source": [
    "import bgheatmaps as bgh\n",
    "from bgheatmaps.slicer import Slicer\n",
    "import pandas as pd\n",
    "import numpy as np\n",
    "import matplotlib.pyplot as plt\n",
    "import matplotlib as mpl\n",
    "import sys, os\n",
    "import pandas as pd\n",
    "sys.path.append(r'C:\\Users\\Valentino\\Documents\\Python\\wholeBrain_PNN_analysis')\n",
    "# Custom packages\n",
    "from wholebrain_tools import dataIO, aba\n",
    "\n",
    "paths = dataIO.pathParser()\n",
    "structuresFile = paths.structures\n",
    "A = aba.Atlas(nodes=structuresFile)\n"
   ]
  },
  {
   "cell_type": "markdown",
   "metadata": {},
   "source": [
    "# Load Data"
   ]
  },
  {
   "cell_type": "code",
   "execution_count": null,
   "metadata": {},
   "outputs": [],
   "source": [
    "midDf = pd.read_csv('stain.csv', header=[0], index_col=[0])\n",
    "# midDf = midDf.drop(1009)       # Drop Fiber tracts\n",
    "midDf['acronym'] = A.ids_to_acronyms(midDf.index.get_level_values('mid'))\n"
   ]
  },
  {
   "attachments": {},
   "cell_type": "markdown",
   "metadata": {},
   "source": [
    "#### Set A-P levels for the heatmaps and the vmax"
   ]
  },
  {
   "cell_type": "code",
   "execution_count": null,
   "metadata": {},
   "outputs": [],
   "source": [
    "ap = [3227.27272727,6681.81818182, 10356]\n",
    "VMAX = 2"
   ]
  },
  {
   "attachments": {},
   "cell_type": "markdown",
   "metadata": {},
   "source": [
    "# Staining - Render the brain"
   ]
  },
  {
   "cell_type": "code",
   "execution_count": null,
   "metadata": {},
   "outputs": [],
   "source": [
    "metric = 'diffFluo'\n",
    "\n",
    "bgData = midDf[['acronym',metric]].set_index('acronym')\n",
    "dataDict = bgData[metric].to_dict()\n",
    "\n",
    "print(\"Rendering...\")\n",
    "heatmap = bgh.heatmap(\n",
    "    dataDict,\n",
    "    position=5000,\n",
    "    orientation=\"frontal\",\n",
    "    thickness=15000,\n",
    "    title=\"WFA diffuse\",\n",
    "    cmap='PuBu',\n",
    "    vmin=0,\n",
    "    vmax=VMAX,\n",
    "    format=\"2D\",\n",
    ")\n",
    "heatmap.scene.close()"
   ]
  },
  {
   "attachments": {},
   "cell_type": "markdown",
   "metadata": {},
   "source": [
    "# Staining - Slice and save all images"
   ]
  },
  {
   "cell_type": "code",
   "execution_count": null,
   "metadata": {},
   "outputs": [],
   "source": [
    "OUTPUT_FOLDER = os.path.join(os.getcwd(), 'render_background')\n",
    "\n",
    "if not os.path.isdir(OUTPUT_FOLDER):\n",
    "    os.mkdir(OUTPUT_FOLDER)\n",
    "else:\n",
    "    raise Exception('OUTPUT_FOLDER already present!')\n",
    "\n",
    "for coord in ap:\n",
    "    s = Slicer(coord, \"frontal\", 100, heatmap.scene.root)\n",
    "    heatmap.slicer = s\n",
    "\n",
    "    projected, _ = heatmap.slicer.get_structures_slice_coords(\n",
    "                heatmap.regions_meshes, heatmap.scene.root\n",
    "            )\n",
    "\n",
    "    f, ax = plt.subplots(figsize=(9, 9))\n",
    "    for r, coords in projected.items():\n",
    "        name, segment = r.split(\"_segment_\")\n",
    "        ax.fill(\n",
    "            coords[:, 0],\n",
    "            coords[:, 1],\n",
    "            color=heatmap.colors[name],\n",
    "            label=name if segment == \"0\" and name != \"root\" else None,\n",
    "            lw=1,\n",
    "            ec=\"k\",\n",
    "            zorder=-1 if name == \"root\" else None,\n",
    "            alpha=0.3 if name == \"root\" else None,\n",
    "        )\n",
    "\n",
    "    # style axes\n",
    "    ax.invert_yaxis()\n",
    "    ax.spines[\"right\"].set_visible(False)\n",
    "    ax.spines[\"top\"].set_visible(False)\n",
    "    ax.spines[\"left\"].set_visible(False)\n",
    "    ax.spines['bottom'].set_visible(False)\n",
    "    ax.set_xticks([])\n",
    "    ax.set_yticks([])\n",
    "    ax.set(xlabel='', ylabel='')\n",
    "    ax.set_aspect('equal',adjustable='box')\n",
    "\n",
    "    # Only the left part\n",
    "    ax.set_xlim([0,5700])\n",
    "\n",
    "    fName = f\"wfaStain_{coord:05.0f}.svg\"\n",
    "    f.savefig(os.path.join(OUTPUT_FOLDER, fName))"
   ]
  },
  {
   "attachments": {},
   "cell_type": "markdown",
   "metadata": {},
   "source": [
    "# Background - Render the brain"
   ]
  },
  {
   "cell_type": "code",
   "execution_count": null,
   "metadata": {},
   "outputs": [],
   "source": [
    "midDf = pd.read_csv('negative_control.csv', header=[0], index_col=[0])\n",
    "# midDf = midDf.drop(1009)       # Drop Fiber tracts\n",
    "midDf['acronym'] = A.ids_to_acronyms(midDf.index.get_level_values('mid'))\n"
   ]
  },
  {
   "cell_type": "code",
   "execution_count": null,
   "metadata": {},
   "outputs": [],
   "source": [
    "metric = 'diffFluo'\n",
    "\n",
    "bgData = midDf[['acronym',metric]].set_index('acronym')\n",
    "dataDict = bgData[metric].to_dict()\n",
    "\n",
    "print(\"Rendering...\")\n",
    "heatmap = bgh.heatmap(\n",
    "    dataDict,\n",
    "    position=5000,\n",
    "    orientation=\"frontal\",\n",
    "    thickness=15000,\n",
    "    title=\"WFA diffuse\",\n",
    "    cmap='PuBu',\n",
    "    vmin=0,\n",
    "    vmax=VMAX,\n",
    "    format=\"2D\",\n",
    ")\n",
    "heatmap.scene.close()"
   ]
  },
  {
   "attachments": {},
   "cell_type": "markdown",
   "metadata": {},
   "source": [
    "# Background - Slice and save all images"
   ]
  },
  {
   "cell_type": "code",
   "execution_count": null,
   "metadata": {},
   "outputs": [],
   "source": [
    "for coord in ap:\n",
    "    s = Slicer(coord, \"frontal\", 100, heatmap.scene.root)\n",
    "    heatmap.slicer = s\n",
    "\n",
    "    projected, _ = heatmap.slicer.get_structures_slice_coords(\n",
    "                heatmap.regions_meshes, heatmap.scene.root\n",
    "            )\n",
    "\n",
    "    f, ax = plt.subplots(figsize=(9, 9))\n",
    "    for r, coords in projected.items():\n",
    "        name, segment = r.split(\"_segment_\")\n",
    "        ax.fill(\n",
    "            coords[:, 0],\n",
    "            coords[:, 1],\n",
    "            color=heatmap.colors[name],\n",
    "            label=name if segment == \"0\" and name != \"root\" else None,\n",
    "            lw=1,\n",
    "            ec=\"k\",\n",
    "            zorder=-1 if name == \"root\" else None,\n",
    "            alpha=0.3 if name == \"root\" else None,\n",
    "        )\n",
    "\n",
    "    # style axes\n",
    "    ax.invert_yaxis()\n",
    "    ax.spines[\"right\"].set_visible(False)\n",
    "    ax.spines[\"top\"].set_visible(False)\n",
    "\n",
    "    ax.spines[\"left\"].set_visible(False)\n",
    "    ax.spines['bottom'].set_visible(False)\n",
    "    ax.set_xticks([])\n",
    "    ax.set_yticks([])\n",
    "    ax.set(xlabel='', ylabel='')\n",
    "    ax.set_aspect('equal',adjustable='box')\n",
    "\n",
    "    # Only the right part\n",
    "    ax.set_xlim([5700,11400])\n",
    "\n",
    "\n",
    "    fName = f\"wfaNC_{coord:05.0f}.svg\"\n",
    "    f.savefig(os.path.join(OUTPUT_FOLDER, fName))"
   ]
  }
 ],
 "metadata": {
  "kernelspec": {
   "display_name": "Python 3.8.0 ('pnnatlas')",
   "language": "python",
   "name": "python3"
  },
  "language_info": {
   "codemirror_mode": {
    "name": "ipython",
    "version": 3
   },
   "file_extension": ".py",
   "mimetype": "text/x-python",
   "name": "python",
   "nbconvert_exporter": "python",
   "pygments_lexer": "ipython3",
   "version": "3.9.16"
  },
  "orig_nbformat": 4,
  "vscode": {
   "interpreter": {
    "hash": "eb9b05a023cb0337c51761f78a0c6634fc896ffd0dc5040e9e8f7090450a0310"
   }
  }
 },
 "nbformat": 4,
 "nbformat_minor": 2
}
