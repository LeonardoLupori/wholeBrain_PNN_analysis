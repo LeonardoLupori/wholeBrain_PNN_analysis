{
 "cells": [
  {
   "cell_type": "markdown",
   "metadata": {},
   "source": [
    "### Import packages"
   ]
  },
  {
   "cell_type": "code",
   "execution_count": 1,
   "metadata": {},
   "outputs": [],
   "source": [
    "# Append the analysis folder so that you can import custom packages\n",
    "import sys, os\n",
    "import pandas as pd\n",
    "sys.path.append(r'C:\\Users\\Valentino\\Documents\\Python\\wholeBrain_PNN_analysis')\n",
    "# Custom packages\n",
    "from wholebrain_tools import dataIO, aba\n",
    "from wholebrain_tools import background as bg\n",
    "\n",
    "# Instantiate an Atlas object from the aba module\n",
    "# The first time you run this it will download the structures.json file from the Allen Institute server\n",
    "paths = dataIO.pathParser()\n",
    "structuresFile = paths.structures\n",
    "A = aba.Atlas(nodes=structuresFile)\n",
    "DFM = aba.AnatomyDataFrameManager(A)"
   ]
  },
  {
   "cell_type": "markdown",
   "metadata": {},
   "source": [
    "## Load data"
   ]
  },
  {
   "attachments": {},
   "cell_type": "markdown",
   "metadata": {},
   "source": [
    "Note that in the results folder for the negative control experiment mice are assigned with one of the following IDs: 'BG1', 'BG2', 'BG3'. Each ID is then followed by a letter: 'A' for the negative control slices (WFA<sup>-</sup>, SA-555<sup>+</sup>), 'B' for WFA-stained slices (WFA<sup>+</sup>, SA-555<sup>+</sup>)."
   ]
  },
  {
   "cell_type": "code",
   "execution_count": 7,
   "metadata": {},
   "outputs": [],
   "source": [
    "# ------------------------------------------------------------------------------\n",
    "searchpath =  paths.background\n",
    "# ------------------------------------------------------------------------------\n",
    "\n",
    "# Load dots data from all aniamls\n",
    "df = bg.allMiceBackgroundRegions(searchpath, channelName='wfa')\n",
    "df = DFM.multiIndexDf_from_fineDf(df)\n",
    "# # # Dataframe at mid ontology\n",
    "fluo = bg.backgroundRegionsDf_to_mid(df, A)\n"
   ]
  },
  {
   "cell_type": "code",
   "execution_count": null,
   "metadata": {},
   "outputs": [],
   "source": [
    "stain = fluo.xs('stain', axis='columns', level='treat')\n",
    "nc = fluo.xs('NC', axis='columns', level='treat')\n"
   ]
  },
  {
   "cell_type": "markdown",
   "metadata": {},
   "source": [
    "## Process and save"
   ]
  },
  {
   "cell_type": "code",
   "execution_count": null,
   "metadata": {},
   "outputs": [],
   "source": [
    "# Drop the fiber tracts and nan values\n",
    "stain = stain.drop(1009, level='coarse')\n",
    "stain = stain.dropna(axis='rows')\n",
    "\n",
    "nc = nc.drop(1009, level='coarse')\n",
    "nc = nc.dropna(axis='rows')"
   ]
  },
  {
   "cell_type": "code",
   "execution_count": null,
   "metadata": {},
   "outputs": [],
   "source": [
    "# Average across mice\n",
    "stain = stain.mean(axis='columns')\n",
    "nc = nc.mean(axis='columns')"
   ]
  },
  {
   "cell_type": "code",
   "execution_count": null,
   "metadata": {},
   "outputs": [],
   "source": [
    "nc.name = 'diffFluo'\n",
    "stain.name = 'diffFluo'"
   ]
  },
  {
   "cell_type": "code",
   "execution_count": null,
   "metadata": {},
   "outputs": [],
   "source": [
    "# Add the Acronym as a column\n",
    "\n",
    "stain = stain.droplevel('coarse')\n",
    "\n",
    "stain.to_csv(\"stain.csv\")\n",
    "\n",
    "nc = nc.droplevel('coarse')\n",
    "\n",
    "nc.to_csv(\"negative_control.csv\")\n",
    "\n",
    "print('Exported.')"
   ]
  }
 ],
 "metadata": {
  "kernelspec": {
   "display_name": "Python 3.7.0 ('allen')",
   "language": "python",
   "name": "python3"
  },
  "language_info": {
   "codemirror_mode": {
    "name": "ipython",
    "version": 3
   },
   "file_extension": ".py",
   "mimetype": "text/x-python",
   "name": "python",
   "nbconvert_exporter": "python",
   "pygments_lexer": "ipython3",
   "version": "3.9.16"
  },
  "orig_nbformat": 4,
  "vscode": {
   "interpreter": {
    "hash": "5b41230a79c73660caffd1be412225afb5bf94923aa39d73f52f6e176d33f811"
   }
  }
 },
 "nbformat": 4,
 "nbformat_minor": 2
}
