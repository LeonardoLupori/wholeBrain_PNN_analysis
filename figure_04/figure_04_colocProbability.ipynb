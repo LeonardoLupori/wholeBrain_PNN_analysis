{
 "cells": [
  {
   "cell_type": "code",
   "execution_count": null,
   "metadata": {},
   "outputs": [],
   "source": [
    "import sys\n",
    "sys.path.append(r'C:\\Users\\Valentino\\Documents\\MATLAB\\PNN_wholeBrain\\analysis_CTR')\n",
    "import pandas as pd \n",
    "import seaborn as sns\n",
    "import numpy as np\n",
    "import matplotlib.pyplot as plt\n",
    "from matplotlib import cm\n",
    "\n",
    "# Custom packages\n",
    "import dataIO\n",
    "import AbaTool\n",
    "import GraphicTool as gt\n",
    "\n",
    "# Instantiate an Atlas object from the AbaTool.py file \n",
    "# The first time you run this it will download the structures.json file from the Allen Institute server\n",
    "structuresFile = r\"C:\\Users\\Valentino\\Documents\\MATLAB\\PNN_wholeBrain\\analysis_CTR\\structures.json\"\n",
    "A = AbaTool.Atlas(nodes=structuresFile)\n",
    "DFM = AbaTool.AnatomyDataFrameManager(A)"
   ]
  },
  {
   "cell_type": "code",
   "execution_count": null,
   "metadata": {},
   "outputs": [],
   "source": [
    "%load_ext autoreload\n",
    "%autoreload 2"
   ]
  },
  {
   "cell_type": "markdown",
   "metadata": {},
   "source": [
    "# Cell Intensity for all cells"
   ]
  },
  {
   "cell_type": "code",
   "execution_count": null,
   "metadata": {},
   "outputs": [],
   "source": [
    "# ------------------------------------------------------------------------------\n",
    "searchpath =  r'D:\\proj_PNN-Atlas\\RESULTS\\colocalization_CTR'\n",
    "# ------------------------------------------------------------------------------\n",
    "\n",
    "# Load dots data from all aniamls\n",
    "df = dataIO.allMiceDots(searchpath)\n",
    "df = df[df['regionID']!= 0]\n",
    "df = DFM.add_resolution_column(df,'regionID')\n",
    "\n",
    "df"
   ]
  },
  {
   "cell_type": "markdown",
   "metadata": {},
   "source": [
    "## Prepare data"
   ]
  },
  {
   "cell_type": "code",
   "execution_count": null,
   "metadata": {},
   "outputs": [],
   "source": [
    "NBINS = 64\n",
    "\n",
    "probWfa  = []\n",
    "probPv  = []\n",
    "intensityBins = []\n",
    "mice = []\n",
    "numPnn = []\n",
    "numPv = []\n",
    "\n",
    "# Select only control mice\n",
    "# rawDf = df.xs('CTR', axis=0,level='treat')\n",
    "rawDf = df.copy()\n",
    "\n",
    "#extract data for each mouse and concatenate dataframes\n",
    "for mouse in rawDf.index.get_level_values('mouse').unique():\n",
    "    m_df = rawDf.xs(mouse, axis=0, level='mouse')                 # Select single mouse\n",
    "    # Calculate histogram values for pv and wfa\n",
    "    pdf_wfa, bin_edges = np.histogram(m_df['fluoMeanWfa'].dropna(), range= (0,1), density=False, bins=NBINS)\n",
    "    pdf_wfa = pdf_wfa/pdf_wfa.sum()     # Normalize to total integral = 1\n",
    "    pdf_pv, _ = np.histogram(m_df['fluoMeanPv'].dropna(), range= (0,1), density=False, bins=NBINS)\n",
    "    pdf_pv = pdf_pv/pdf_pv.sum()        # Normalize to total integral = 1\n",
    "\n",
    "    bins = (bin_edges[1:] + bin_edges[:-1]) / 2\n",
    "    numPnn.append(m_df['fluoMeanWfa'].dropna().shape[0])\n",
    "    numPv.append(m_df['fluoMeanPv'].dropna().shape[0])\n",
    "    probWfa.extend(pdf_wfa)\n",
    "    probPv.extend(pdf_pv)\n",
    "    mice.extend([mouse]*len(bins))\n",
    "    intensityBins.extend(bins)\n",
    "\n",
    "distr = pd.DataFrame({\n",
    "    'mouse':mice,\n",
    "    'probWfa':probWfa,\n",
    "    'probPv':probPv,\n",
    "    'intBin':intensityBins,\n",
    "    })\n",
    "\n",
    "data = pd.DataFrame({\n",
    "    'numPv':numPv,\n",
    "    'numPnns':numPnn,\n",
    "    })\n",
    "# Print out informations\n",
    "print(\"=\"*60)\n",
    "print(f\"Number of PNNs: \\t{data['numPnns'].mean():.1f} \\tSEM: {data['numPnns'].sem():.1f}\")\n",
    "print(f\"Number of PVs: \\t\\t{data['numPv'].mean():.1f} \\tSEM: {data['numPv'].sem():.1f}\")\n",
    "print(\"=\"*60)\n",
    "\n",
    "# distr"
   ]
  },
  {
   "cell_type": "markdown",
   "metadata": {},
   "source": [
    "## Plot Histogram for all PNNs and PV cells"
   ]
  },
  {
   "cell_type": "code",
   "execution_count": null,
   "metadata": {},
   "outputs": [],
   "source": [
    "sns.set_style('white')\n",
    "\n",
    "f, axs = plt.subplots(nrows=2, ncols=1, squeeze=True, figsize=(4,6))\n",
    "\n",
    "meanColor = cm.get_cmap('PuBu')(.9)\n",
    "\n",
    "for i, ax in enumerate(axs):\n",
    "    sns.lineplot(data=distr, ax=ax,\n",
    "        x='intBin',\n",
    "        y= 'probWfa' if  i==0 else 'probPv',\n",
    "        color=meanColor,\n",
    "        errorbar='se')\n",
    "\n",
    "    ax.xaxis.set_tick_params(labelsize=12)\n",
    "    ax.yaxis.set_tick_params(labelsize=12)\n",
    "    ax.set_xlabel('Single Cell Intensity (A.U.)', fontsize=16)\n",
    "    ax.set_ylabel('Probability', fontsize=16)\n",
    "    title = 'Perineuronal Nets Intensity' if i==0 else 'PV cells Intensity'\n",
    "    ax.set_title(title, fontsize=18)\n",
    "\n",
    "plt.tight_layout()\n",
    "sns.despine()\n",
    "\n",
    "# plt.savefig(\"allPNN_histogramIntensity.svg\", bbox_inches=\"tight\")"
   ]
  },
  {
   "cell_type": "markdown",
   "metadata": {},
   "source": [
    "# Colocalization probability vs intensity classes"
   ]
  },
  {
   "cell_type": "code",
   "execution_count": null,
   "metadata": {},
   "outputs": [],
   "source": [
    "colocProb = DFM.dots_to_colocProbability(\n",
    "    df,\n",
    "    categorized_staining='pv',\n",
    "    n_bins=4\n",
    "    )\n",
    "\n",
    "\n",
    "colocProb"
   ]
  },
  {
   "cell_type": "markdown",
   "metadata": {},
   "source": [
    "## Plot for all the brain"
   ]
  },
  {
   "cell_type": "code",
   "execution_count": null,
   "metadata": {},
   "outputs": [],
   "source": [
    "f, ax = plt.subplots(figsize=(2.5,5.5))\n",
    "\n",
    "gt.colocProbabilityPlot(\n",
    "    colocProb,\n",
    "    ax=ax,\n",
    "    xlabel='PV Intensity Class',\n",
    "    ylabel='Probability of having a PNN',\n",
    "    txtLoc='tl')\n",
    "\n",
    "# plt.savefig(\"colocProbabilityAllCells.svg\", bbox_inches=\"tight\")"
   ]
  },
  {
   "cell_type": "markdown",
   "metadata": {},
   "source": [
    "## Plot for each major subdivision"
   ]
  },
  {
   "cell_type": "code",
   "execution_count": null,
   "metadata": {},
   "outputs": [],
   "source": [
    "majorIDs = A.get_major_divisions_ids()\n",
    "\n",
    "f, axs = plt.subplots(nrows=3, ncols=4, figsize=(10,7), squeeze=True)\n",
    "\n",
    "for i, ax in enumerate(f.axes):\n",
    "    # Select the subset dataframe for this specific brain subdivision\n",
    "    thisDf = rawDf.loc[rawDf['coarseID']==majorIDs[i]]\n",
    "\n",
    "    colocProb = DFM.dots_to_colocProbability(\n",
    "        thisDf,\n",
    "        categorized_staining='pv',\n",
    "        n_bins=4\n",
    "    )\n",
    "    # colocProb = colocProb.xs('CTR', axis=0, level='treat')\n",
    "\n",
    "    gt.colocProbabilityPlot(\n",
    "        colocProb,\n",
    "        ax=ax,\n",
    "        xlabel='PV Intensity Class' if i==8 else None,\n",
    "        ylabel='Probability of having a PNN' if i==8 else None,\n",
    "        txtLoc='tl',\n",
    "        fontScaling=0.8,\n",
    "        ylim=[0,1],\n",
    "        xticks = True if i in [8,9,10,11] else False,\n",
    "        yticks = True if i in [0,4,8] else False,\n",
    "        title = A.ids_to_names([majorIDs[i]])[0]\n",
    "    )\n",
    "\n",
    "# plt.savefig(\"colocProbability_mid.svg\", bbox_inches=\"tight\")"
   ]
  },
  {
   "cell_type": "markdown",
   "metadata": {},
   "source": [
    "## All macroareas in the same plot"
   ]
  },
  {
   "cell_type": "code",
   "execution_count": null,
   "metadata": {},
   "outputs": [],
   "source": [
    "majorIDs = A.get_major_divisions_ids()\n",
    "\n",
    "f, ax = plt.subplots(figsize=(2.5,5.5))\n",
    "\n",
    "for i, coarseId in enumerate(majorIDs):\n",
    "    # Select the subset dataframe for this specific brain subdivision\n",
    "    thisDf = rawDf.loc[rawDf['coarseID']==coarseId]\n",
    "\n",
    "    colocProb = DFM.dots_to_colocProbability(\n",
    "        thisDf,\n",
    "        categorized_staining='pv',\n",
    "        n_bins=4\n",
    "    )\n",
    "    # colocProb = colocProb.xs('CTR', axis=0, level='treat')\n",
    "\n",
    "    gt.colocProbabilityPlot(\n",
    "        colocProb,\n",
    "        ax=ax,\n",
    "        xlabel='PV Intensity Class' if i==11 else None,\n",
    "        ylabel='Probability of having a PNN' if i==11 else None,\n",
    "        txtLoc='tl',\n",
    "        singleMice=False,\n",
    "        avgColor=A.ids_to_colors([coarseId],color_model='rgb_norm')[0],\n",
    "        fontScaling=1,\n",
    "        ylim=[0,1],\n",
    "        txtStat=False,\n",
    "        # xticks = True if i==0 else False,\n",
    "        # yticks = True if i==0 else False,\n",
    "    )\n",
    "\n",
    "ax.legend(handles = [x  for i,x in enumerate(ax.lines) if i%5==0], labels=A.ids_to_acronyms(majorIDs))\n",
    "\n",
    "# plt.savefig(\"colocProbability_allToghether.svg\", bbox_inches=\"tight\")"
   ]
  }
 ],
 "metadata": {
  "kernelspec": {
   "display_name": "Python 3.7.0 ('allen')",
   "language": "python",
   "name": "python3"
  },
  "language_info": {
   "codemirror_mode": {
    "name": "ipython",
    "version": 3
   },
   "file_extension": ".py",
   "mimetype": "text/x-python",
   "name": "python",
   "nbconvert_exporter": "python",
   "pygments_lexer": "ipython3",
   "version": "3.7.0"
  },
  "orig_nbformat": 4,
  "vscode": {
   "interpreter": {
    "hash": "5b41230a79c73660caffd1be412225afb5bf94923aa39d73f52f6e176d33f811"
   }
  }
 },
 "nbformat": 4,
 "nbformat_minor": 2
}
