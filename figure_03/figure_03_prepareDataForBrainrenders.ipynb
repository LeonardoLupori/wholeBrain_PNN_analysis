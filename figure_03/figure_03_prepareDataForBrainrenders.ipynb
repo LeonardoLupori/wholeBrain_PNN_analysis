{
 "cells": [
  {
   "cell_type": "markdown",
   "metadata": {},
   "source": [
    "### Import packages"
   ]
  },
  {
   "cell_type": "code",
   "execution_count": null,
   "metadata": {},
   "outputs": [],
   "source": [
    "import os\n",
    "import sys\n",
    "sys.path.append(r'{}'.format(os.path.abspath(os.pardir)))\n",
    "# Custom packages\n",
    "from wholebrain_tools import dataIO, aba\n",
    "\n",
    "# Instantiate an Atlas object from the aba module\n",
    "# The first time you run this it will download the structures.json file from the Allen Institute server\n",
    "paths = dataIO.pathParser()\n",
    "structuresFile = paths.structures\n",
    "A = aba.Atlas(nodes=structuresFile)\n",
    "DFM = aba.AnatomyDataFrameManager(A)\n"
   ]
  },
  {
   "cell_type": "markdown",
   "metadata": {},
   "source": [
    "## Load data"
   ]
  },
  {
   "cell_type": "code",
   "execution_count": null,
   "metadata": {},
   "outputs": [],
   "source": [
    "# ------------------------------------------------------------------------------\n",
    "searchpath =  paths.alldata\n",
    "# ------------------------------------------------------------------------------\n",
    "\n",
    "# Load dots data from all aniamls\n",
    "df = dataIO.allMiceDots(searchpath)\n",
    "df = DFM.multiIndexDf_from_dotsDf(df)\n",
    "\n",
    "# Dataframe at mid ontology\n",
    "mid_df = DFM.dotsRegionsDf_to_mid(df, numberOfCells=True)"
   ]
  },
  {
   "cell_type": "markdown",
   "metadata": {},
   "source": [
    "## Process and save"
   ]
  },
  {
   "cell_type": "code",
   "execution_count": null,
   "metadata": {},
   "outputs": [],
   "source": [
    "# Perform the Leave-One-Out analysis at mid-ontology \n",
    "mid_df = DFM.dots_leaveOneOut_correction(\n",
    "    mid_df,\n",
    "    verbose=False,\n",
    "    min_num_pnn=2,\n",
    "    min_num_pv=2,\n",
    "    min_num_mice=3,\n",
    "    )\n",
    "\n",
    "# Drop the dots in the fiber tracts\n",
    "mid_df = mid_df.drop(1009, level='coarse')\n",
    "# Average across Experimental units\n",
    "mid_df = mid_df.groupby('params', axis=1).mean()\n",
    "# Add the Acronym as a column\n",
    "mid_df['acronym'] = A.ids_to_acronyms(mid_df.index.get_level_values('mid'))\n",
    "mid_df = mid_df.droplevel('coarse')\n",
    "\n",
    "mid_df.to_csv(\"dataFrameForBrainRender.csv\")\n",
    "\n",
    "print('Exported.')"
   ]
  }
 ],
 "metadata": {
  "kernelspec": {
   "display_name": "Python 3.7.0 ('allen')",
   "language": "python",
   "name": "python3"
  },
  "language_info": {
   "codemirror_mode": {
    "name": "ipython",
    "version": 3
   },
   "file_extension": ".py",
   "mimetype": "text/x-python",
   "name": "python",
   "nbconvert_exporter": "python",
   "pygments_lexer": "ipython3",
   "version": "3.7.0"
  },
  "orig_nbformat": 4,
  "vscode": {
   "interpreter": {
    "hash": "5b41230a79c73660caffd1be412225afb5bf94923aa39d73f52f6e176d33f811"
   }
  }
 },
 "nbformat": 4,
 "nbformat_minor": 2
}
