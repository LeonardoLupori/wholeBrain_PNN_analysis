{
 "cells": [
  {
   "cell_type": "code",
   "execution_count": 3,
   "metadata": {},
   "outputs": [],
   "source": [
    "import sys, os\n",
    "sys.path.append(r'{}'.format(os.path.abspath(os.pardir)))\n",
    "\n",
    "import pandas as pd \n",
    "import matplotlib.pyplot as plt\n",
    "from matplotlib.ticker import MaxNLocator\n",
    "\n",
    "from scipy.stats import zscore, spearmanr, pearsonr\n",
    "\n",
    "#import custom modules\n",
    "from wholebrain_tools import aba, dataIO\n",
    "import wholebrain_tools.graphics as gt\n",
    "\n",
    "# Instantiate an Atlas object from the aba module\n",
    "# The first time you run this it will download the structures.json file from the Allen Institute server\n",
    "paths = dataIO.pathParser()\n",
    "structuresFile = paths.structures\n",
    "A = aba.Atlas(nodes=structuresFile)\n",
    "DFM = aba.AnatomyDataFrameManager(A)\n"
   ]
  },
  {
   "cell_type": "markdown",
   "metadata": {},
   "source": [
    "# Load data"
   ]
  },
  {
   "cell_type": "code",
   "execution_count": null,
   "metadata": {},
   "outputs": [],
   "source": [
    "# --------------------------------------------------------------------\n",
    "searchPath = paths.alldata\n",
    "# --------------------------------------------------------------------\n",
    "\n",
    "# WFA\n",
    "df_wfa = dataIO.allMiceRegions(searchPath=searchPath, channelName='wfa', normCellIntens=True)\n",
    "df_wfa = DFM.multiIndexDf_from_fineDf(df_wfa, verbose=False)\n",
    "# Create a coarse Df\n",
    "wfaCoarse = DFM.regionsDf_to_coarse(df_wfa, verbose=True, normalize=True)\n",
    "# Select only Controls\n",
    "wfaCoarse\n",
    "\n",
    "\n",
    "# PV\n",
    "df_pv = dataIO.allMiceRegions(searchPath=searchPath, channelName='pv', normCellIntens=True)\n",
    "df_pv = DFM.multiIndexDf_from_fineDf(df_pv, verbose=False)\n",
    "# Create a coarse Df\n",
    "pvCoarse = DFM.regionsDf_to_coarse(df_pv, verbose=True, normalize=True)\n",
    "# Select only Controls\n",
    "pvCoarse"
   ]
  },
  {
   "cell_type": "markdown",
   "metadata": {},
   "source": [
    "# Correlation at the coarse level"
   ]
  },
  {
   "cell_type": "code",
   "execution_count": null,
   "metadata": {},
   "outputs": [],
   "source": [
    "totalDf = pd.concat([wfaCoarse, pvCoarse],keys=['wfa','pv'], names=['staining'], axis=1)"
   ]
  },
  {
   "cell_type": "markdown",
   "metadata": {},
   "source": [
    "## PV energy vs WFA diffuse"
   ]
  },
  {
   "cell_type": "markdown",
   "metadata": {},
   "source": [
    "### Prepare data"
   ]
  },
  {
   "cell_type": "code",
   "execution_count": null,
   "metadata": {},
   "outputs": [],
   "source": [
    "wfaDiff = wfaCoarse.xs('diffuseFluo', axis=1, level='params')\n",
    "pvEn = pvCoarse.xs('energy', axis=1, level='params')\n",
    "\n",
    "# Calculate mean and sem for wfa and pv\n",
    "wfaMean = wfaDiff.mean(axis=1)\n",
    "wfaSem = wfaDiff.sem(axis=1)\n",
    "pvMean = pvEn.mean(axis=1)\n",
    "pvSem = pvEn.sem(axis=1)\n",
    "# Rename the series\n",
    "wfaMean.name = 'wfaMean'\n",
    "wfaSem.name = 'wfaSem'\n",
    "pvMean.name = 'pvMean'\n",
    "pvSem.name = 'pvSem'\n",
    "\n",
    "dataToPlot = pd.concat([wfaMean,pvMean,wfaSem,pvSem], axis=1)\n",
    "# dataToPlot.index = A.ids_to_acronyms(dataToPlot.index.tolist())\n",
    "dataToPlot"
   ]
  },
  {
   "cell_type": "markdown",
   "metadata": {},
   "source": [
    "### Plot"
   ]
  },
  {
   "cell_type": "code",
   "execution_count": null,
   "metadata": {},
   "outputs": [],
   "source": [
    "gt.metricsWithErrors(data=dataToPlot, atlas = A,\n",
    "                    x = 'pvMean', \n",
    "                    y = 'wfaMean',\n",
    "                    err_x='pvSem',\n",
    "                    err_y='wfaSem',\n",
    "                    ylabel='WFA Diffuse Fluorescence (A.U.)',\n",
    "                    xlabel='PV Energy (A.U.)',\n",
    "                    fontScaling=.8\n",
    "                    )"
   ]
  },
  {
   "cell_type": "markdown",
   "metadata": {},
   "source": [
    "## PV energy vs PNN energy"
   ]
  },
  {
   "cell_type": "markdown",
   "metadata": {},
   "source": [
    "### Prepare data"
   ]
  },
  {
   "cell_type": "code",
   "execution_count": null,
   "metadata": {},
   "outputs": [],
   "source": [
    "wfaEnergy = wfaCoarse.xs('energy', axis=1, level='params')\n",
    "pvEn = pvCoarse.xs('energy', axis=1, level='params')\n",
    "\n",
    "# Calculate mean and sem for wfa and pv\n",
    "wfaMean = wfaEnergy.mean(axis=1)\n",
    "wfaSem = wfaEnergy.sem(axis=1)\n",
    "pvMean = pvEn.mean(axis=1)\n",
    "pvSem = pvEn.sem(axis=1)\n",
    "# Rename the series\n",
    "wfaMean.name = 'wfaMean'\n",
    "wfaSem.name = 'wfaSem'\n",
    "pvMean.name = 'pvMean'\n",
    "pvSem.name = 'pvSem'\n",
    "\n",
    "dataToPlot = pd.concat([wfaMean,pvMean,wfaSem,pvSem], axis=1)\n",
    "# dataToPlot.index = A.ids_to_acronyms(dataToPlot.index.tolist())\n",
    "dataToPlot"
   ]
  },
  {
   "cell_type": "markdown",
   "metadata": {},
   "source": [
    "### Plot"
   ]
  },
  {
   "cell_type": "code",
   "execution_count": null,
   "metadata": {},
   "outputs": [],
   "source": [
    "gt.metricsWithErrors(data=dataToPlot, atlas = A,\n",
    "                    x = 'pvMean', \n",
    "                    y = 'wfaMean',\n",
    "                    err_x='pvSem',\n",
    "                    err_y='wfaSem',\n",
    "                    ylabel='PNN Energy (A.U.)',\n",
    "                    xlabel='PV Energy (A.U.)',\n",
    "                    fontScaling=.8\n",
    "                    )\n",
    "                    "
   ]
  },
  {
   "cell_type": "markdown",
   "metadata": {},
   "source": [
    "# Correlation at the mid Level"
   ]
  },
  {
   "cell_type": "markdown",
   "metadata": {},
   "source": [
    "## Prepare data"
   ]
  },
  {
   "cell_type": "code",
   "execution_count": null,
   "metadata": {},
   "outputs": [],
   "source": [
    "# WFA\n",
    "# Create a mid Df\n",
    "wfaMid = DFM.regionsDf_to_mid(df_wfa, verbose=False, normalize=True)\n",
    "# Select only Controls\n",
    "wfaMid\n",
    "\n",
    "# PV\n",
    "# Create a mid Df\n",
    "pvMid = DFM.regionsDf_to_mid(df_pv, verbose=False, normalize=True)\n",
    "# Select only Controls\n",
    "pvMid\n",
    "\n",
    "# Concatenate the 2 stainings\n",
    "totalDf = pd.concat([wfaMid, pvMid],keys=['wfa','pv'], names=['staining'], axis=1)\n",
    "# Average across mice\n",
    "totalDf = totalDf.groupby(by=['staining','params'], axis=1).mean()\n",
    "\n",
    "dataToPlot = totalDf['wfa'].join(totalDf['pv'],lsuffix='_wfa', rsuffix='_pv')\n",
    "dataToPlot"
   ]
  },
  {
   "cell_type": "markdown",
   "metadata": {},
   "source": [
    "## Plot WFA diffuse vs PV Energy"
   ]
  },
  {
   "cell_type": "code",
   "execution_count": null,
   "metadata": {},
   "outputs": [],
   "source": [
    "_ = gt.metricsCorrelation(dataToPlot, A,\n",
    "        # ax = ax,\n",
    "        x='energy_pv' ,\n",
    "        y='diffuseFluo_wfa',\n",
    "        txtLoc = 'tl',\n",
    "        xlabel = 'PV Energy (A.U.)' ,\n",
    "        ylabel = 'WFA Diffuse\\nFluorescence (A.U.)' ,\n",
    "        fontScaling = 1\n",
    "    )\n",
    "\n",
    "# plt.savefig(\"allAreaCorr_diffuseVsPv.svg\", bbox_inches=\"tight\")"
   ]
  },
  {
   "cell_type": "code",
   "execution_count": null,
   "metadata": {},
   "outputs": [],
   "source": [
    "f, axs = plt.subplots(nrows=2,ncols=6,  figsize=(23,8), dpi=100, squeeze=True)\n",
    "\n",
    "# # All coarse areas\n",
    "coarseIdList = totalDf.index.get_level_values('coarse').unique().tolist()\n",
    "for i, ax in enumerate(f.axes):\n",
    "    \n",
    "    thisRegion = coarseIdList[i]\n",
    "    toPlot = dataToPlot.xs(thisRegion, axis=0, level='coarse')\n",
    "\n",
    "    ax.yaxis.set_major_locator(MaxNLocator(integer=True))\n",
    "\n",
    "    gt.metricsCorrelation(toPlot, A,\n",
    "        ax = ax,\n",
    "        x='energy_pv',\n",
    "        y='diffuseFluo_wfa',\n",
    "        txtLoc = 'tl' if i in [0,5,6,9,10,11] else 'br',\n",
    "        xlabel = 'PV Energy (A.U.)' if i==6 else None,\n",
    "        ylabel = 'WFA Diffuse\\nFluorescence (A.U.)' if i==6 else None,\n",
    "        title = A.ids_to_names([thisRegion])[0],\n",
    "    )\n",
    "plt.subplots_adjust(hspace=0.4, wspace=0.2)\n",
    "\n",
    "# plt.savefig(\"allMidAreaCorr_diffuseVsPv.svg\", bbox_inches=\"tight\")"
   ]
  },
  {
   "cell_type": "markdown",
   "metadata": {},
   "source": [
    "## Plot WFA Energy vs PV Energy"
   ]
  },
  {
   "cell_type": "code",
   "execution_count": null,
   "metadata": {},
   "outputs": [],
   "source": [
    "dataToPlot = totalDf['wfa'].join(totalDf['pv'],lsuffix='_wfa', rsuffix='_pv')\n",
    "dataToPlot\n",
    "_ = gt.metricsCorrelation(dataToPlot, A,\n",
    "        # ax = ax,\n",
    "        x='energy_pv' ,\n",
    "        y='energy_wfa',\n",
    "        txtLoc = 'br',\n",
    "        xlabel = 'PV Energy (A.U.)' ,\n",
    "        ylabel = 'PNN Energy (A.U.)' ,\n",
    "        fontScaling = 1\n",
    "    )\n",
    "\n",
    "# plt.savefig(\"allAreaCorr_energyVsPv.svg\", bbox_inches=\"tight\")"
   ]
  },
  {
   "cell_type": "code",
   "execution_count": null,
   "metadata": {},
   "outputs": [],
   "source": [
    "f, axs = plt.subplots(nrows=2,ncols=6,  figsize=(23,8), dpi=100, squeeze=True)\n",
    "\n",
    "# # All coarse areas\n",
    "coarseIdList = totalDf.index.get_level_values('coarse').unique().tolist()\n",
    "\n",
    "for i, ax in enumerate(f.axes):\n",
    "    \n",
    "    thisRegion = coarseIdList[i]\n",
    "    toPlot = dataToPlot.xs(thisRegion, axis=0, level='coarse')\n",
    "\n",
    "    ax.yaxis.set_major_locator(MaxNLocator(integer=True))\n",
    "\n",
    "    gt.metricsCorrelation(toPlot, A,\n",
    "        ax = ax,\n",
    "        x='energy_pv',\n",
    "        y='energy_wfa',\n",
    "        txtLoc = 'tl' if i in [1,2,3,4] else 'br',\n",
    "        xlabel = 'PV Energy (A.U.)' if i==6 else None,\n",
    "        ylabel = 'PNN Energy (A.U.)' if i==6 else None,\n",
    "        title = A.ids_to_names([thisRegion])[0],\n",
    "    )\n",
    "\n",
    "plt.subplots_adjust(hspace=0.4, wspace=0.2)\n",
    "# plt.savefig(\"allMidAreaCorr_energyVsPv.svg\", bbox_inches=\"tight\")"
   ]
  }
 ],
 "metadata": {
  "kernelspec": {
   "display_name": "Python 3.7.0 ('allen')",
   "language": "python",
   "name": "python3"
  },
  "language_info": {
   "codemirror_mode": {
    "name": "ipython",
    "version": 3
   },
   "file_extension": ".py",
   "mimetype": "text/x-python",
   "name": "python",
   "nbconvert_exporter": "python",
   "pygments_lexer": "ipython3",
   "version": "3.7.0"
  },
  "orig_nbformat": 4,
  "vscode": {
   "interpreter": {
    "hash": "5b41230a79c73660caffd1be412225afb5bf94923aa39d73f52f6e176d33f811"
   }
  }
 },
 "nbformat": 4,
 "nbformat_minor": 2
}
