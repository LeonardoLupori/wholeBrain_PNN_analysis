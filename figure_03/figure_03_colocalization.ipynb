{
 "cells": [
  {
   "cell_type": "code",
   "execution_count": null,
   "metadata": {},
   "outputs": [],
   "source": [
    "import matplotlib.pyplot as plt\n",
    "import sys\n",
    "sys.path.append(r'C:\\Users\\Valentino\\Documents\\MATLAB\\PNN_wholeBrain\\analysis_CTR')\n",
    "\n",
    "# Custom packages\n",
    "import dataIO\n",
    "import AbaTool\n",
    "import GraphicTool as gt\n",
    "\n",
    "# Instantiate an Atlas object from the AbaTool.py file \n",
    "# The first time you run this it will download the structures.json file from the Allen Institute server\n",
    "structuresFile = r\"C:\\Users\\Valentino\\Documents\\MATLAB\\PNN_wholeBrain\\analysis_CTR\\structures.json\"\n",
    "A = AbaTool.Atlas(nodes=structuresFile)\n",
    "DFM = AbaTool.AnatomyDataFrameManager(A)"
   ]
  },
  {
   "cell_type": "markdown",
   "metadata": {},
   "source": [
    "# Load data"
   ]
  },
  {
   "cell_type": "code",
   "execution_count": null,
   "metadata": {},
   "outputs": [],
   "source": [
    "# ------------------------------------------------------------------------------\n",
    "searchpath =  r'D:\\proj_PNN-Atlas\\RESULTS\\colocalization_CTR'\n",
    "# ------------------------------------------------------------------------------\n",
    "\n",
    "# Load dots data from all aniamls\n",
    "df = dataIO.allMiceDots(searchpath)\n",
    "df = DFM.multiIndexDf_from_dotsDf(df)\n",
    "\n",
    "df.head()"
   ]
  },
  {
   "cell_type": "markdown",
   "metadata": {},
   "source": [
    "# Average colocalization in the brain"
   ]
  },
  {
   "cell_type": "code",
   "execution_count": null,
   "metadata": {},
   "outputs": [],
   "source": [
    "# # Calculate global percentages\n",
    "temp = df.sum().unstack('params')\n",
    "temp['colocWfa'] = temp['n_colocalized'].divide(temp['n_pnn'])\n",
    "temp['colocPv'] = temp['n_colocalized'].divide(temp['n_pv'])\n",
    "\n",
    "colocMeans = temp.mean()\n",
    "colocSems = temp.sem()\n",
    "\n",
    "means = df.sum().groupby('params').mean()\n",
    "sems = df.sum().groupby('params').sem()\n",
    "\n",
    "# Print out the results\n",
    "print('='*52)\n",
    "print(f'PV positive PNNs \\tmean: {colocMeans.colocWfa:.3%} \\tSEM: {colocSems.colocWfa:.3%}')\n",
    "print(f'WFA positive PV \\tmean: {colocMeans.colocPv:.3%} \\tSEM: {colocSems.colocPv:.3%}')\n",
    "print('='*52)\n",
    "print (f'PNNs per mice \\t\\tmean: {means.n_pnn:n} \\tSEM:{sems.n_pnn:n}')\n",
    "print (f'PVs per mice \\t\\tmean: {means.n_pv:n} \\tSEM:{sems.n_pv:n}')\n",
    "print('='*52)"
   ]
  },
  {
   "cell_type": "markdown",
   "metadata": {},
   "source": [
    "# Colocalization in major subdivisions"
   ]
  },
  {
   "cell_type": "markdown",
   "metadata": {},
   "source": [
    "## Prepare data"
   ]
  },
  {
   "cell_type": "code",
   "execution_count": null,
   "metadata": {},
   "outputs": [],
   "source": [
    "# Dataframe at coarse ontology\n",
    "coarse_df = DFM.dotsRegionsDf_to_coarse(df)\n",
    "\n",
    "coarse_df.head()"
   ]
  },
  {
   "cell_type": "markdown",
   "metadata": {},
   "source": [
    "## Plot"
   ]
  },
  {
   "cell_type": "code",
   "execution_count": null,
   "metadata": {},
   "outputs": [],
   "source": [
    "gt.colocalizationDoubleBarplot(\n",
    "    coarse_df,\n",
    "    A,\n",
    "    x_left='pvPositive_pnn',\n",
    "    x_right='wfaPositive_pv',\n",
    "    xlabel_left='% of PNNs',\n",
    "    xlabel_right='% of PV cells',\n",
    "    title_left='PV$^+$ PNNs',\n",
    "    title_right='WFA$^+$ PV cells',\n",
    "    )\n",
    "\n",
    "plt.savefig(\"colocaliz_coarse.svg\", bbox_inches=\"tight\")"
   ]
  }
 ],
 "metadata": {
  "kernelspec": {
   "display_name": "Python 3.7.0 ('allen')",
   "language": "python",
   "name": "python3"
  },
  "language_info": {
   "codemirror_mode": {
    "name": "ipython",
    "version": 3
   },
   "file_extension": ".py",
   "mimetype": "text/x-python",
   "name": "python",
   "nbconvert_exporter": "python",
   "pygments_lexer": "ipython3",
   "version": "3.7.0"
  },
  "orig_nbformat": 4,
  "vscode": {
   "interpreter": {
    "hash": "5b41230a79c73660caffd1be412225afb5bf94923aa39d73f52f6e176d33f811"
   }
  }
 },
 "nbformat": 4,
 "nbformat_minor": 2
}
