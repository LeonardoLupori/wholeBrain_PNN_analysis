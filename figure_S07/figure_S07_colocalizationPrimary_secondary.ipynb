{
 "cells": [
  {
   "cell_type": "code",
   "execution_count": null,
   "metadata": {},
   "outputs": [],
   "source": [
    "import matplotlib.pyplot as plt\n",
    "# For statistics\n",
    "from scipy.stats import ttest_rel\n",
    "\n",
    "import os,sys\n",
    "sys.path.append(r'{}'.format(os.path.abspath(os.pardir)))\n",
    "\n",
    "from wholebrain_tools import aba, genes, dataIO\n",
    "import wholebrain_tools.stats as st \n",
    "import wholebrain_tools.graphics as gt\n",
    "\n",
    "# Instantiate an Atlas object from the aba module\n",
    "# The first time you run this it will download the structures.json file from the Allen Institute server\n",
    "paths = dataIO.pathParser()\n",
    "\n",
    "nodes_path = paths.structures\n",
    "A = aba.Atlas(nodes = nodes_path)\n",
    "DFM = aba.AnatomyDataFrameManager(A)"
   ]
  },
  {
   "cell_type": "markdown",
   "metadata": {},
   "source": [
    "# Load data"
   ]
  },
  {
   "cell_type": "code",
   "execution_count": null,
   "metadata": {},
   "outputs": [],
   "source": [
    "# ------------------------------------------------------------------------------\n",
    "searchpath = paths.alldata\n",
    "# ------------------------------------------------------------------------------\n",
    "\n",
    "# Load dots data from all aniamls\n",
    "df = dataIO.allMiceDots(searchpath)\n",
    "df = DFM.multiIndexDf_from_dotsDf(df)\n",
    "\n",
    "df.head()"
   ]
  },
  {
   "cell_type": "markdown",
   "metadata": {},
   "source": [
    "# Visual Areas"
   ]
  },
  {
   "cell_type": "markdown",
   "metadata": {},
   "source": [
    "## Barplots - Primary vs Associative\n",
    "\n",
    "Aggregate data for this sensory system"
   ]
  },
  {
   "cell_type": "code",
   "execution_count": null,
   "metadata": {},
   "outputs": [],
   "source": [
    "sensory_df = DFM.colocDf_to_sensorySystems(df, 'visual', mergeLayers=True)\n",
    "sensory_df = sensory_df * 100\n",
    "\n",
    "sensory_df.head()"
   ]
  },
  {
   "cell_type": "markdown",
   "metadata": {},
   "source": [
    "### WFA Positive PV cells"
   ]
  },
  {
   "cell_type": "code",
   "execution_count": null,
   "metadata": {},
   "outputs": [],
   "source": [
    "# Statistics\n",
    "stat, pval = ttest_rel(\n",
    "    sensory_df.xs('wfaPositive_pv', axis=1, level='params').loc['primary'],\n",
    "    sensory_df.xs('wfaPositive_pv', axis=1, level='params').loc['associative'])\n",
    "print(f'Rep. measures T-Test Primary vs Associative\\nt: {stat:.4f} p: {pval:.4f}')\n",
    "\n",
    "#Plot\n",
    "gt.primaryAreasBarplot(\n",
    "    sensory_df,\n",
    "    metric='wfaPositive_pv',\n",
    "    cmap='pink_r',\n",
    "    ylabel='WFA$^+$ PV cells (%)')\n",
    "\n",
    "# plt.savefig(\"VIS_primaryAssociative_grouped_coloc.svg\", bbox_inches=\"tight\")"
   ]
  },
  {
   "cell_type": "markdown",
   "metadata": {},
   "source": [
    "# Auditory Areas"
   ]
  },
  {
   "cell_type": "markdown",
   "metadata": {},
   "source": [
    "## Barplots - Primary vs Associative\n",
    "\n",
    "Aggregate data for this sensory system"
   ]
  },
  {
   "cell_type": "code",
   "execution_count": null,
   "metadata": {},
   "outputs": [],
   "source": [
    "sensory_df = DFM.colocDf_to_sensorySystems(df, 'auditory', mergeLayers=True)\n",
    "sensory_df = sensory_df * 100\n",
    "\n",
    "sensory_df.head()"
   ]
  },
  {
   "cell_type": "markdown",
   "metadata": {},
   "source": [
    "### WFA Positive PV cells"
   ]
  },
  {
   "cell_type": "code",
   "execution_count": null,
   "metadata": {},
   "outputs": [],
   "source": [
    "# Statistics\n",
    "stat, pval = ttest_rel(\n",
    "    sensory_df.xs('wfaPositive_pv', axis=1, level='params').loc['primary'],\n",
    "    sensory_df.xs('wfaPositive_pv', axis=1, level='params').loc['associative'])\n",
    "print(f'Rep. measures T-Test Primary vs Associative\\nt: {stat:.4f} p: {pval:.4f}')\n",
    "\n",
    "#Plot\n",
    "gt.primaryAreasBarplot(\n",
    "    sensory_df,\n",
    "    metric='wfaPositive_pv',\n",
    "    cmap='pink_r',\n",
    "    ylabel='WFA$^+$ PV cells (%)')\n",
    "\n",
    "# plt.savefig(\"AUD_primaryAssociative_grouped_coloc.svg\", bbox_inches=\"tight\")"
   ]
  },
  {
   "cell_type": "markdown",
   "metadata": {},
   "source": [
    "# Somatosensory Areas"
   ]
  },
  {
   "cell_type": "markdown",
   "metadata": {},
   "source": [
    "## Barplots - Primary vs Associative\n",
    "\n",
    "Aggregate data for this sensory system"
   ]
  },
  {
   "cell_type": "code",
   "execution_count": null,
   "metadata": {},
   "outputs": [],
   "source": [
    "sensory_df = DFM.colocDf_to_sensorySystems(df, 'somatosensory', mergeLayers=True)\n",
    "sensory_df = sensory_df * 100\n",
    "\n",
    "sensory_df.head()"
   ]
  },
  {
   "cell_type": "markdown",
   "metadata": {},
   "source": [
    "### WFA Positive PV cells"
   ]
  },
  {
   "cell_type": "code",
   "execution_count": null,
   "metadata": {},
   "outputs": [],
   "source": [
    "# Statistics\n",
    "stat, pval = ttest_rel(\n",
    "    sensory_df.xs('wfaPositive_pv', axis=1, level='params').loc['primary'],\n",
    "    sensory_df.xs('wfaPositive_pv', axis=1, level='params').loc['associative'])\n",
    "print(f'Rep. measures T-Test Primary vs Associative\\nt: {stat:.4f} p: {pval:.4f}')\n",
    "\n",
    "#Plot\n",
    "gt.primaryAreasBarplot(\n",
    "    sensory_df,\n",
    "    metric='wfaPositive_pv',\n",
    "    cmap='pink_r',\n",
    "    ylabel='WFA$^+$ PV cells (%)')\n",
    "\n",
    "# plt.savefig(\"SS_primaryAssociative_grouped_coloc.svg\", bbox_inches=\"tight\")"
   ]
  }
 ],
 "metadata": {
  "kernelspec": {
   "display_name": "Python 3",
   "language": "python",
   "name": "python3"
  },
  "language_info": {
   "codemirror_mode": {
    "name": "ipython",
    "version": 3
   },
   "file_extension": ".py",
   "mimetype": "text/x-python",
   "name": "python",
   "nbconvert_exporter": "python",
   "pygments_lexer": "ipython3",
   "version": "3.8.0"
  },
  "orig_nbformat": 4,
  "vscode": {
   "interpreter": {
    "hash": "330b658a28fcfa20cb106ab71cd5830cf28a0616836b7aa94e0b201ccc27ab76"
   }
  }
 },
 "nbformat": 4,
 "nbformat_minor": 2
}
