{
 "cells": [
  {
   "cell_type": "code",
   "execution_count": null,
   "metadata": {},
   "outputs": [],
   "source": [
    "import pandas as pd \n",
    "import seaborn as sns\n",
    "import numpy as np\n",
    "import matplotlib.pyplot as plt\n",
    "from matplotlib import cm\n",
    "\n",
    "import os,sys\n",
    "sys.path.append(r'{}'.format(os.path.abspath(os.pardir)))\n",
    "\n",
    "# Custom packages\n",
    "from wholebrain_tools import aba, genes, dataIO\n",
    "import wholebrain_tools.stats as st \n",
    "import wholebrain_tools.graphics as gt\n",
    "\n",
    "paths = dataIO.pathParser()\n",
    "nodes_path = paths.structures\n",
    "# Instantiate an Atlas object from the AbaTool.py file \n",
    "A = aba.Atlas(nodes=nodes_path)\n",
    "\n",
    "DFM = aba.AnatomyDataFrameManager(A)"
   ]
  },
  {
   "attachments": {},
   "cell_type": "markdown",
   "metadata": {},
   "source": [
    "# Load data"
   ]
  },
  {
   "cell_type": "code",
   "execution_count": null,
   "metadata": {},
   "outputs": [],
   "source": [
    "# ------------------------------------------------------------------------------\n",
    "searchpath = paths.alldata\n",
    "# ------------------------------------------------------------------------------\n",
    "\n",
    "# Load dots data from all aniamls\n",
    "df = dataIO.allMiceDots(searchpath)\n",
    "\n",
    "# Select only PV cells that are on a non-zero region\n",
    "df = df[df['pv']==1]\n",
    "df = df[df['regionID']!=0]\n",
    "\n",
    "df = DFM.add_resolution_column(df,'regionID')\n",
    "\n",
    "df"
   ]
  },
  {
   "attachments": {},
   "cell_type": "markdown",
   "metadata": {},
   "source": [
    "# Visual areas"
   ]
  },
  {
   "cell_type": "code",
   "execution_count": null,
   "metadata": {},
   "outputs": [],
   "source": [
    "pvDistrib = DFM.dots_to_sensorySystems(\n",
    "        df,\n",
    "        sensorySystem='visual',\n",
    "        n_bins=4)\n",
    "# Distribution of PV cells in intensity classes for each hierarchy\n",
    "pvProportion = pvDistrib.divide(pvDistrib.sum(axis=1), axis=0)\n",
    "\n",
    "# Actually plot data\n",
    "gt.pvClasses_in_sensorySystems(\n",
    "    pvProportion,\n",
    "    legendTitle='Visual Areas',\n",
    "    cmap='Purples'\n",
    "    )\n",
    "\n",
    "# Statistical analysis\n",
    "_, _ = st.sensoryCortexIntClass(pvProportion)\n",
    "\n",
    "# Optionally save the figure\n",
    "# plt.savefig(\"VIS_pvIntensityClass.svg\", bbox_inches=\"tight\")"
   ]
  },
  {
   "attachments": {},
   "cell_type": "markdown",
   "metadata": {},
   "source": [
    "# Auditory areas"
   ]
  },
  {
   "cell_type": "code",
   "execution_count": null,
   "metadata": {},
   "outputs": [],
   "source": [
    "pvDistrib = DFM.dots_to_sensorySystems(\n",
    "        df,\n",
    "        sensorySystem='auditory',\n",
    "        n_bins=4)\n",
    "# Distribution of PV cells in intensity classes for each hierarchy\n",
    "pvProportion = pvDistrib.divide(pvDistrib.sum(axis=1), axis=0)\n",
    "\n",
    "# Actually plot data\n",
    "gt.pvClasses_in_sensorySystems(\n",
    "    pvProportion,\n",
    "    legendTitle='Auditory Areas',\n",
    "    cmap='Purples'\n",
    "    )\n",
    "\n",
    "# Statistical analysis\n",
    "_, _ = st.sensoryCortexIntClass(pvProportion)\n",
    "\n",
    "# Optionally save the figure\n",
    "# plt.savefig(\"AUD_pvIntensityClass.svg\", bbox_inches=\"tight\")"
   ]
  },
  {
   "attachments": {},
   "cell_type": "markdown",
   "metadata": {},
   "source": [
    "# Somatosensory areas"
   ]
  },
  {
   "cell_type": "code",
   "execution_count": null,
   "metadata": {},
   "outputs": [],
   "source": [
    "pvDistrib = DFM.dots_to_sensorySystems(\n",
    "        df,\n",
    "        sensorySystem='somatosensory',\n",
    "        n_bins=4)\n",
    "# Distribution of PV cells in intensity classes for each hierarchy\n",
    "pvProportion = pvDistrib.divide(pvDistrib.sum(axis=1), axis=0)\n",
    "\n",
    "# Actually plot data\n",
    "gt.pvClasses_in_sensorySystems(\n",
    "    pvProportion,\n",
    "    legendTitle='Somatosensory Areas',\n",
    "    cmap='Purples'\n",
    "    )\n",
    "\n",
    "# Statistical analysis\n",
    "_, _ = st.sensoryCortexIntClass(pvProportion)\n",
    "\n",
    "# Optionally save the figure\n",
    "# plt.savefig(\"SS_pvIntensityClass.svg\", bbox_inches=\"tight\")"
   ]
  },
  {
   "attachments": {},
   "cell_type": "markdown",
   "metadata": {},
   "source": [
    "# High - Low WFA areas"
   ]
  },
  {
   "cell_type": "code",
   "execution_count": null,
   "metadata": {},
   "outputs": [],
   "source": [
    "# Get the annotation of cortical areas in subnetworks\n",
    "subnet = dataIO.corticalAreasGroups(toDataFrame=True)\n",
    "subnet.index = A.acronyms_to_ids(subnet.index)\n",
    "\n",
    "# Add the high- and low- area groups  \n",
    "group = ['hi' if x in ['motorSS','audioVisual','mAssociation'] else 'low' if x in ['lateral','mPrefrontal'] else 'other' for x in subnet['function']]\n",
    "subnet['group'] = group\n",
    "\n",
    "# Remove non-annotated (\"other\") cortical areas\n",
    "subnet = subnet.loc[subnet['group'] != \"other\",:]\n",
    "\n",
    "# Define the IDs of areas to keep as part of the selected sensory system\n",
    "allIds = df['regionID'].unique()\n",
    "\n",
    "targetIds = []\n",
    "for putativeID in allIds:\n",
    "    isDescendant = any([A.structure_descends_from(putativeID, x) for x in subnet.index])\n",
    "    if isDescendant:\n",
    "        targetIds.append(putativeID)\n",
    "\n",
    "# Filter all areas in rawDf and keep only the ones is the selected sensory system\n",
    "boolIdx = [x in targetIds for x in df['regionID']]\n",
    "sensory_df = df.iloc[boolIdx,:]\n",
    "# # Reset the index\n",
    "sensory_df = sensory_df.reset_index()\n",
    "sensory_df"
   ]
  },
  {
   "cell_type": "code",
   "execution_count": null,
   "metadata": {},
   "outputs": [],
   "source": [
    "# Add group to the dataframe of all cells\n",
    "highIDs = subnet[subnet['group']=='hi'].index\n",
    "lowIDs = subnet[subnet['group']=='low'].index\n",
    "group = []\n",
    "for a in sensory_df['regionID']:\n",
    "    isHigh = A.structure_descends_from_any(a, highIDs)\n",
    "    isLow = A.structure_descends_from_any(a, lowIDs)\n",
    "    if isHigh:\n",
    "        group.append('high')\n",
    "    elif isLow:\n",
    "        group.append('low')\n",
    "    else:\n",
    "        raise\n",
    "sensory_df['group'] = group\n",
    "\n",
    "# Add info about the intensity class of PV cells \n",
    "n_bins = 4\n",
    "edges = np.linspace(0,1,n_bins+1)\n",
    "# Split PV cells in intensity classes\n",
    "intensityClass, bins = pd.cut(\n",
    "    sensory_df['fluoMeanPv'],\n",
    "    edges,\n",
    "    labels=[str(x+1) for x in range(n_bins)],\n",
    "    retbins=True\n",
    ")\n",
    "sensory_df['intClass'] = intensityClass\n",
    "\n",
    "# Count the number of PV cells for each mouse, hierarchy and class\n",
    "count_df = sensory_df.groupby(['mouse', 'group', 'intClass']).count()['pv']\n",
    "count_df = count_df.unstack('intClass')\n",
    "count_df"
   ]
  },
  {
   "cell_type": "code",
   "execution_count": null,
   "metadata": {},
   "outputs": [],
   "source": [
    "# Distribution of PV cells in intensity classes for each hierarchy\n",
    "pvProportion = count_df.divide(count_df.sum(axis=1), axis=0)\n",
    "\n",
    "# Actually plot data\n",
    "gt.pvClasses_in_sensorySystems(\n",
    "    pvProportion,\n",
    "    hueVar='group',\n",
    "    legendTitle='Cortical subnetworks',\n",
    "    cmap='Purples'\n",
    "    )\n",
    "\n",
    "# Statistical analysis\n",
    "_, _ = st.hiLowWfa_IntClass(pvProportion)\n",
    "\n",
    "# plt.savefig(\"hilowWFA_pvIntensityClass.svg\", bbox_inches=\"tight\")"
   ]
  }
 ],
 "metadata": {
  "kernelspec": {
   "display_name": "Python 3",
   "language": "python",
   "name": "python3"
  },
  "language_info": {
   "codemirror_mode": {
    "name": "ipython",
    "version": 3
   },
   "file_extension": ".py",
   "mimetype": "text/x-python",
   "name": "python",
   "nbconvert_exporter": "python",
   "pygments_lexer": "ipython3",
   "version": "3.9.16"
  },
  "vscode": {
   "interpreter": {
    "hash": "330b658a28fcfa20cb106ab71cd5830cf28a0616836b7aa94e0b201ccc27ab76"
   }
  }
 },
 "nbformat": 4,
 "nbformat_minor": 4
}
