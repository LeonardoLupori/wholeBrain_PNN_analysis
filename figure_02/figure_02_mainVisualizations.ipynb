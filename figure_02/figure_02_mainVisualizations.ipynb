{
 "cells": [
  {
   "cell_type": "code",
   "execution_count": null,
   "metadata": {},
   "outputs": [],
   "source": [
    "import pandas as pd\n",
    "import numpy as np\n",
    "import seaborn as sns\n",
    "import matplotlib.pyplot as plt\n",
    "from scipy.stats import ttest_1samp, wilcoxon\n",
    "\n",
    "# Append the analysis folder so that you can import custom packages\n",
    "import sys, os\n",
    "sys.path.append(r'{}'.format(os.path.abspath(os.pardir)))\n",
    "\n",
    "# Custom packages\n",
    "from wholebrain_tools import aba, dataIO\n",
    "from wholebrain_tools import graphics as gt\n",
    "\n",
    "\n",
    "# Instantiate an Atlas object from the aba module \n",
    "# The first time you run this it will download the structures.json file from the Allen Institute server\n",
    "paths = dataIO.pathParser()\n",
    "structuresFile = paths.structures\n",
    "A = aba.Atlas(nodes=structuresFile)\n",
    "DFM = aba.AnatomyDataFrameManager(A)"
   ]
  },
  {
   "cell_type": "markdown",
   "metadata": {},
   "source": [
    "# 1. Load all data\n",
    "\n",
    "Loads data for **diffuse fluorescence** and **dots** for a **single channel** and \n",
    "creates a multi-index dataframe (df) containing raw measurements for all areas\n",
    "of the brain at high resolution"
   ]
  },
  {
   "cell_type": "code",
   "execution_count": null,
   "metadata": {},
   "outputs": [],
   "source": [
    "# --------------------------------------------------------------------\n",
    "searchPath = paths.alldata\n",
    "channelName = 'wfa'     # 'wfa' or 'pv'\n",
    "# --------------------------------------------------------------------\n",
    "\n",
    "df = dataIO.allMiceRegions(searchPath=searchPath, channelName=channelName, normCellIntens=True)\n",
    "df = DFM.multiIndexDf_from_fineDf(df, verbose=True)"
   ]
  },
  {
   "cell_type": "markdown",
   "metadata": {},
   "source": [
    "# 2. Mid ontology heatmaps\n",
    "\n",
    "Aggregate data at mid ontology level"
   ]
  },
  {
   "cell_type": "code",
   "execution_count": null,
   "metadata": {},
   "outputs": [],
   "source": [
    "# Dataframe at mid-ontology\n",
    "midDf = DFM.regionsDf_to_mid(df, verbose=True, normalize=True)\n",
    "# Select ONLY control animals (CC)\n",
    "# midDf = midDf.xs('CTR', axis=1, level='treat')\n",
    "\n",
    "midDf.head()"
   ]
  },
  {
   "cell_type": "markdown",
   "metadata": {},
   "source": [
    "## 2.1 Heatmap - WFA Diffuse Fluorescence"
   ]
  },
  {
   "cell_type": "code",
   "execution_count": null,
   "metadata": {},
   "outputs": [],
   "source": [
    "data = midDf.xs('diffuseFluo', axis=1, level='params')\n",
    "\n",
    "# Create the heatmap\n",
    "axObj = gt.midOntologyHeatmap(data, A, cmap='PuBu', vmin=0, vmax=2, title='WFA Diffuse Fluorescence')\n",
    "\n",
    "# Save the image if necessary\n",
    "# plt.savefig(\"diffuseHeatmap.svg\", bbox_inches=\"tight\")"
   ]
  },
  {
   "cell_type": "markdown",
   "metadata": {},
   "source": [
    "## 2.2 Heatmap - PNN Energy"
   ]
  },
  {
   "cell_type": "code",
   "execution_count": null,
   "metadata": {},
   "outputs": [],
   "source": [
    "data = midDf.xs('energy', axis=1, level='params')\n",
    "\n",
    "# Create the heatmap\n",
    "axObj = gt.midOntologyHeatmap(data, A, cmap='OrRd', vmin=0, vmax=3, title='PNN Energy')\n",
    "\n",
    "# Save the image if necessary\n",
    "# plt.savefig(\"energyHeatmap.svg\", bbox_inches=\"tight\")"
   ]
  },
  {
   "cell_type": "markdown",
   "metadata": {},
   "source": [
    "## 2.3 Heatmap - PNN Density"
   ]
  },
  {
   "cell_type": "code",
   "execution_count": null,
   "metadata": {},
   "outputs": [],
   "source": [
    "data = midDf.xs('density', axis=1, level='params')\n",
    "\n",
    "# Create the heatmap\n",
    "axObj = gt.midOntologyHeatmap(data, A, cmap='BuGn', vmin=0, vmax=140, title='PNN Density')\n",
    "\n",
    "# Save the image if necessary\n",
    "# plt.savefig(\"pnnDensity.svg\", bbox_inches=\"tight\")"
   ]
  },
  {
   "cell_type": "markdown",
   "metadata": {},
   "source": [
    "## 2.4 Heatmap - PNN Intensity"
   ]
  },
  {
   "cell_type": "code",
   "execution_count": null,
   "metadata": {},
   "outputs": [],
   "source": [
    "data = midDf.xs('intensity', axis=1, level='params')\n",
    "\n",
    "# Create the heatmap\n",
    "axObj = gt.midOntologyHeatmap(data, A, cmap='Purples', vmin=0, vmax=1, title='PNN Intensity')\n",
    "\n",
    "# Save the image if necessary\n",
    "# plt.savefig(\"pnnIntensity.svg\", bbox_inches=\"tight\")"
   ]
  },
  {
   "cell_type": "markdown",
   "metadata": {},
   "source": [
    "# 3. Coarse ontology bar plots\n",
    "Aggregate data at coarse ontology level"
   ]
  },
  {
   "cell_type": "code",
   "execution_count": null,
   "metadata": {},
   "outputs": [],
   "source": [
    "# Dataframe at coarse ontology\n",
    "coarseDf = DFM.regionsDf_to_coarse(df, verbose=True, normalize=True)\n",
    "\n",
    "\n",
    "coarseDf.head()"
   ]
  },
  {
   "cell_type": "markdown",
   "metadata": {},
   "source": [
    "## 3.1 Barplot - WFA Diffuse Fluorescence"
   ]
  },
  {
   "cell_type": "code",
   "execution_count": null,
   "metadata": {},
   "outputs": [],
   "source": [
    "data = coarseDf.xs('diffuseFluo', axis=1, level='params')\n",
    "\n",
    "# Plot the data\n",
    "g = gt.coarseOntologyBarplot(data, A, \n",
    "    title='WFA Diffuse Fluorescence',\n",
    "    cmap='PuBu',\n",
    "    xlabel='(A.U.)',\n",
    "    areaNames=True,\n",
    "    )\n",
    "ws = []\n",
    "w_ps =[]\n",
    "# Display the statistics\n",
    "areaNames = A.ids_to_names(data.index.tolist())\n",
    "stat, pval = ttest_1samp(data, 1, axis=1, nan_policy='omit')\n",
    "for i,area in enumerate(areaNames):\n",
    "    w,w_p= wilcoxon(data.iloc[i]-1, method = 'auto')\n",
    "    ws.append(w)\n",
    "    w_ps.append(w_p)\n",
    "    print(f'{area:25}\\t t: {stat[i]:.3f}\\t p:{pval[i]:.4f}\\t w: {w:.7f}\\t w_p:{w_p:.4f}')\n",
    "\n",
    "# plt.savefig('coarseDiffFluo.svg',bbox_inches=\"tight\")"
   ]
  },
  {
   "cell_type": "markdown",
   "metadata": {},
   "source": [
    "## 3.2 Barplot - PNN Energy"
   ]
  },
  {
   "cell_type": "code",
   "execution_count": null,
   "metadata": {},
   "outputs": [],
   "source": [
    "data = coarseDf.xs('energy', axis=1, level='params')\n",
    "\n",
    "# Plot the data\n",
    "g = gt.coarseOntologyBarplot(data, A, \n",
    "    title='PNN Energy',\n",
    "    cmap='OrRd',\n",
    "    xlabel='(A.U.)',\n",
    "    areaNames=True,\n",
    "    )\n",
    "\n",
    "ws = []\n",
    "w_ps =[]\n",
    "# Display the statistics\n",
    "areaNames = A.ids_to_names(data.index.tolist())\n",
    "stat, pval = ttest_1samp(data, 1, axis=1, nan_policy='omit')\n",
    "for i,area in enumerate(areaNames):\n",
    "    w,w_p= wilcoxon(data.iloc[i]-1, method = 'auto')\n",
    "    \n",
    "    ws.append(w)\n",
    "    w_ps.append(w_p)\n",
    "    print(f'{area:25}\\t t: {stat[i]:.3f}\\t p:{pval[i]:.4f}\\t w: {w:.7f}\\t w_p:{w_p:.4f}')\n",
    "\n",
    "# plt.savefig('coarseDiffFluo.svg',bbox_inches=\"tight\")\n"
   ]
  },
  {
   "cell_type": "markdown",
   "metadata": {},
   "source": [
    "# 4. Interactions\n",
    "Explore the relationship between **WFA Diffuse Fluorecence** and **PNN Energy**"
   ]
  },
  {
   "cell_type": "markdown",
   "metadata": {},
   "source": [
    "## 4.1 Mid-ontology"
   ]
  },
  {
   "cell_type": "code",
   "execution_count": null,
   "metadata": {},
   "outputs": [],
   "source": [
    "data = midDf.groupby('params', axis=1).mean()"
   ]
  },
  {
   "cell_type": "markdown",
   "metadata": {},
   "source": [
    "### Plot brain regions for a single major subdivision"
   ]
  },
  {
   "cell_type": "code",
   "execution_count": null,
   "metadata": {},
   "outputs": [],
   "source": [
    "areaName = 'Isocortex'\n",
    "toPlot = data.loc[A.names_to_ids([areaName])[0]]\n",
    "\n",
    "ax = gt.metricsCorrelation(toPlot, A, \n",
    "    x='diffuseFluo',\n",
    "    y='energy',\n",
    "    txtLoc = 'br',\n",
    "    xlabel = 'WFA Diffuse Fluorescence (A.U.)',\n",
    "    ylabel = 'PNN Energy (A.U.)',\n",
    "    title = areaName\n",
    "    )"
   ]
  },
  {
   "cell_type": "markdown",
   "metadata": {},
   "source": [
    "### Plot all 12 major subdivisions"
   ]
  },
  {
   "cell_type": "code",
   "execution_count": null,
   "metadata": {},
   "outputs": [],
   "source": [
    "f, axs = plt.subplots(nrows=3, ncols=4, figsize=(16,10), squeeze=True)\n",
    "\n",
    "for i, ax in enumerate(f.axes):\n",
    "    thisRegion = A.get_major_divisions_ids()[i]\n",
    "    toPlot = data.loc[thisRegion]\n",
    "\n",
    "    gt.metricsCorrelation(toPlot, A,\n",
    "        ax = ax,\n",
    "        x='diffuseFluo',\n",
    "        y='energy',\n",
    "        txtLoc = 'tl' if i in [1,2,3,4] else 'br',\n",
    "        xlabel = 'WFA Diffuse Fluorescence (A.U.)' if i==8 else None,\n",
    "        ylabel = 'PNN Energy (A.U.)' if i==8 else None,\n",
    "        title = A.ids_to_names([thisRegion])[0],\n",
    "        fontScaling = 0.9\n",
    "    )\n",
    "\n",
    "# plt.savefig('allMidAreasCorrelation.svg',bbox_inches=\"tight\")"
   ]
  },
  {
   "cell_type": "markdown",
   "metadata": {},
   "source": [
    "## 4.1 Coarse ontology"
   ]
  },
  {
   "cell_type": "code",
   "execution_count": null,
   "metadata": {},
   "outputs": [],
   "source": [
    "# Aggregate data at coarse resolution\n",
    "data = coarseDf.groupby('params', axis=1).mean()\n",
    "\n",
    "# Calculate SEM for Diffuse Fluorescence and Energy for displaying errorbars\n",
    "errors = coarseDf.groupby('params', axis=1).sem()\n",
    "data['errDiffuse'] = errors['diffuseFluo']\n",
    "data['errEnergy'] = errors['energy']"
   ]
  },
  {
   "cell_type": "markdown",
   "metadata": {},
   "source": [
    "### Plot coarse areas with errorbars"
   ]
  },
  {
   "cell_type": "code",
   "execution_count": null,
   "metadata": {},
   "outputs": [],
   "source": [
    "f, ax = plt.subplots(figsize=(6,5))\n",
    "\n",
    "_ = gt.metricsWithErrors(data.copy(), A,\n",
    "    ax=ax,\n",
    "    x='diffuseFluo',\n",
    "    y='energy',\n",
    "    err_x='errDiffuse',\n",
    "    err_y='errEnergy',\n",
    "    xlabel='WFA Diffuse Fluorescence (A.U.)',\n",
    "    ylabel='PNN Energy (A.U.)',\n",
    "    annotations=True,\n",
    "    )\n",
    "\n",
    "# plt.savefig('allCoarseAreasCorrelation.svg',bbox_inches=\"tight\")"
   ]
  }
 ],
 "metadata": {
  "kernelspec": {
   "display_name": "Python 3.8.0 ('pnnatlas')",
   "language": "python",
   "name": "python3"
  },
  "language_info": {
   "codemirror_mode": {
    "name": "ipython",
    "version": 3
   },
   "file_extension": ".py",
   "mimetype": "text/x-python",
   "name": "python",
   "nbconvert_exporter": "python",
   "pygments_lexer": "ipython3",
   "version": "3.9.16"
  },
  "orig_nbformat": 4,
  "vscode": {
   "interpreter": {
    "hash": "eb9b05a023cb0337c51761f78a0c6634fc896ffd0dc5040e9e8f7090450a0310"
   }
  }
 },
 "nbformat": 4,
 "nbformat_minor": 2
}
