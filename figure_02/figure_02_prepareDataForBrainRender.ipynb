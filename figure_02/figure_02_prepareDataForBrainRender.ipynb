{
 "cells": [
  {
   "cell_type": "markdown",
   "metadata": {},
   "source": [
    "### Import Packages"
   ]
  },
  {
   "cell_type": "code",
   "execution_count": null,
   "metadata": {},
   "outputs": [],
   "source": [
    "import os\n",
    "# Append the full path to the \"analysis\" folder so that you can import custom packages\n",
    "import sys\n",
    "sys.path.append(r'{}'.format(os.path.abspath(os.pardir)))\n",
    "\n",
    "# Custom packages\n",
    "from wholebrain_tools import dataIO, aba\n",
    "# Instantiate an Atlas object\n",
    "# The first time you run this it will download the structures.json file from the Allen Institute server\n",
    "# If you already downloaded a \"structures.json\" file from the ABA, put its full path here\n",
    "paths = dataIO.pathParser()\n",
    "structuresFile = paths.structures\n",
    "A = aba.Atlas(nodes = structuresFile)\n",
    "DFM = aba.AnatomyDataFrameManager(A)"
   ]
  },
  {
   "cell_type": "markdown",
   "metadata": {},
   "source": [
    "# Load data"
   ]
  },
  {
   "cell_type": "code",
   "execution_count": null,
   "metadata": {},
   "outputs": [],
   "source": [
    "\n",
    "# --------------------------------------------------------------------\n",
    "searchPath = paths.alldata\n",
    "channelName = 'wfa'     # 'wfa' or 'pv'\n",
    "# --------------------------------------------------------------------\n"
   ]
  },
  {
   "cell_type": "markdown",
   "metadata": {},
   "source": [
    "## Process and save data"
   ]
  },
  {
   "cell_type": "code",
   "execution_count": null,
   "metadata": {},
   "outputs": [],
   "source": [
    "\n",
    "df = dataIO.allMiceRegions(searchPath=searchPath, channelName=channelName, normCellIntens=True)\n",
    "df = DFM.multiIndexDf_from_fineDf(df, verbose=False)\n",
    "\n",
    "\n",
    "# Dataframe at mid-ontology\n",
    "midDf = DFM.regionsDf_to_mid(df, verbose=False, normalize=True)\n",
    "\n",
    "\n",
    "# Save Df for brainRender\n",
    "toExport = midDf.groupby(axis=1,level='params').mean()\n",
    "toExport['acronym'] = A.ids_to_acronyms(toExport.index.get_level_values('mid'))\n",
    "toExport = toExport.droplevel('coarse', axis=0)\n",
    "\n",
    "# currentScriptPath = os.path.dirname(os.path.realpath(__file__))\n",
    "toExport.to_csv(\"dataFrameForBrainRender.csv\")\n",
    "\n",
    "print('Exported.')"
   ]
  }
 ],
 "metadata": {
  "kernelspec": {
   "display_name": "Python 3.7.0 ('allen')",
   "language": "python",
   "name": "python3"
  },
  "language_info": {
   "codemirror_mode": {
    "name": "ipython",
    "version": 3
   },
   "file_extension": ".py",
   "mimetype": "text/x-python",
   "name": "python",
   "nbconvert_exporter": "python",
   "pygments_lexer": "ipython3",
   "version": "3.7.0"
  },
  "orig_nbformat": 4,
  "vscode": {
   "interpreter": {
    "hash": "5b41230a79c73660caffd1be412225afb5bf94923aa39d73f52f6e176d33f811"
   }
  }
 },
 "nbformat": 4,
 "nbformat_minor": 2
}
