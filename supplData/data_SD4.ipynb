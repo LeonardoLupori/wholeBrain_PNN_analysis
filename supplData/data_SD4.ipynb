{
 "cells": [
  {
   "cell_type": "code",
   "execution_count": 1,
   "metadata": {},
   "outputs": [],
   "source": [
    "import pandas as pd\n",
    "import sys\n",
    "sys.path.append(r'C:\\Users\\Valentino\\Documents\\MATLAB\\PNN_wholeBrain\\analysis')\n",
    "\n",
    "# Custom packages\n",
    "import dataIO\n",
    "import AbaTool\n",
    "\n",
    "# You can provide a \"structures.json\" file. If you dont, it will download one\n",
    "structuresFile = r\"C:\\Users\\Valentino\\Documents\\MATLAB\\PNN_wholeBrain\\analysis\\structures.json\"\n",
    "A = AbaTool.Atlas(nodes=structuresFile)\n",
    "DFM = AbaTool.AnatomyDataFrameManager(A)"
   ]
  },
  {
   "cell_type": "markdown",
   "metadata": {},
   "source": [
    "# Load the data"
   ]
  },
  {
   "cell_type": "code",
   "execution_count": 32,
   "metadata": {},
   "outputs": [],
   "source": [
    "corr_pnnEn_path = r\"D:\\proj_PNN-Atlas\\RESULTS\\genecorrelationISH\\correlations\\pnnEn_ishEn_corrdata.csv\"\n",
    "corr_pvEn_path = r\"D:\\proj_PNN-Atlas\\RESULTS\\genecorrelationISH\\correlations\\pvEn_ishEn_corrdata.csv\"\n",
    "corr_wfaDiff_path = r\"D:\\proj_PNN-Atlas\\RESULTS\\genecorrelationISH\\correlations\\wfaDiff_ishEn_corrdata.csv\"\n",
    "\n",
    "\n",
    "\n",
    "corr_pnnEn = pd.read_csv(corr_pnnEn_path, index_col='gene_acronym')\n",
    "corr_pvEn = pd.read_csv(corr_pvEn_path, index_col='gene_acronym')\n",
    "corr_wfaDiff  = pd.read_csv(corr_wfaDiff_path, index_col='gene_acronym')"
   ]
  },
  {
   "cell_type": "markdown",
   "metadata": {},
   "source": [
    "# Process data"
   ]
  },
  {
   "cell_type": "code",
   "execution_count": 33,
   "metadata": {},
   "outputs": [],
   "source": [
    "corr_pnnEn = corr_pnnEn\\\n",
    "    .rename(columns={'corr_spearman':'spearman_rho',\n",
    "                    'p_spearman':'p_value',\n",
    "                    'p_spearman_fdr':'FDR',\n",
    "                    'p_spearman_bonf':'adjusted p_value (bonferroni)',\n",
    "                    'gene_id':'gene_AGEA_id',\n",
    "                    })\\\n",
    "    .set_index( ['gene_AGEA_id', 'gene_entrez_id', 'gene_name'], append = True)\\\n",
    "    .loc[:,['spearman_rho','p_value','FDR','adjusted p_value (bonferroni)']]\n",
    "\n",
    "corr_pvEn = corr_pvEn\\\n",
    "    .rename(columns={'corr_spearman':'spearman_rho',\n",
    "                    'p_spearman':'p_value',\n",
    "                    'p_spearman_fdr':'FDR',\n",
    "                    'p_spearman_bonf':'adjusted p_value (bonferroni)',\n",
    "                    'gene_id':'gene_AGEA_id',\n",
    "                    })\\\n",
    "    .set_index( ['gene_AGEA_id', 'gene_entrez_id', 'gene_name'], append = True)\\\n",
    "    .loc[:,['spearman_rho','p_value','FDR','adjusted p_value (bonferroni)']]\n",
    "\n",
    "corr_wfaDiff = corr_wfaDiff\\\n",
    "    .rename(columns={'corr_spearman':'spearman_rho',\n",
    "                    'p_spearman':'p_value',\n",
    "                    'p_spearman_fdr':'FDR',\n",
    "                    'p_spearman_bonf':'adjusted p_value (bonferroni)',\n",
    "                    'gene_id':'gene_AGEA_id',\n",
    "                    })\\\n",
    "    .set_index( ['gene_AGEA_id', 'gene_entrez_id', 'gene_name'], append = True)\\\n",
    "    .loc[:,['spearman_rho','p_value','FDR','adjusted p_value (bonferroni)']]"
   ]
  },
  {
   "cell_type": "markdown",
   "metadata": {},
   "source": [
    "# Write Excel File"
   ]
  },
  {
   "cell_type": "code",
   "execution_count": 34,
   "metadata": {},
   "outputs": [],
   "source": [
    "with pd.ExcelWriter('data_SD4.xlsx') as writer:\n",
    "    corr_pnnEn.to_excel(writer, sheet_name='PNN Energy', na_rep='NA')\n",
    "    corr_pvEn.to_excel(writer, sheet_name='PV Energy', na_rep='NA')\n",
    "    corr_wfaDiff.to_excel(writer, sheet_name='WFA Diffuse Fluorescence', na_rep='NA')\n"
   ]
  }
 ],
 "metadata": {
  "kernelspec": {
   "display_name": "Python 3.7.0 ('allen')",
   "language": "python",
   "name": "python3"
  },
  "language_info": {
   "codemirror_mode": {
    "name": "ipython",
    "version": 3
   },
   "file_extension": ".py",
   "mimetype": "text/x-python",
   "name": "python",
   "nbconvert_exporter": "python",
   "pygments_lexer": "ipython3",
   "version": "3.7.0"
  },
  "orig_nbformat": 4,
  "vscode": {
   "interpreter": {
    "hash": "5b41230a79c73660caffd1be412225afb5bf94923aa39d73f52f6e176d33f811"
   }
  }
 },
 "nbformat": 4,
 "nbformat_minor": 2
}
