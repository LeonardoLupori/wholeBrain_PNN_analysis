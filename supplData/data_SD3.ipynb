{
 "cells": [
  {
   "cell_type": "code",
   "execution_count": null,
   "metadata": {},
   "outputs": [],
   "source": [
    "import pandas as pd\n",
    "import sys, os\n",
    "sys.path.append(r\"C:\\Users\\Valentino\\Documents\\MATLAB\\PNN_wholeBrain\\analysis\")\n",
    "\n",
    "# Custom packages\n",
    "import dataIO\n",
    "import AbaTool\n",
    "\n",
    "# You can provide a \"structures.json\" file. If you dont, it will download one\n",
    "structuresFile = r\"C:\\Users\\Valentino\\Documents\\MATLAB\\PNN_wholeBrain\\analysis\\structures.json\"\n",
    "A = AbaTool.Atlas(nodes=structuresFile)\n",
    "DFM = AbaTool.AnatomyDataFrameManager(A)\n"
   ]
  },
  {
   "cell_type": "markdown",
   "metadata": {},
   "source": [
    "# Load data"
   ]
  },
  {
   "cell_type": "code",
   "execution_count": null,
   "metadata": {},
   "outputs": [],
   "source": [
    "searchpath =  r'D:\\proj_PNN-Atlas\\RESULTS\\colocalization'\n",
    "\n",
    "dots_df = dataIO.allMiceDots(searchpath)\n",
    "dots_df = DFM.multiIndexDf_from_dotsDf(dots_df)\n"
   ]
  },
  {
   "cell_type": "markdown",
   "metadata": {},
   "source": [
    "# High Resolution"
   ]
  },
  {
   "cell_type": "code",
   "execution_count": null,
   "metadata": {},
   "outputs": [],
   "source": [
    "fine = DFM.dotsRegionsDf_to_fine(dots_df, verbose=False, numberOfCells = True)\\\n",
    "    .xs('CTR', axis=1, level='treat')\n",
    "fine = DFM.dots_leaveOneOut_correction(fine, min_num_mice=3, min_num_pv=2,min_num_pnn=2)\n",
    "# Add acronyms to the index\n",
    "fineAcros = A.ids_to_acronyms(fine.index.get_level_values('fine'))\n",
    "midAcros = A.ids_to_acronyms(fine.index.get_level_values('mid'))\n",
    "coarseAcros = A.ids_to_acronyms(fine.index.get_level_values('coarse'))\n",
    "fine['fine_acro'] = fineAcros\n",
    "fine['mid_acro'] = midAcros\n",
    "fine['coarse_acro'] = coarseAcros\n",
    "fine = fine.set_index(['fine_acro','mid_acro','coarse_acro'], append=True)\n",
    "# Reorder index in the proper way\n",
    "fine = fine.reorder_levels(['coarse','coarse_acro','mid','mid_acro','fine','fine_acro'])\n",
    "\n",
    "fine_avg = fine.groupby('params',axis=1).mean()\n",
    "fine"
   ]
  },
  {
   "cell_type": "markdown",
   "metadata": {},
   "source": [
    "# Mid Resolution"
   ]
  },
  {
   "cell_type": "code",
   "execution_count": null,
   "metadata": {},
   "outputs": [],
   "source": [
    "mid = DFM.dotsRegionsDf_to_mid(dots_df, verbose=False, numberOfCells=True)\\\n",
    "    .xs('CTR', axis=1, level='treat')\n",
    "mid = DFM.dots_leaveOneOut_correction(mid, min_num_mice=3, min_num_pv=2,min_num_pnn=2)\n",
    "# Add acronyms to the index\n",
    "midAcros = A.ids_to_acronyms(mid.index.get_level_values('mid'))\n",
    "coarseAcros = A.ids_to_acronyms(mid.index.get_level_values('coarse'))\n",
    "mid['mid_acro'] = midAcros\n",
    "mid['coarse_acro'] = coarseAcros\n",
    "mid = mid.set_index('mid_acro', append=True)\n",
    "mid = mid.set_index('coarse_acro', append=True)\n",
    "# Reorder index in the proper way\n",
    "mid = mid.reorder_levels(['coarse','coarse_acro','mid','mid_acro'])\n",
    "mid_avg = mid.groupby('params',axis=1).mean()\n",
    "mid"
   ]
  },
  {
   "cell_type": "markdown",
   "metadata": {},
   "source": [
    "# Coarse resolution"
   ]
  },
  {
   "cell_type": "code",
   "execution_count": null,
   "metadata": {},
   "outputs": [],
   "source": [
    "coarse = DFM.dotsRegionsDf_to_coarse(dots_df, verbose=False)\\\n",
    "    .xs('CTR', axis=1, level='treat')\n",
    "\n",
    "# Add acronyms to the index\n",
    "coarseAcros = A.ids_to_acronyms(coarse.index.get_level_values('coarse'))\n",
    "coarse['coarse_acro'] = coarseAcros\n",
    "coarse = coarse.set_index('coarse_acro', append=True)\n",
    "\n",
    "coarse_avg = coarse.groupby('params',axis=1).mean()\n",
    "coarse"
   ]
  },
  {
   "cell_type": "code",
   "execution_count": null,
   "metadata": {},
   "outputs": [],
   "source": [
    "with pd.ExcelWriter('data_SD3.xlsx') as writer:\n",
    "    coarse.to_excel(writer, sheet_name='coarse', na_rep='NA')\n",
    "    coarse_avg.to_excel(writer, sheet_name='coarse_miceAvg', na_rep='NA')\n",
    "    mid.to_excel(writer, sheet_name='medium', na_rep='NA')\n",
    "    mid_avg.to_excel(writer, sheet_name='medium_expUnitAvg', na_rep='NA')\n",
    "    fine.to_excel(writer, sheet_name='fine', na_rep='NA')\n",
    "    fine_avg.to_excel(writer, sheet_name='fine_expUnitAvg', na_rep='NA')"
   ]
  }
 ],
 "metadata": {
  "kernelspec": {
   "display_name": "Python 3.7.0 ('allen')",
   "language": "python",
   "name": "python3"
  },
  "language_info": {
   "codemirror_mode": {
    "name": "ipython",
    "version": 3
   },
   "file_extension": ".py",
   "mimetype": "text/x-python",
   "name": "python",
   "nbconvert_exporter": "python",
   "pygments_lexer": "ipython3",
   "version": "3.7.0"
  },
  "orig_nbformat": 4,
  "vscode": {
   "interpreter": {
    "hash": "5b41230a79c73660caffd1be412225afb5bf94923aa39d73f52f6e176d33f811"
   }
  }
 },
 "nbformat": 4,
 "nbformat_minor": 2
}
