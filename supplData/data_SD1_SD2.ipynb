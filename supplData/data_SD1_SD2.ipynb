{
 "cells": [
  {
   "cell_type": "code",
   "execution_count": null,
   "metadata": {},
   "outputs": [],
   "source": [
    "import pandas as pd\n",
    "import os,sys\n",
    "sys.path.append(r'{}'.format(os.path.abspath(os.pardir)))\n",
    "\n",
    "from wholebrain_tools import aba, genes, dataIO\n",
    "import wholebrain_tools.stats as st \n",
    "import wholebrain_tools.graphics as gt\n",
    "\n",
    "# Instantiate an Atlas object from the aba module\n",
    "# The first time you run this it will download the structures.json file from the Allen Institute server\n",
    "paths = dataIO.pathParser()\n",
    "\n",
    "nodes_path = paths.structures\n",
    "A = aba.Atlas(nodes = nodes_path)\n",
    "DFM = aba.AnatomyDataFrameManager(A)"
   ]
  },
  {
   "cell_type": "markdown",
   "metadata": {},
   "source": [
    "# Load the data"
   ]
  },
  {
   "cell_type": "code",
   "execution_count": null,
   "metadata": {},
   "outputs": [],
   "source": [
    "# --------------------------------------------------------------------\n",
    "searchPath = paths.alldata\n",
    "channelName = 'wfa'     # 'wfa' or 'pv'\n",
    "# --------------------------------------------------------------------\n",
    "\n",
    "df = dataIO.allMiceRegions(searchPath=searchPath, channelName=channelName, normCellIntens=True)\n",
    "df = DFM.multiIndexDf_from_fineDf(df, verbose=True)"
   ]
  },
  {
   "cell_type": "markdown",
   "metadata": {},
   "source": [
    "## High resolution"
   ]
  },
  {
   "cell_type": "code",
   "execution_count": null,
   "metadata": {},
   "outputs": [],
   "source": [
    "fine = DFM.regionsDf_to_fine(df, verbose=False, normalize=True)\n",
    "\n",
    "# Add acronyms to the index\n",
    "fineAcros = A.ids_to_acronyms(fine.index.get_level_values('fine'))\n",
    "midAcros = A.ids_to_acronyms(fine.index.get_level_values('mid'))\n",
    "coarseAcros = A.ids_to_acronyms(fine.index.get_level_values('coarse'))\n",
    "fine['fine_acro'] = fineAcros\n",
    "fine['mid_acro'] = midAcros\n",
    "fine['coarse_acro'] = coarseAcros\n",
    "fine = fine.set_index(['fine_acro','mid_acro','coarse_acro'], append=True)\n",
    "# Reorder index in the proper way\n",
    "fine = fine.reorder_levels(['coarse','coarse_acro','mid','mid_acro','fine','fine_acro'])\n",
    "\n",
    "fine_avg = fine.groupby('params',axis=1).mean()\n",
    "fine"
   ]
  },
  {
   "cell_type": "markdown",
   "metadata": {},
   "source": [
    "## Mid resolution"
   ]
  },
  {
   "cell_type": "code",
   "execution_count": null,
   "metadata": {},
   "outputs": [],
   "source": [
    "mid = DFM.regionsDf_to_mid(df, verbose=False, normalize=True)\n",
    "\n",
    "# Add acronyms to the index\n",
    "midAcros = A.ids_to_acronyms(mid.index.get_level_values('mid'))\n",
    "coarseAcros = A.ids_to_acronyms(mid.index.get_level_values('coarse'))\n",
    "mid['mid_acro'] = midAcros\n",
    "mid['coarse_acro'] = coarseAcros\n",
    "mid = mid.set_index('mid_acro', append=True)\n",
    "mid = mid.set_index('coarse_acro', append=True)\n",
    "# Reorder index in the proper way\n",
    "mid = mid.reorder_levels(['coarse','coarse_acro','mid','mid_acro'])\n",
    "mid_avg = mid.groupby('params',axis=1).mean()"
   ]
  },
  {
   "cell_type": "markdown",
   "metadata": {},
   "source": [
    "## Coarse resolution"
   ]
  },
  {
   "cell_type": "code",
   "execution_count": null,
   "metadata": {},
   "outputs": [],
   "source": [
    "coarse = DFM.regionsDf_to_coarse(df, verbose=False, normalize=True)\n",
    "\n",
    "# Add acronyms to the index\n",
    "coarseAcros = A.ids_to_acronyms(coarse.index.get_level_values('coarse'))\n",
    "coarse['coarse_acro'] = coarseAcros\n",
    "coarse = coarse.set_index('coarse_acro', append=True)\n",
    "\n",
    "coarse_avg = coarse.groupby('params',axis=1).mean()"
   ]
  },
  {
   "cell_type": "markdown",
   "metadata": {},
   "source": [
    "# Write Excel File for PNNs (data SD1)"
   ]
  },
  {
   "cell_type": "code",
   "execution_count": null,
   "metadata": {},
   "outputs": [],
   "source": [
    "with pd.ExcelWriter('data_SD1.xlsx') as writer:\n",
    "    coarse.to_excel(writer, sheet_name='coarse', na_rep='NA')\n",
    "    coarse_avg.to_excel(writer, sheet_name='coarse_miceAvg', na_rep='NA')\n",
    "    mid.to_excel(writer, sheet_name='medium', na_rep='NA')\n",
    "    mid_avg.to_excel(writer, sheet_name='medium_miceAvg', na_rep='NA')\n",
    "    fine.to_excel(writer, sheet_name='fine', na_rep='NA')\n",
    "    fine_avg.to_excel(writer, sheet_name='fine_miceAvg', na_rep='NA')"
   ]
  },
  {
   "cell_type": "markdown",
   "metadata": {},
   "source": [
    "# Write Excel File for PV cells (data SD2)\n",
    "To export data for PV cells, run all the previous cells but in the *Load Data* cell\n",
    "change the name of the channel from `wfa` to `pv` to perform all the analysis on \n",
    "pv staining "
   ]
  },
  {
   "cell_type": "code",
   "execution_count": null,
   "metadata": {},
   "outputs": [],
   "source": [
    "with pd.ExcelWriter('data_SD22.xlsx') as writer:\n",
    "    coarse.to_excel(writer, sheet_name='coarse', na_rep='NA')\n",
    "    coarse_avg.to_excel(writer, sheet_name='coarse_miceAvg', na_rep='NA')\n",
    "    mid.to_excel(writer, sheet_name='medium', na_rep='NA')\n",
    "    mid_avg.to_excel(writer, sheet_name='medium_miceAvg', na_rep='NA')\n",
    "    fine.to_excel(writer, sheet_name='fine', na_rep='NA')\n",
    "    fine_avg.to_excel(writer, sheet_name='fine_miceAvg', na_rep='NA')"
   ]
  }
 ],
 "metadata": {
  "kernelspec": {
   "display_name": "Python 3.7.0 ('allen')",
   "language": "python",
   "name": "python3"
  },
  "language_info": {
   "codemirror_mode": {
    "name": "ipython",
    "version": 3
   },
   "file_extension": ".py",
   "mimetype": "text/x-python",
   "name": "python",
   "nbconvert_exporter": "python",
   "pygments_lexer": "ipython3",
   "version": "3.7.0"
  },
  "orig_nbformat": 4,
  "vscode": {
   "interpreter": {
    "hash": "5b41230a79c73660caffd1be412225afb5bf94923aa39d73f52f6e176d33f811"
   }
  }
 },
 "nbformat": 4,
 "nbformat_minor": 2
}
