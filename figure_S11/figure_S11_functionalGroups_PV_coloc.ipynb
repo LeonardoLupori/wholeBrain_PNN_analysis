{
 "cells": [
  {
   "cell_type": "code",
   "execution_count": null,
   "metadata": {},
   "outputs": [],
   "source": [
    "import pandas as pd\n",
    "import numpy as np\n",
    "import seaborn as sns\n",
    "import matplotlib.pyplot as plt\n",
    "from matplotlib import cm\n",
    "from matplotlib.patches import Polygon\n",
    "from scipy.spatial import ConvexHull\n",
    "\n",
    "import itertools\n",
    "from sklearn.metrics import silhouette_score\n",
    "from scipy.stats import f_oneway, ttest_rel\n",
    "from statsmodels.stats.multitest import multipletests\n",
    "from statsmodels.stats.anova import AnovaRM\n",
    "\n",
    "\n",
    "import os,sys\n",
    "sys.path.append(r'{}'.format(os.path.abspath(os.pardir)))\n",
    "\n",
    "from wholebrain_tools import aba, genes, dataIO\n",
    "import wholebrain_tools.stats as st \n",
    "import wholebrain_tools.graphics as gt\n",
    "\n",
    "# Instantiate an Atlas object from the aba module\n",
    "# The first time you run this it will download the structures.json file from the Allen Institute server\n",
    "paths = dataIO.pathParser()\n",
    "\n",
    "nodes_path = paths.structures\n",
    "A = aba.Atlas(nodes = nodes_path)\n",
    "DFM = aba.AnatomyDataFrameManager(A)"
   ]
  },
  {
   "cell_type": "markdown",
   "metadata": {},
   "source": [
    "# PV energy in cortical subnetworks\n",
    "-----"
   ]
  },
  {
   "cell_type": "markdown",
   "metadata": {},
   "source": [
    "### Load data"
   ]
  },
  {
   "cell_type": "code",
   "execution_count": null,
   "metadata": {},
   "outputs": [],
   "source": [
    "# --------------------------------------------------------------------\n",
    "searchPath = paths.alldata\n",
    "channelName = 'pv'     # 'wfa' or 'pv'\n",
    "# --------------------------------------------------------------------\n",
    "\n",
    "df = dataIO.allMiceRegions(searchPath=searchPath, channelName=channelName, normCellIntens=True)\n",
    "df = DFM.multiIndexDf_from_fineDf(df, verbose=True)\n",
    "\n",
    "# Dataframe at mid-ontology\n",
    "midDf_wfa = DFM.regionsDf_to_mid(df, verbose=False, normalize=True)\n",
    "\n",
    "# Select only cortical areas\n",
    "cortex_df_pv = midDf_wfa.loc[315]\n",
    "\n",
    "# Calculate mean and sem\n",
    "mean = cortex_df_pv.groupby('params', axis=1).mean()\n",
    "sem = cortex_df_pv.groupby('params', axis=1).sem().add_suffix('_sem')\n",
    "\n",
    "# Get the annotation of cortical areas in subnetworks\n",
    "subnet = dataIO.corticalAreasGroups(toDataFrame=False)\n",
    "subnet_df = pd.DataFrame.from_dict(subnet,orient='index').rename(columns={0:'function'})\n",
    "subnet_df.index = A.acronyms_to_ids(subnet_df.index)\n",
    "\n",
    "data = pd.concat([mean, sem, subnet_df], axis=1)\n",
    "\n",
    "# Drop areas with unknown function (\"other\")\n",
    "data = data.drop(data[data['function']=='other'].index)\n",
    "\n",
    "# Rename values in \"function\" columns for aesthetic purposes\n",
    "switchDict = {\n",
    "    'mAssociation':'Medial Association',\n",
    "    'mPrefrontal': 'Medial Prefrontal',\n",
    "    'lateral':'Lateral',\n",
    "    'motorSS':'Motor-Somatosensory',\n",
    "    'audioVisual':'Audio-Visual'\n",
    "}\n",
    "data['function_nice'] = [switchDict[x] for x in data['function']]\n",
    "\n",
    "data.head()"
   ]
  },
  {
   "cell_type": "markdown",
   "metadata": {},
   "source": [
    "### Plot cortical subnetworks"
   ]
  },
  {
   "cell_type": "code",
   "execution_count": null,
   "metadata": {},
   "outputs": [],
   "source": [
    "sns.set_style('white')\n",
    "\n",
    "f, ax = plt.subplots(figsize=(7,7))\n",
    "\n",
    "# Main scatterplot\n",
    "g = sns.scatterplot(\n",
    "    data=data,\n",
    "    x='diffuseFluo',\n",
    "    y='energy',\n",
    "    s=140,\n",
    "    hue='function_nice'\n",
    ")\n",
    "\n",
    "# Add the convex hull background\n",
    "bgPalette = sns.color_palette(\"pastel\")\n",
    "for i, areacategory in enumerate(data['function'].unique()):\n",
    "    set = data.loc[data['function']==areacategory, ['diffuseFluo', 'energy']]\n",
    "    points = set.values\n",
    "    hull = ConvexHull(points)\n",
    "    p = Polygon(points[hull.vertices,:], alpha=0.3, zorder=-20, facecolor=bgPalette[i])\n",
    "    ax.add_patch(p)\n",
    "\n",
    "# Plot the errorbars\n",
    "plt.errorbar(\n",
    "    x=data['diffuseFluo'],\n",
    "    y=data['energy'],\n",
    "    xerr=data['diffuseFluo_sem'],\n",
    "    yerr=data['energy_sem'],\n",
    "    fmt='None',\n",
    "    ecolor='gray',\n",
    "    elinewidth=.5,\n",
    "    zorder=-13\n",
    ")\n",
    "\n",
    "plt.legend(\n",
    "    title='Cortical Subnetwork',\n",
    "    fontsize=14,\n",
    "    loc='best',\n",
    "    title_fontsize=16,\n",
    "    frameon=False\n",
    ")\n",
    "\n",
    "# Customize Axis\n",
    "g.set_xlabel(\"PV Diffuse Fluorescence (A.U.)\", fontsize=22)\n",
    "g.set_ylabel(\"PV Energy (A.U.)\", fontsize=22)\n",
    "ax.tick_params(labelsize=16)\n",
    "\n",
    "sns.despine()\n",
    "\n",
    "# plt.savefig('CorticalSubnetworks_PV.svg',bbox_inches=\"tight\")"
   ]
  },
  {
   "cell_type": "markdown",
   "metadata": {},
   "source": [
    "### Compute PV energy for the high-WFA and the low-WFA group"
   ]
  },
  {
   "cell_type": "code",
   "execution_count": null,
   "metadata": {},
   "outputs": [],
   "source": [
    "# Extract raw data for the cortex\n",
    "cortex_df_pv = df.loc[315].copy()\n",
    "\n",
    "# Addign each area of the cortex to the high-WFA or low-WFA groups\n",
    "midids = A.ids_to_acronyms(cortex_df_pv.index.get_level_values('mid'))\n",
    "functional_group = [subnet[area] for area in midids]\n",
    "cortex_df_pv.loc[:,'function'] = functional_group\n",
    "group = ['high-WFA' if x in ['motorSS','audioVisual','mAssociation'] else 'low-WFA' if x in ['lateral','mPrefrontal'] else 'other' for x in cortex_df_pv['function']]\n",
    "cortex_df_pv['group'] = group\n",
    "cortex_df_pv.set_index('group', inplace=True)\n",
    "cortex_df_pv.drop('function', axis='columns', inplace=True)\n",
    "\n",
    "#aggregate data by groups\n",
    "grouped = cortex_df_pv.groupby(by='group', axis=0).sum()\n",
    "#Calculate energy\n",
    "areaMm = grouped.xs('areaMm2',axis=1,level='params')\n",
    "fluoCellSum = grouped.xs('fluoCellSum',axis=1,level='params')\n",
    "energy = fluoCellSum.divide(areaMm)\n",
    "# Normalize\n",
    "brainAreaMm = df.xs('areaMm2', axis=1, level='params').sum()\n",
    "brainAreaPx = df.xs('areaPx', axis=1, level='params').sum()\n",
    "brainCellIntensity = df.xs('fluoCellSum', axis=1, level='params').sum()\n",
    "brainEnergy = brainCellIntensity.divide(brainAreaMm)\n",
    "energy = energy.divide(brainEnergy)\n",
    "\n",
    "# Drop 'other' subnetwork\n",
    "\n",
    "energy  = energy.drop('other')\n"
   ]
  },
  {
   "cell_type": "markdown",
   "metadata": {},
   "source": [
    "### Plot PV energy"
   ]
  },
  {
   "cell_type": "code",
   "execution_count": null,
   "metadata": {},
   "outputs": [],
   "source": [
    "melted_en = energy.melt(ignore_index=False).reset_index()\n",
    "# Define colors\n",
    "cmap = cm.get_cmap(\"OrRd\")\n",
    "cmap = cm.get_cmap(cmap)\n",
    "pointColor = cmap(0.85)\n",
    "paletteBars = {\n",
    "'high-WFA':cmap(0.6),\n",
    "'low-WFA':cmap(0.2),\n",
    "}\n",
    "\n",
    "\n",
    "f, ax = plt.subplots(figsize=(2,7))\n",
    "# Plot histograms\n",
    "g = sns.barplot(data = melted_en,\n",
    "            x = 'group',\n",
    "            y = 'value', \n",
    "            palette=paletteBars,\n",
    "            errorbar='se'\n",
    "            )\n",
    "# plot single animals\n",
    "ax.plot(\n",
    "        energy,\n",
    "        linewidth=1,\n",
    "        color=pointColor,\n",
    "        marker='o',\n",
    "        markersize=7,\n",
    "        alpha=.5,\n",
    "    )\n",
    "\n",
    "# change labels\n",
    "g.set_ylabel(\"PV Energy (A.U.)\", fontdict={'fontsize':25})\n",
    "g.set_xlabel(\"\",  fontdict={'fontsize':20})\n",
    "ax.tick_params(labelsize=20)\n",
    "ax.set_xticklabels(ax.xaxis.get_ticklabels(), rotation=45, ha='right',fontdict={'fontsize':20})\n",
    "sns.despine()\n",
    "\n",
    "# performed paired ttest\n",
    "t,p = ttest_rel(\n",
    "        energy.loc['high-WFA'],\n",
    "        energy.loc['low-WFA'],\n",
    "        nan_policy='omit'\n",
    ")\n",
    "print(f\"T-test - T: {t:.4f} - p-value:{p:.8f}\")\n",
    "\n",
    "# plt.savefig('pvEnergyHigh-Low.svg', bbox_inches=\"tight\")"
   ]
  },
  {
   "cell_type": "markdown",
   "metadata": {},
   "source": [
    "# PNN-PV colocalization in cortical subnetworks\n",
    "----"
   ]
  },
  {
   "cell_type": "markdown",
   "metadata": {},
   "source": [
    "### load data"
   ]
  },
  {
   "cell_type": "code",
   "execution_count": null,
   "metadata": {},
   "outputs": [],
   "source": [
    "# --------------------------------------------------------------------\n",
    "searchPath = paths.alldata\n",
    "# --------------------------------------------------------------------\n",
    "\n",
    "df_dots = dataIO.allMiceDots(searchPath=searchPath)\n",
    "df_dots = DFM.multiIndexDf_from_dotsDf(df_dots, verbose=True)\n",
    "#select cortical areas\n",
    "df_dots  = df_dots.loc[315]\n"
   ]
  },
  {
   "cell_type": "markdown",
   "metadata": {},
   "source": [
    "### Compute colocalization metrics for high-WFA and low WFA subnetworks"
   ]
  },
  {
   "cell_type": "code",
   "execution_count": null,
   "metadata": {},
   "outputs": [],
   "source": [
    "# Assign each area to the appropriate subnetwork\n",
    "midareas = A.ids_to_acronyms(df_dots.index.get_level_values('mid'))\n",
    "df_dots['subnet'] = [subnet[area] for area in midareas]\n",
    "df_dots['group'] = ['high-WFA' if x in ['motorSS','audioVisual','mAssociation'] else 'low-WFA' if x in ['lateral','mPrefrontal'] else 'other' for x in df_dots['subnet']]\n",
    "df_dots = df_dots.drop('subnet', axis='columns', level=0)\n",
    "#compute aggregated metrics\n",
    "df_dots = df_dots.groupby('group').sum()\n",
    "coloc_pv = df_dots.xs('n_colocalized',axis = 'columns', level = 'params')\n",
    "tot_pv = df_dots.xs('n_pv',axis = 'columns', level = 'params')\n",
    "wfaPositive_pv  = coloc_pv.divide(tot_pv) *100\n",
    "#drop 'other' subnetwork\n",
    "wfaPositive_pv = wfaPositive_pv.drop('other')\n",
    "#melt df for plotting\n",
    "melted_coloc = wfaPositive_pv.melt(ignore_index=False).reset_index()\n"
   ]
  },
  {
   "cell_type": "markdown",
   "metadata": {},
   "source": [
    "### Plot colocalization"
   ]
  },
  {
   "cell_type": "code",
   "execution_count": null,
   "metadata": {},
   "outputs": [],
   "source": [
    "# Define colors\n",
    "cmap = cm.get_cmap(\"pink_r\")\n",
    "cmap = cm.get_cmap(cmap)\n",
    "pointColor = cmap(0.85)\n",
    "barColor = cmap(0.4)\n",
    "paletteBars = {\n",
    "'high-WFA':cmap(0.6),\n",
    "'low-WFA':cmap(0.2),\n",
    "    }\n",
    "\n",
    "f, ax = plt.subplots(figsize=(2,7))\n",
    "# plot histograms\n",
    "g = sns.barplot(data = melted_coloc,\n",
    "            x = 'group',\n",
    "            y = 'value', \n",
    "            palette=paletteBars,\n",
    "            errorbar='se'\n",
    "            )\n",
    "#plot single animals\n",
    "ax.plot(\n",
    "        wfaPositive_pv,\n",
    "        linewidth=1,\n",
    "        color=pointColor,\n",
    "        marker='o',\n",
    "        markersize=7,\n",
    "        alpha=.5,\n",
    "    )\n",
    "\n",
    "#add labels\n",
    "g.set_ylabel(\"WFA$^+$ PV cells (%)\", fontdict={'fontsize':25})\n",
    "g.set_xlabel(\"\",  fontdict={'fontsize':20})\n",
    "ax.tick_params(labelsize=20)\n",
    "ax.set_xticklabels(ax.xaxis.get_ticklabels(), rotation=45, ha='right',fontdict={'fontsize':20})\n",
    "sns.despine()\n",
    "\n",
    "#Perform paired ttest\n",
    "t,p = ttest_rel(\n",
    "        wfaPositive_pv.loc['high-WFA'],\n",
    "        wfaPositive_pv.loc['low-WFA'],\n",
    "        nan_policy='omit'\n",
    ")\n",
    "print(f\"T-test - T: {t:.4f} - p-value:{p:.7f}\")\n",
    "\n",
    "# plt.savefig('colocHigh-Low.svg', bbox_inches=\"tight\")"
   ]
  }
 ],
 "metadata": {
  "kernelspec": {
   "display_name": "Python 3.9.12 ('base')",
   "language": "python",
   "name": "python3"
  },
  "language_info": {
   "codemirror_mode": {
    "name": "ipython",
    "version": 3
   },
   "file_extension": ".py",
   "mimetype": "text/x-python",
   "name": "python",
   "nbconvert_exporter": "python",
   "pygments_lexer": "ipython3",
   "version": "3.9.16"
  },
  "orig_nbformat": 4,
  "vscode": {
   "interpreter": {
    "hash": "ada140e5069bd8ae1b677b8fd2779c5ce88c2e3360ff7605b9171aa2195a7dfa"
   }
  }
 },
 "nbformat": 4,
 "nbformat_minor": 2
}
