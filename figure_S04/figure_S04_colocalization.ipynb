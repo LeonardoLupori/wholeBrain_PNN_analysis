{
 "cells": [
  {
   "cell_type": "code",
   "execution_count": null,
   "metadata": {},
   "outputs": [],
   "source": [
    "import matplotlib.pyplot as plt\n",
    "\n",
    "import os,sys\n",
    "sys.path.append(r'{}'.format(os.path.abspath(os.pardir)))\n",
    "\n",
    "from wholebrain_tools import aba, genes, dataIO\n",
    "import wholebrain_tools.stats as st \n",
    "import wholebrain_tools.graphics as gt\n",
    "\n",
    "# Instantiate an Atlas object from the aba module\n",
    "# The first time you run this it will download the structures.json file from the Allen Institute server\n",
    "paths = dataIO.pathParser()\n",
    "\n",
    "nodes_path = paths.structures\n",
    "A = aba.Atlas(nodes = nodes_path)\n",
    "DFM = aba.AnatomyDataFrameManager(A)"
   ]
  },
  {
   "attachments": {},
   "cell_type": "markdown",
   "metadata": {},
   "source": [
    "# Load data"
   ]
  },
  {
   "cell_type": "code",
   "execution_count": null,
   "metadata": {},
   "outputs": [],
   "source": [
    "# ------------------------------------------------------------------------------\n",
    "searchpath =  paths.alldata\n",
    "# ------------------------------------------------------------------------------\n",
    "\n",
    "# Load dots data from all aniamls\n",
    "df = dataIO.allMiceDots(searchpath)\n",
    "df = DFM.multiIndexDf_from_dotsDf(df)\n",
    "\n",
    "df.head()"
   ]
  },
  {
   "attachments": {},
   "cell_type": "markdown",
   "metadata": {},
   "source": [
    "# Colocalization of all areas in each subdivision"
   ]
  },
  {
   "attachments": {},
   "cell_type": "markdown",
   "metadata": {},
   "source": [
    "## Prepare data"
   ]
  },
  {
   "cell_type": "code",
   "execution_count": null,
   "metadata": {},
   "outputs": [],
   "source": [
    "# Dataframe at mid ontology\n",
    "mid_df = DFM.dotsRegionsDf_to_mid(df, numberOfCells=True)\n",
    "\n",
    "# Perform the Leave-One-Out analysis at mid-ontology \n",
    "mid_df = DFM.dots_leaveOneOut_correction(\n",
    "    mid_df,\n",
    "    verbose=False,\n",
    "    min_num_pnn=2,\n",
    "    min_num_pv=2,\n",
    "    min_num_mice=3,\n",
    "    )\n",
    "\n",
    "# Drop the dots in the fiber tracts\n",
    "mid_df = mid_df.drop(1009, level='coarse')\n",
    "\n",
    "mid_df"
   ]
  },
  {
   "cell_type": "code",
   "execution_count": null,
   "metadata": {},
   "outputs": [],
   "source": [
    "temp = mid_df.groupby('params', axis=1).mean()\n",
    "temp['acronym'] = A.ids_to_acronyms(temp.index.get_level_values('mid'))\n",
    "temp = temp.droplevel('coarse')\n",
    "temp"
   ]
  },
  {
   "attachments": {},
   "cell_type": "markdown",
   "metadata": {},
   "source": [
    "## All plots"
   ]
  },
  {
   "cell_type": "code",
   "execution_count": null,
   "metadata": {},
   "outputs": [],
   "source": [
    "coarseAreas = mid_df.index.get_level_values('coarse').unique()\n",
    "\n",
    "for coarseArea in coarseAreas:\n",
    "    toPlot = mid_df.loc[coarseArea]\n",
    "    gt.colocalizationDoubleBarplot(\n",
    "        toPlot,\n",
    "        A,\n",
    "        x_left='pvPositive_pnn',\n",
    "        x_right='wfaPositive_pv',\n",
    "        xlabel_left='% of PNNs',\n",
    "        xlabel_right='% of PV cells',\n",
    "        title_left='PV$^+$ PNNs',\n",
    "        title_right='WFA$^+$ PV cells',\n",
    "        adaptiveHeight=True,\n",
    "    )\n",
    "\n",
    "    # plt.savefig(f\"colocaliz_mid_{A.ids_to_acronyms([coarseArea])[0]}.svg\", bbox_inches=\"tight\")"
   ]
  }
 ],
 "metadata": {
  "kernelspec": {
   "display_name": "Python 3.7.0 ('allen')",
   "language": "python",
   "name": "python3"
  },
  "language_info": {
   "codemirror_mode": {
    "name": "ipython",
    "version": 3
   },
   "file_extension": ".py",
   "mimetype": "text/x-python",
   "name": "python",
   "nbconvert_exporter": "python",
   "pygments_lexer": "ipython3",
   "version": "3.9.16"
  },
  "orig_nbformat": 4,
  "vscode": {
   "interpreter": {
    "hash": "5b41230a79c73660caffd1be412225afb5bf94923aa39d73f52f6e176d33f811"
   }
  }
 },
 "nbformat": 4,
 "nbformat_minor": 2
}
