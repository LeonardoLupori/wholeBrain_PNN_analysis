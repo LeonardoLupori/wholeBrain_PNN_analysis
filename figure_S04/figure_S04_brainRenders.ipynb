{
 "cells": [
  {
   "cell_type": "code",
   "execution_count": null,
   "metadata": {},
   "outputs": [],
   "source": [
    "import bgheatmaps as bgh\n",
    "from bgheatmaps.slicer import Slicer\n",
    "import pandas as pd\n",
    "import numpy as np\n",
    "import plotly.graph_objects as go\n",
    "import matplotlib.pyplot as plt\n",
    "import matplotlib as mpl\n",
    "import os\n"
   ]
  },
  {
   "cell_type": "markdown",
   "metadata": {},
   "source": [
    "# Load Data"
   ]
  },
  {
   "cell_type": "code",
   "execution_count": null,
   "metadata": {},
   "outputs": [],
   "source": [
    "midDf = pd.read_csv('dataFrameForBrainRender.csv', header=[0], index_col=[0])\n",
    "midDf = midDf.drop(1009)       # Drop Fiber tracts\n",
    "midDf"
   ]
  },
  {
   "cell_type": "markdown",
   "metadata": {},
   "source": [
    "# Energy - Render the brain"
   ]
  },
  {
   "cell_type": "code",
   "execution_count": null,
   "metadata": {},
   "outputs": [],
   "source": [
    "metric = 'energy'\n",
    "\n",
    "bgData = midDf[['acronym',metric]].set_index('acronym')\n",
    "dataDict = bgData[metric].to_dict()\n",
    "\n",
    "print(\"Rendering...\")\n",
    "heatmap = bgh.heatmap(\n",
    "    dataDict,\n",
    "    position=5000,\n",
    "    orientation=\"frontal\",\n",
    "    thickness=15000,\n",
    "    title=\"WFA diffuse\",\n",
    "    cmap='OrRd',\n",
    "    vmin=0,\n",
    "    vmax=2.5,\n",
    "    format=\"2D\",\n",
    ")\n",
    "heatmap.scene.close()"
   ]
  },
  {
   "cell_type": "markdown",
   "metadata": {},
   "source": [
    "# Energy - Slice and save all images"
   ]
  },
  {
   "cell_type": "code",
   "execution_count": null,
   "metadata": {},
   "outputs": [],
   "source": [
    "OUTPUT_FOLDER = r\"C:\\Users\\Leonardo\\Documents\\MATLAB\\PNN_wholeBrain\\analysis\\paperGraphics\\figure_02\\renderings\"\n",
    "ap = np.linspace(1500,11000,12)\n",
    "\n",
    "for coord in ap:\n",
    "    s = Slicer(coord, \"frontal\", 100, heatmap.scene.root)\n",
    "    heatmap.slicer = s\n",
    "\n",
    "    projected, _ = heatmap.slicer.get_structures_slice_coords(\n",
    "                heatmap.regions_meshes, heatmap.scene.root\n",
    "            )\n",
    "\n",
    "    f, ax = plt.subplots(figsize=(9, 9))\n",
    "    for r, coords in projected.items():\n",
    "        name, segment = r.split(\"_segment_\")\n",
    "        ax.fill(\n",
    "            coords[:, 0],\n",
    "            coords[:, 1],\n",
    "            color=heatmap.colors[name],\n",
    "            label=name if segment == \"0\" and name != \"root\" else None,\n",
    "            lw=1,\n",
    "            ec=\"k\",\n",
    "            zorder=-1 if name == \"root\" else None,\n",
    "            alpha=0.3 if name == \"root\" else None,\n",
    "        )\n",
    "\n",
    "    # style axes\n",
    "    ax.invert_yaxis()\n",
    "    ax.spines[\"right\"].set_visible(False)\n",
    "    ax.spines[\"top\"].set_visible(False)\n",
    "    ax.spines[\"left\"].set_visible(False)\n",
    "    ax.spines['bottom'].set_visible(False)\n",
    "    ax.set_xticks([])\n",
    "    ax.set_yticks([])\n",
    "    ax.set(xlabel='', ylabel='')\n",
    "    ax.set_aspect('equal',adjustable='box')\n",
    "\n",
    "    # Only the right part\n",
    "    ax.set_xlim([5700,11400])\n",
    "\n",
    "    fName = f\"pvEnergy_{coord:05.0f}.svg\"\n",
    "    f.savefig(os.path.join(OUTPUT_FOLDER, fName))"
   ]
  },
  {
   "cell_type": "markdown",
   "metadata": {},
   "source": [
    "# Diffuse - Render the brain"
   ]
  },
  {
   "cell_type": "code",
   "execution_count": null,
   "metadata": {},
   "outputs": [],
   "source": [
    "metric = 'diffuseFluo'\n",
    "\n",
    "bgData = midDf[['acronym',metric]].set_index('acronym')\n",
    "dataDict = bgData[metric].to_dict()\n",
    "\n",
    "print(\"Rendering...\")\n",
    "heatmap = bgh.heatmap(\n",
    "    dataDict,\n",
    "    position=5000,\n",
    "    orientation=\"frontal\",\n",
    "    thickness=15000,\n",
    "    title=\"WFA diffuse\",\n",
    "    cmap='PuBu',\n",
    "    vmin=0,\n",
    "    vmax=2,\n",
    "    format=\"2D\",\n",
    ")\n",
    "heatmap.scene.close()"
   ]
  },
  {
   "cell_type": "markdown",
   "metadata": {},
   "source": [
    "# Diffuse Fluorescence - Slice and save all images"
   ]
  },
  {
   "cell_type": "code",
   "execution_count": null,
   "metadata": {},
   "outputs": [],
   "source": [
    "OUTPUT_FOLDER = r\"C:\\Users\\Leonardo\\Documents\\MATLAB\\PNN_wholeBrain\\analysis\\paperGraphics\\figure_02\\renderings\"\n",
    "ap = np.linspace(1500,11000,12)\n",
    "\n",
    "for coord in ap:\n",
    "    s = Slicer(coord, \"frontal\", 100, heatmap.scene.root)\n",
    "    heatmap.slicer = s\n",
    "\n",
    "    projected, _ = heatmap.slicer.get_structures_slice_coords(\n",
    "                heatmap.regions_meshes, heatmap.scene.root\n",
    "            )\n",
    "\n",
    "    f, ax = plt.subplots(figsize=(9, 9))\n",
    "    for r, coords in projected.items():\n",
    "        name, segment = r.split(\"_segment_\")\n",
    "        ax.fill(\n",
    "            coords[:, 0],\n",
    "            coords[:, 1],\n",
    "            color=heatmap.colors[name],\n",
    "            label=name if segment == \"0\" and name != \"root\" else None,\n",
    "            lw=1,\n",
    "            ec=\"k\",\n",
    "            zorder=-1 if name == \"root\" else None,\n",
    "            alpha=0.3 if name == \"root\" else None,\n",
    "        )\n",
    "\n",
    "    # style axes\n",
    "    ax.invert_yaxis()\n",
    "    ax.spines[\"right\"].set_visible(False)\n",
    "    ax.spines[\"top\"].set_visible(False)\n",
    "\n",
    "    ax.spines[\"left\"].set_visible(False)\n",
    "    ax.spines['bottom'].set_visible(False)\n",
    "    ax.set_xticks([])\n",
    "    ax.set_yticks([])\n",
    "    ax.set(xlabel='', ylabel='')\n",
    "    ax.set_aspect('equal',adjustable='box')\n",
    "\n",
    "    # Only the left part\n",
    "    ax.set_xlim([0,5700])\n",
    "\n",
    "    fName = f\"pvDiffuse_{coord:05.0f}.svg\"\n",
    "    f.savefig(os.path.join(OUTPUT_FOLDER, fName))"
   ]
  }
 ],
 "metadata": {
  "kernelspec": {
   "display_name": "Python 3.9.12 ('base')",
   "language": "python",
   "name": "python3"
  },
  "language_info": {
   "codemirror_mode": {
    "name": "ipython",
    "version": 3
   },
   "file_extension": ".py",
   "mimetype": "text/x-python",
   "name": "python",
   "nbconvert_exporter": "python",
   "pygments_lexer": "ipython3",
   "version": "3.9.12"
  },
  "orig_nbformat": 4,
  "vscode": {
   "interpreter": {
    "hash": "ada140e5069bd8ae1b677b8fd2779c5ce88c2e3360ff7605b9171aa2195a7dfa"
   }
  }
 },
 "nbformat": 4,
 "nbformat_minor": 2
}
